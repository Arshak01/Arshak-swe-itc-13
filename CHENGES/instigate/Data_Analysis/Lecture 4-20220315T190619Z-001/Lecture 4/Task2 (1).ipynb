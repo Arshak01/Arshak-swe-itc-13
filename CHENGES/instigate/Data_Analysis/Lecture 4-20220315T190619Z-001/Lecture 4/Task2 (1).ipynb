{
  "cells": [
    {
      "cell_type": "markdown",
      "metadata": {
        "id": "JM9XDBwoaPnQ"
      },
      "source": [
        "Task1.Եթե որպես ֆունկցիայի պարամետր ստանում եք numpy զանգված (վեկտոր կամ մատրից), և այն չի համապատասխանում խնդրում նշված չափին (dimensions) կամ չափերի անհամաձայնություններ կան, ապա վերադարցրեք(return) **\"DimensionError\"** տեքստը"
      ]
    },
    {
      "cell_type": "code",
      "execution_count": null,
      "metadata": {
        "id": "GkMmEqDhaPnV"
      },
      "outputs": [],
      "source": [
        "import numpy as np\n",
        "import pandas as pd\n",
        "\n",
        "from sklearn.datasets import load_iris\n",
        "iris = load_iris()\n",
        "\n",
        "data = iris['data']\n",
        "feature_names = iris['feature_names']\n",
        "target = iris['target']\n",
        "target_names = iris['target_names']\n",
        "def get_data_frame(data, feature_names, target, target_names):\n",
        "  df = pd.DataFrame(data = data, columns = feature_names)\n",
        "  df['target name'] = target_names[target]\n",
        "  return df\n",
        "\n",
        "df = get_data_frame(data, feature_names, target, target_names)\n",
        "assert isinstance(df, pd.DataFrame)\n",
        "assert df.shape == (150, 5)\n",
        "assert np.all(df.loc[[0, 75, 120], 'target name'].values == target_names)"
      ]
    },
    {
      "cell_type": "markdown",
      "metadata": {
        "id": "XpwS6PukaPnY"
      },
      "source": [
        "Task2.Գտեք յուրաքանչուր ծաղկատեսակի թերթիկի (պսակաթերթ և բաժակաթերթ)\n",
        "\n",
        "1. միջին երկարությունը\n",
        "2. միջին լայնությունը\n",
        "3. նվազագույն երկարությունը\n",
        "4. նվազագույն լայնությունը\n",
        "5. առավելագույն երկարությունը\n",
        "6. առավելագույն լայնությունը\n"
      ]
    },
    {
      "cell_type": "code",
      "execution_count": null,
      "metadata": {
        "id": "PQR-xj4daPnY"
      },
      "outputs": [],
      "source": [
        "def get_stats(df):\n",
        "    sepal_length = df.groupby('target name').agg({'sepal length (cm)' : ['mean', 'max', 'min']})\n",
        "    sepal_length.columns = [\"mean sepal length (cm)\", \"max sepal length (cm)\", \"min sepal length (cm)\"]\n",
        "    sepal_width = df.groupby('target name').agg({'sepal width (cm)' : ['mean', 'max', 'min']})\n",
        "    sepal_width.columns = [\"mean sepal width (cm)\", \"max sepal width (cm)\", \"min sepal width (cm)\"]\n",
        "    petal_length = df.groupby('target name').agg({'petal length (cm)' : ['mean', 'max', 'min']})\n",
        "    petal_length.columns = [\"mean petal length (cm)\", \"max petal length (cm)\", \"min petal length (cm)\"]\n",
        "    petal_width = df.groupby('target name').agg({'petal width (cm)' : ['mean', 'max', 'min']})\n",
        "    petal_width.columns = [\"mean petal width (cm)\", \"max petal width (cm)\", \"min petal width (cm)\"]\n",
        "    tmp = pd.concat([sepal_length, sepal_width, petal_length, petal_width], axis=1)\n",
        "    return tmp\n",
        "\n",
        "df_stats = get_stats(df)\n",
        "assert df_stats.shape == (3, 12)\n",
        "assert all(df_stats.index.to_list() == target_names)\n",
        "assert np.allclose(df_stats.loc[:, \"mean sepal length (cm)\"].values,\n",
        "            np.array([5.006, 5.936, 6.588]))\n",
        "assert np.allclose(df_stats.loc[:, \"min petal width (cm)\"].values,\n",
        "            np.array([0.1, 1.0, 1.4]))\n",
        "assert np.allclose(df_stats.loc[:, \"max petal length (cm)\"].values,\n",
        "            np.array([1.9, 5.1, 6.9]))"
      ]
    },
    {
      "cell_type": "markdown",
      "metadata": {
        "id": "QosjYQGiaPnZ"
      },
      "source": [
        "Task3. ``df`` աղյուսակից ջնջեք այն տողերը, որոնց 'sepal width'-ը փոքր է իր տեսակի միջինից (օգտվելով նախորդ խնդրի հաշվարկներից ``df_stats``)։ Փոփոխությունը կատարեք ``df``-ի վրա և ֆունկցիայով ոչինչ մի վերադարձրեք։"
      ]
    },
    {
      "cell_type": "code",
      "source": [
        "df"
      ],
      "metadata": {
        "colab": {
          "base_uri": "https://localhost:8080/",
          "height": 424
        },
        "id": "ySh85-zRbZAN",
        "outputId": "8db91986-ee55-4bb2-ebfa-265e5fafa93e"
      },
      "execution_count": null,
      "outputs": [
        {
          "output_type": "execute_result",
          "data": {
            "text/html": [
              "\n",
              "  <div id=\"df-826fcfa6-667f-41ca-9e35-800294b51d6a\">\n",
              "    <div class=\"colab-df-container\">\n",
              "      <div>\n",
              "<style scoped>\n",
              "    .dataframe tbody tr th:only-of-type {\n",
              "        vertical-align: middle;\n",
              "    }\n",
              "\n",
              "    .dataframe tbody tr th {\n",
              "        vertical-align: top;\n",
              "    }\n",
              "\n",
              "    .dataframe thead th {\n",
              "        text-align: right;\n",
              "    }\n",
              "</style>\n",
              "<table border=\"1\" class=\"dataframe\">\n",
              "  <thead>\n",
              "    <tr style=\"text-align: right;\">\n",
              "      <th></th>\n",
              "      <th>sepal length (cm)</th>\n",
              "      <th>sepal width (cm)</th>\n",
              "      <th>petal length (cm)</th>\n",
              "      <th>petal width (cm)</th>\n",
              "      <th>target name</th>\n",
              "    </tr>\n",
              "  </thead>\n",
              "  <tbody>\n",
              "    <tr>\n",
              "      <th>0</th>\n",
              "      <td>5.1</td>\n",
              "      <td>3.5</td>\n",
              "      <td>1.4</td>\n",
              "      <td>0.2</td>\n",
              "      <td>setosa</td>\n",
              "    </tr>\n",
              "    <tr>\n",
              "      <th>1</th>\n",
              "      <td>4.9</td>\n",
              "      <td>3.0</td>\n",
              "      <td>1.4</td>\n",
              "      <td>0.2</td>\n",
              "      <td>setosa</td>\n",
              "    </tr>\n",
              "    <tr>\n",
              "      <th>2</th>\n",
              "      <td>4.7</td>\n",
              "      <td>3.2</td>\n",
              "      <td>1.3</td>\n",
              "      <td>0.2</td>\n",
              "      <td>setosa</td>\n",
              "    </tr>\n",
              "    <tr>\n",
              "      <th>3</th>\n",
              "      <td>4.6</td>\n",
              "      <td>3.1</td>\n",
              "      <td>1.5</td>\n",
              "      <td>0.2</td>\n",
              "      <td>setosa</td>\n",
              "    </tr>\n",
              "    <tr>\n",
              "      <th>4</th>\n",
              "      <td>5.0</td>\n",
              "      <td>3.6</td>\n",
              "      <td>1.4</td>\n",
              "      <td>0.2</td>\n",
              "      <td>setosa</td>\n",
              "    </tr>\n",
              "    <tr>\n",
              "      <th>...</th>\n",
              "      <td>...</td>\n",
              "      <td>...</td>\n",
              "      <td>...</td>\n",
              "      <td>...</td>\n",
              "      <td>...</td>\n",
              "    </tr>\n",
              "    <tr>\n",
              "      <th>145</th>\n",
              "      <td>6.7</td>\n",
              "      <td>3.0</td>\n",
              "      <td>5.2</td>\n",
              "      <td>2.3</td>\n",
              "      <td>virginica</td>\n",
              "    </tr>\n",
              "    <tr>\n",
              "      <th>146</th>\n",
              "      <td>6.3</td>\n",
              "      <td>2.5</td>\n",
              "      <td>5.0</td>\n",
              "      <td>1.9</td>\n",
              "      <td>virginica</td>\n",
              "    </tr>\n",
              "    <tr>\n",
              "      <th>147</th>\n",
              "      <td>6.5</td>\n",
              "      <td>3.0</td>\n",
              "      <td>5.2</td>\n",
              "      <td>2.0</td>\n",
              "      <td>virginica</td>\n",
              "    </tr>\n",
              "    <tr>\n",
              "      <th>148</th>\n",
              "      <td>6.2</td>\n",
              "      <td>3.4</td>\n",
              "      <td>5.4</td>\n",
              "      <td>2.3</td>\n",
              "      <td>virginica</td>\n",
              "    </tr>\n",
              "    <tr>\n",
              "      <th>149</th>\n",
              "      <td>5.9</td>\n",
              "      <td>3.0</td>\n",
              "      <td>5.1</td>\n",
              "      <td>1.8</td>\n",
              "      <td>virginica</td>\n",
              "    </tr>\n",
              "  </tbody>\n",
              "</table>\n",
              "<p>150 rows × 5 columns</p>\n",
              "</div>\n",
              "      <button class=\"colab-df-convert\" onclick=\"convertToInteractive('df-826fcfa6-667f-41ca-9e35-800294b51d6a')\"\n",
              "              title=\"Convert this dataframe to an interactive table.\"\n",
              "              style=\"display:none;\">\n",
              "        \n",
              "  <svg xmlns=\"http://www.w3.org/2000/svg\" height=\"24px\"viewBox=\"0 0 24 24\"\n",
              "       width=\"24px\">\n",
              "    <path d=\"M0 0h24v24H0V0z\" fill=\"none\"/>\n",
              "    <path d=\"M18.56 5.44l.94 2.06.94-2.06 2.06-.94-2.06-.94-.94-2.06-.94 2.06-2.06.94zm-11 1L8.5 8.5l.94-2.06 2.06-.94-2.06-.94L8.5 2.5l-.94 2.06-2.06.94zm10 10l.94 2.06.94-2.06 2.06-.94-2.06-.94-.94-2.06-.94 2.06-2.06.94z\"/><path d=\"M17.41 7.96l-1.37-1.37c-.4-.4-.92-.59-1.43-.59-.52 0-1.04.2-1.43.59L10.3 9.45l-7.72 7.72c-.78.78-.78 2.05 0 2.83L4 21.41c.39.39.9.59 1.41.59.51 0 1.02-.2 1.41-.59l7.78-7.78 2.81-2.81c.8-.78.8-2.07 0-2.86zM5.41 20L4 18.59l7.72-7.72 1.47 1.35L5.41 20z\"/>\n",
              "  </svg>\n",
              "      </button>\n",
              "      \n",
              "  <style>\n",
              "    .colab-df-container {\n",
              "      display:flex;\n",
              "      flex-wrap:wrap;\n",
              "      gap: 12px;\n",
              "    }\n",
              "\n",
              "    .colab-df-convert {\n",
              "      background-color: #E8F0FE;\n",
              "      border: none;\n",
              "      border-radius: 50%;\n",
              "      cursor: pointer;\n",
              "      display: none;\n",
              "      fill: #1967D2;\n",
              "      height: 32px;\n",
              "      padding: 0 0 0 0;\n",
              "      width: 32px;\n",
              "    }\n",
              "\n",
              "    .colab-df-convert:hover {\n",
              "      background-color: #E2EBFA;\n",
              "      box-shadow: 0px 1px 2px rgba(60, 64, 67, 0.3), 0px 1px 3px 1px rgba(60, 64, 67, 0.15);\n",
              "      fill: #174EA6;\n",
              "    }\n",
              "\n",
              "    [theme=dark] .colab-df-convert {\n",
              "      background-color: #3B4455;\n",
              "      fill: #D2E3FC;\n",
              "    }\n",
              "\n",
              "    [theme=dark] .colab-df-convert:hover {\n",
              "      background-color: #434B5C;\n",
              "      box-shadow: 0px 1px 3px 1px rgba(0, 0, 0, 0.15);\n",
              "      filter: drop-shadow(0px 1px 2px rgba(0, 0, 0, 0.3));\n",
              "      fill: #FFFFFF;\n",
              "    }\n",
              "  </style>\n",
              "\n",
              "      <script>\n",
              "        const buttonEl =\n",
              "          document.querySelector('#df-826fcfa6-667f-41ca-9e35-800294b51d6a button.colab-df-convert');\n",
              "        buttonEl.style.display =\n",
              "          google.colab.kernel.accessAllowed ? 'block' : 'none';\n",
              "\n",
              "        async function convertToInteractive(key) {\n",
              "          const element = document.querySelector('#df-826fcfa6-667f-41ca-9e35-800294b51d6a');\n",
              "          const dataTable =\n",
              "            await google.colab.kernel.invokeFunction('convertToInteractive',\n",
              "                                                     [key], {});\n",
              "          if (!dataTable) return;\n",
              "\n",
              "          const docLinkHtml = 'Like what you see? Visit the ' +\n",
              "            '<a target=\"_blank\" href=https://colab.research.google.com/notebooks/data_table.ipynb>data table notebook</a>'\n",
              "            + ' to learn more about interactive tables.';\n",
              "          element.innerHTML = '';\n",
              "          dataTable['output_type'] = 'display_data';\n",
              "          await google.colab.output.renderOutput(dataTable, element);\n",
              "          const docLink = document.createElement('div');\n",
              "          docLink.innerHTML = docLinkHtml;\n",
              "          element.appendChild(docLink);\n",
              "        }\n",
              "      </script>\n",
              "    </div>\n",
              "  </div>\n",
              "  "
            ],
            "text/plain": [
              "     sepal length (cm)  sepal width (cm)  ...  petal width (cm)  target name\n",
              "0                  5.1               3.5  ...               0.2       setosa\n",
              "1                  4.9               3.0  ...               0.2       setosa\n",
              "2                  4.7               3.2  ...               0.2       setosa\n",
              "3                  4.6               3.1  ...               0.2       setosa\n",
              "4                  5.0               3.6  ...               0.2       setosa\n",
              "..                 ...               ...  ...               ...          ...\n",
              "145                6.7               3.0  ...               2.3    virginica\n",
              "146                6.3               2.5  ...               1.9    virginica\n",
              "147                6.5               3.0  ...               2.0    virginica\n",
              "148                6.2               3.4  ...               2.3    virginica\n",
              "149                5.9               3.0  ...               1.8    virginica\n",
              "\n",
              "[150 rows x 5 columns]"
            ]
          },
          "metadata": {},
          "execution_count": 3
        }
      ]
    },
    {
      "cell_type": "code",
      "source": [
        "def remove_small_flowers(df, df_stats):\n",
        "  #Your code here\n",
        "  meanS = df_stats[\"mean sepal width (cm)\"][0]\n",
        "  meanVer = df_stats[\"mean sepal width (cm)\"][1]\n",
        "  meanVirg = df_stats[\"mean sepal width (cm)\"][2]\n",
        "\n",
        "  result_set = np.vstack([(df[\"sepal width (cm)\"][:50] < meanS).values, (df[\"sepal width (cm)\"][50:100] < meanVer).values, (df[\"sepal width (cm)\"][100:150] < meanVirg).values]).flatten()\n",
        "  ind = df[result_set].index\n",
        "  df.drop(index=ind, inplace = True)"
      ],
      "metadata": {
        "id": "UWXIep2DcdlR"
      },
      "execution_count": null,
      "outputs": []
    },
    {
      "cell_type": "code",
      "source": [
        "df.shape"
      ],
      "metadata": {
        "colab": {
          "base_uri": "https://localhost:8080/"
        },
        "id": "5ntR7wG1comn",
        "outputId": "bd873556-fae8-4510-8544-cb7a826ad290"
      },
      "execution_count": null,
      "outputs": [
        {
          "output_type": "execute_result",
          "data": {
            "text/plain": [
              "(150, 5)"
            ]
          },
          "metadata": {},
          "execution_count": 4
        }
      ]
    },
    {
      "cell_type": "code",
      "execution_count": null,
      "metadata": {
        "id": "BhReWNvwaPna"
      },
      "outputs": [],
      "source": [
        "\n",
        "# def remove_small_flowers(df, df_stats):\n",
        "#     df = df.loc[((df.iloc[:, -1].values == df_stats.index[0]) & (df.iloc[:, 1].values >= df_stats.iloc[0, 3])) |\n",
        "#         ((df.iloc[:, -1].values == df_stats.index[1]) & (df.iloc[:, 1].values >= df_stats.iloc[1, 3])) |\n",
        "#          ((df.iloc[:, -1].values == df_stats.index[2]) & (df.iloc[:, 1].values >= df_stats.iloc[2, 3]))]\n",
        "#     print(df.shape)\n",
        "df_1 = df.loc[((df.iloc[:, -1].values == df_stats.index[0]) & (df.iloc[:, 1].values >= df_stats.iloc[0, 3])) |\n",
        "        ((df.iloc[:, -1].values == df_stats.index[1]) & (df.iloc[:, 1].values >= df_stats.iloc[1, 3])) |\n",
        "         ((df.iloc[:, -1].values == df_stats.index[2]) & (df.iloc[:, 1].values >= df_stats.iloc[2, 3]))]\n",
        "\n",
        "remove_small_flowers(df, df_stats)"
      ]
    },
    {
      "cell_type": "code",
      "source": [
        "df.shape, df_1.shape"
      ],
      "metadata": {
        "colab": {
          "base_uri": "https://localhost:8080/"
        },
        "id": "A2Ekrx7yaaL1",
        "outputId": "64125f01-43cd-4d7b-bb1d-d70a53c45e93"
      },
      "execution_count": null,
      "outputs": [
        {
          "output_type": "execute_result",
          "data": {
            "text/plain": [
              "((80, 5), (80, 5))"
            ]
          },
          "metadata": {},
          "execution_count": 6
        }
      ]
    },
    {
      "cell_type": "code",
      "source": [
        "(df == df_1).sum()"
      ],
      "metadata": {
        "colab": {
          "base_uri": "https://localhost:8080/"
        },
        "id": "Ic8HWcdictTZ",
        "outputId": "b6867288-c7c1-46b4-98cd-aec494480387"
      },
      "execution_count": null,
      "outputs": [
        {
          "output_type": "execute_result",
          "data": {
            "text/plain": [
              "sepal length (cm)    80\n",
              "sepal width (cm)     80\n",
              "petal length (cm)    80\n",
              "petal width (cm)     80\n",
              "target name          80\n",
              "dtype: int64"
            ]
          },
          "metadata": {},
          "execution_count": 8
        }
      ]
    },
    {
      "cell_type": "code",
      "source": [
        ""
      ],
      "metadata": {
        "id": "NmCNzAvMc2rd"
      },
      "execution_count": null,
      "outputs": []
    },
    {
      "cell_type": "code",
      "execution_count": null,
      "metadata": {
        "id": "mGIPlL-kaPnb",
        "outputId": "fcbbf94f-66f3-4ca6-cccd-b70f56d7434a"
      },
      "outputs": [
        {
          "name": "stdout",
          "output_type": "stream",
          "text": [
            "(80, 5)\n"
          ]
        }
      ],
      "source": [
        "# assert remove_small_flowers(df, df_stats) is None\n",
        "print(df.shape)\n",
        "assert df.shape == (80, 5)\n",
        "assert (df[['petal length (cm)']].min() == 1.0)[0]\n",
        "assert (df[['petal length (cm)']].max() == 6.7)[0]"
      ]
    }
  ],
  "metadata": {
    "interpreter": {
      "hash": "916dbcbb3f70747c44a77c7bcd40155683ae19c65e1c03b4aa3499c5328201f1"
    },
    "kernelspec": {
      "display_name": "Python 3.8.10 64-bit",
      "language": "python",
      "name": "python3"
    },
    "language_info": {
      "codemirror_mode": {
        "name": "ipython",
        "version": 3
      },
      "file_extension": ".py",
      "mimetype": "text/x-python",
      "name": "python",
      "nbconvert_exporter": "python",
      "pygments_lexer": "ipython3",
      "version": "3.8.10"
    },
    "orig_nbformat": 4,
    "colab": {
      "name": "Task2.ipynb",
      "provenance": []
    }
  },
  "nbformat": 4,
  "nbformat_minor": 0
}