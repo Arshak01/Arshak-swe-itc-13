{
 "cells": [
  {
   "cell_type": "code",
   "execution_count": null,
   "metadata": {},
   "outputs": [],
   "source": [
    "import numpy as np\n",
    "import pandas as pd"
   ]
  },
  {
   "cell_type": "markdown",
   "metadata": {},
   "source": [
    "Problem1. Տրված են՝ \n",
    "\n",
    "data $\\rightarrow$ numpy մատրից $150 \\times 4$ չափի\n",
    "\n",
    "feature_names $\\rightarrow$ string-երի list 4 էլեմենտներով\n",
    "\n",
    "target $\\rightarrow$ numpy վեկտոր $150$ չափի\n",
    "\n",
    "target_names $\\rightarrow$ string-երի list 3 էլեմենտներով\n",
    "\n",
    "փոփոխականները (որոնք ստեղծված են վերևում)։ Պահանջվում է ստեղծել pandas DataFrame որը կունենա 5 սյուն և 150 տող։ Առաջին 4 սյուներում գրված կլինի 'data' փոփոխականի պարունակությունը։ Իսկ հինգերորդ սյան մեջ կլինի 'target'-ը, բայց ամեն թվի փոխարեն գրված 'target_names'-ի համապատասխան ինդեքսով տարրը։ Առաջին 4 սյուների անունները կլինեն  'feature_names'-ի էլեմենտները (տրված հերթականությամբ), իսկ հինգերորդի անունը կլինի \"target name\": \n",
    "\n",
    "Վերջնական DataFrame-ի առաջին 5 տողերը կունենան հետևյալ տեսքը՝\n",
    "```\n",
    "\tsepal length (cm)\tsepal width (cm)\tpetal length (cm)\tpetal width (cm)\ttarget name\n",
    "0\t     5.1             \t3.5\t                1.4\t           0.2\t          setosa\n",
    "1\t     4.9            \t 3.0                \t1.4           \t0.2\t          setosa\n",
    "2\t     4.7             \t3.2                \t1.3           \t0.2\t          setosa\n",
    "3\t     4.6\t             3.1                \t1.5           \t0.2\t          setosa\n",
    "4\t     5.0             \t3.6                \t1.4           \t0.2\t          setosa\n",
    "```\n",
    "\n",
    "**Ստացված DataFrame֊ը օգտագործվելու է հաջորդ խնդիրներում**։"
   ]
  },
  {
   "cell_type": "code",
   "execution_count": null,
   "metadata": {},
   "outputs": [],
   "source": [
    "from sklearn.datasets import load_iris\n",
    "iris = load_iris()\n",
    "data = iris['data']\n",
    "feature_names = iris['feature_names']\n",
    "target = iris['target']\n",
    "target_names = iris['target_names']\n",
    "\n",
    "# print('First 5 rows:', data[:5], sep='\\n', end='\\n\\n')\n",
    "# print('Feature names:', feature_names, sep='\\n', end='\\n\\n')\n",
    "# print('Target indices:', target, sep='\\n', end='\\n\\n')\n",
    "print('Target names:', target_names, sep='\\n')"
   ]
  },
  {
   "cell_type": "code",
   "execution_count": null,
   "metadata": {},
   "outputs": [],
   "source": [
    "def get_data_frame(data, feature_names, target, target_names):\n",
    "  tmp = pd.DataFrame(data, columns = feature_names)\n",
    "  tmp[\"target name\"] = target_names[target]\n",
    "  return tmp"
   ]
  },
  {
   "cell_type": "code",
   "execution_count": null,
   "metadata": {},
   "outputs": [],
   "source": [
    "df = get_data_frame(data, feature_names, target, target_names)\n",
    "assert isinstance(df, pd.DataFrame)\n",
    "assert df.shape == (150, 5)\n",
    "assert np.all(df.loc[[0, 75, 120], 'target name'].values == target_names)\n",
    "df"
   ]
  },
  {
   "cell_type": "markdown",
   "metadata": {},
   "source": [
    "Նախորդ խնդրում ստացված ``df`` աղյուսակի մեջ գրված է ծաղիկների թերթիկների (պսակաթերթի և բաժակաթերթի) երկարությունն ու լայնությունը և համապատասխան ծաղիկի համարը։ {'setosa', 'versicolor', 'virginica'} տեսակները կոդավորված են {0,1,2} թվերով։\n",
    "\n",
    "![picture](https://encrypted-tbn0.gstatic.com/images?q=tbn%3AANd9GcRaU43Ra3xTYTpU2XLBw5yl20Qty3OCJzjDBw&usqp=CAU)\n",
    "\n",
    "Problem2. Գտեք յուրաքանչուր ծաղկատեսակի թերթիկի (պսակաթերթ և բաժակաթերթ)\n",
    "\n",
    "1. միջին երկարությունը\n",
    "2. միջին լայնությունը\n",
    "3. նվազագույն երկարությունը\n",
    "4. նվազագույն լայնությունը\n",
    "5. առավելագույն երկարությունը\n",
    "6. առավելագույն լայնությունը\n",
    "\n",
    "Այս ամենը լցրեք pandas DataFrame-ի մեջ որը ունի հետևյալ սյուները`\n",
    "```python\n",
    "[\"mean sepal length (cm)\", \"mean petal length (cm)\", \"mean sepal width (cm)\", \"mean petal width (cm)\", \"min sepal length (cm)\", \"min petal length (cm)\", \"min sepal width (cm)\", \"min petal width (cm)\", \"max sepal length (cm)\", \"max petal length (cm)\", \"max sepal width (cm)\", \"max petal width (cm)\"]\n",
    "```\n",
    "և \"target name\" ինդեքսը։ Խորհուրդ է տրվում օգտագործել ``pd.group_by`` ֆունկցիան։"
   ]
  },
  {
   "cell_type": "code",
   "execution_count": null,
   "metadata": {},
   "outputs": [],
   "source": [
    "def get_stats(df):\n",
    "\n",
    "    sepal_l = df.groupby('target name').agg({'sepal length (cm)' : ['mean', 'max', 'min']})\n",
    "    sepal_l.columns = [\"mean sepal length (cm)\", \"max sepal length (cm)\", \"min sepal length (cm)\"]\n",
    "    sepal_w = df.groupby('target name').agg({'sepal width (cm)' : ['mean', 'max', 'min']})\n",
    "    sepal_w.columns = [\"mean sepal width (cm)\", \"max sepal width (cm)\", \"min sepal width (cm)\"]\n",
    "    petal_l = df.groupby('target name').agg({'petal length (cm)' : ['mean', 'max', 'min']})\n",
    "    petal_l.columns = [\"mean petal length (cm)\", \"max petal length (cm)\", \"min petal length (cm)\"]\n",
    "    petal_w = df.groupby('target name').agg({'petal width (cm)' : ['mean', 'max', 'min']})\n",
    "    petal_w.columns = [\"mean petal width (cm)\", \"max petal width (cm)\", \"min petal width (cm)\"]\n",
    "    final = pd.concat([sepal_l, sepal_w, petal_l, petal_w], axis=1,)\n",
    "    return final\n"
   ]
  },
  {
   "cell_type": "code",
   "execution_count": null,
   "metadata": {},
   "outputs": [],
   "source": [
    "df_stats = get_stats(df)\n",
    "df_stats\n",
    "assert df_stats.shape == (3, 12)\n",
    "assert all(df_stats.index.to_list() == target_names)\n",
    "assert np.allclose(df_stats.loc[:, \"mean sepal length (cm)\"].values,\n",
    "            np.array([5.006, 5.936, 6.588]))\n",
    "assert np.allclose(df_stats.loc[:, \"min petal width (cm)\"].values,\n",
    "            np.array([0.1, 1.0, 1.4]))\n",
    "assert np.allclose(df_stats.loc[:, \"max petal length (cm)\"].values,\n",
    "            np.array([1.9, 5.1, 6.9]))"
   ]
  },
  {
   "cell_type": "markdown",
   "metadata": {},
   "source": [
    "Problem3. ``df`` աղյուսակից ջնջեք այն տողերը, որոնց 'sepal width'-ը փոքր է իր տեսակի միջինից (օգտվելով նախորդ խնդրի հաշվարկներից ``df_stats``)։ Փոփոխությունը կատարեք ``df``-ի վրա և ֆունկցիայով ոչինչ մի վերադարձրեք։"
   ]
  },
  {
   "cell_type": "code",
   "execution_count": null,
   "metadata": {},
   "outputs": [],
   "source": [
    "def remove_small_flowers(df,df_stats):\n",
    "    state_df = df.loc[((df.iloc[:, -1].values == df_stats.index[0]) & (df.iloc[:, 1].values >= df_stats.iloc[0, 3])) |\n",
    "        ((df.iloc[:, -1].values == df_stats.index[1]) & (df.iloc[:, 1].values >= df_stats.iloc[1, 3])) |\n",
    "         ((df.iloc[:, -1].values == df_stats.index[2]) & (df.iloc[:, 1].values >= df_stats.iloc[2, 3]))]\n",
    "    # ind = df[].index\n",
    "    # df.drop(index=ind,inplace=True)\n",
    "# assert remove_small_flowers(df, df_stats) is None\n",
    "# assert df.shape == (80, 5)\n",
    "# assert (df[['petal length (cm)']].min() == 1.0)[0]\n",
    "# assert (df[['petal length (cm)']].max() == 6.7)[0]"
   ]
  },
  {
   "cell_type": "code",
   "execution_count": null,
   "metadata": {},
   "outputs": [],
   "source": [
    "# print(df)\n",
    "# assert remove_small_flowers(df, df_stats) is None\n",
    "# assert df.shape == (80, 5)\n",
    "# assert (df[['petal length (cm)']].min() == 1.0)[0]\n",
    "# assert (df[['petal length (cm)']].max() == 6.7)[0]"
   ]
  },
  {
   "cell_type": "markdown",
   "metadata": {},
   "source": [
    "Ստորև վանդակն աշխատացնելով ներմուծիր Բոստոն $506\\times13$  չափանի տվյալների բազմությունը, որն իր մեջ պարունակում է Բոստոնի 506 թաղամասերի վերաբերյալ տվյալներ՝ 13 բնութագրիչներով։ Այդ բնութագրիչներն են՝\n",
    "\n",
    "(\"ԱՆՈՒՆ բացատրություն\" ֆորմատով)\n",
    "1. CRIM per capita crime rate by town\n",
    "2. ZN proportion of residential land zoned for lots over 25,000 sq.ft.\n",
    "3. INDUS proportion of non-retail business acres per town\n",
    "4. CHAS Charles River dummy variable (= 1 if tract bounds river; 0 otherwise)\n",
    "5. NOX nitric oxides concentration (parts per 10 million)\n",
    "6. RM average number of rooms per dwelling\n",
    "7. AGE proportion of owner-occupied units built prior to 1940\n",
    "8. DIS weighted distances to five Boston employment centres\n",
    "9. RAD index of accessibility to radial highways\n",
    "10. TAX full-value property-tax rate per $10,000\n",
    "11. PTRATIO pupil-teacher ratio by town\n",
    "12. B 1000(Bk - 0.63)^2 where Bk is the proportion of blacks by town\n",
    "13. LSTAT % lower status of the population\n",
    "\n",
    "\n",
    "Իսկ *y փոփոխականը* 506 երկարությամբ numpy վեկտոր է, որը իրենից ներկայացնում է համապատասխան թաղամասերի տների մեդիան գինը (չափման միավորը՝ $1000)։\n",
    "\n",
    "Problem4. Ստեղծեք dataframe X, y  փոփոխականների հիման վրա (Problem 1.-ի նման)։ Բնութագրիչ սյուների անունները սահմանեք ըստ վերը նշված ցանկից, իսկ վերջին սյան անունը՝  \"MEDV\"։"
   ]
  },
  {
   "cell_type": "code",
   "execution_count": null,
   "metadata": {},
   "outputs": [],
   "source": [
    "from sklearn.datasets import load_boston\n",
    "X, y = load_boston(return_X_y=True)\n",
    "# print(X.shape)"
   ]
  },
  {
   "cell_type": "code",
   "execution_count": null,
   "metadata": {},
   "outputs": [],
   "source": [
    "def get_data_frame(X,y):\n",
    "    coloumn = ['CRIM','ZN','INDUS','CHAS','NOX','RM','AGE','DIS','RAD','TAX','PTRATIO','1000 B','LSTAT']\n",
    "    df = pd.DataFrame(data=X,columns=coloumn)\n",
    "    df['MEDV'] = y\n",
    "    return df\n"
   ]
  },
  {
   "cell_type": "code",
   "execution_count": null,
   "metadata": {},
   "outputs": [],
   "source": [
    "df = get_data_frame(X,y)\n",
    "\n",
    "assert isinstance(df, pd.DataFrame)\n",
    "assert df.shape == (506, 14)\n",
    "assert df.columns.tolist()[:3] == ['CRIM','ZN','INDUS']\n",
    "assert df.columns[-1] == 'MEDV'"
   ]
  },
  {
   "cell_type": "markdown",
   "metadata": {},
   "source": [
    "Problem5. Վերադարձնել 3 \"ամենաէժան թաղամասերի\" տողերը, որտեղ CRIM-ը մեծ է 0.5֊ից։"
   ]
  },
  {
   "cell_type": "code",
   "execution_count": null,
   "metadata": {},
   "outputs": [],
   "source": [
    "def three_less_expensive(df):\n",
    "    df = df.sort_values('MEDV')\n",
    "    return  df.loc[df['CRIM'] > 0.5][:3]"
   ]
  },
  {
   "cell_type": "code",
   "execution_count": null,
   "metadata": {},
   "outputs": [],
   "source": [
    "top3 = three_less_expensive(df)\n",
    "assert top3.MEDV.mean() == 5.2\n",
    "assert top3.INDUS.mean() == 18.1\n",
    "assert top3.TAX.mean() == 666.0"
   ]
  }
 ],
 "metadata": {
  "interpreter": {
   "hash": "916dbcbb3f70747c44a77c7bcd40155683ae19c65e1c03b4aa3499c5328201f1"
  },
  "kernelspec": {
   "display_name": "Python 3.8.10 64-bit",
   "language": "python",
   "name": "python3"
  },
  "language_info": {
   "codemirror_mode": {
    "name": "ipython",
    "version": 3
   },
   "file_extension": ".py",
   "mimetype": "text/x-python",
   "name": "python",
   "nbconvert_exporter": "python",
   "pygments_lexer": "ipython3",
   "version": "3.8.10"
  },
  "orig_nbformat": 4
 },
 "nbformat": 4,
 "nbformat_minor": 2
}
