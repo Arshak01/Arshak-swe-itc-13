{
 "cells": [
  {
   "cell_type": "markdown",
   "metadata": {},
   "source": [
    "Task 1. Compute the euclidean distance between two arrays."
   ]
  },
  {
   "cell_type": "code",
   "execution_count": 43,
   "metadata": {},
   "outputs": [],
   "source": [
    "import numpy as np"
   ]
  },
  {
   "cell_type": "code",
   "execution_count": 44,
   "metadata": {},
   "outputs": [],
   "source": [
    "\n",
    "a, b = np.array([1, 1]), np.array([1, 3])\n",
    "c, d = np.array([-10, 1.5]), np.array([0.9, 3.6])\n",
    "e, f = np.array([1, 1, 1]), np.array([0, -1, 3])\n",
    "g, h = np.array([1, 0, -999]), np.array([1, 3])\n",
    "x, y = np.array([10, -1, 9, 1, 2.98, -0.14]), np.array([0, -1, 3.14, np.pi, 99, np.e])\n",
    "\n",
    "def dist(a,b):\n",
    "    try:\n",
    "        euclid = np.sqrt(np.sum(np.square(a-b)))\n",
    "        return euclid\n",
    "    except ValueError:\n",
    "        return \"DimensionError\"\n",
    "\n",
    "assert dist(a, b) == 2\n",
    "assert round(dist(c, d), 2) == 11.1\n",
    "assert dist(e, f) == 3\n",
    "assert dist(g, h) == \"DimensionError\"\n",
    "assert round(dist(x, y), 2) == 96.78"
   ]
  },
  {
   "cell_type": "markdown",
   "metadata": {},
   "source": [
    "Task 2. Normalize an array so the values range exactly between 0 and 1․"
   ]
  },
  {
   "cell_type": "code",
   "execution_count": 45,
   "metadata": {},
   "outputs": [],
   "source": [
    "def rescale(arr):\n",
    "    try:\n",
    "        return (arr - np.min(arr)) / (np.max(arr) - np.min(arr))\n",
    "    except ValueError:\n",
    "        return \"DimensionError\"\n",
    "\n",
    "assert np.all(rescale(np.array([1, 2, 3, 4])) == [0, 1/3, 2/3, 1])\n",
    "assert np.all(rescale(np.array([0, 1])) == [0, 1])\n",
    "assert np.all(rescale(np.array([0, 10])) == [0, 1])\n",
    "assert np.all(rescale(np.array([1, 2, 4])) == [0, 1/3, 1])"
   ]
  },
  {
   "cell_type": "markdown",
   "metadata": {},
   "source": [
    "Task 3. Find the position of missing values in 1D numpy array."
   ]
  },
  {
   "cell_type": "code",
   "execution_count": 48,
   "metadata": {},
   "outputs": [],
   "source": [
    "def find(a):\n",
    "    try:\n",
    "        return np.argwhere(np.isnan(a))\n",
    "    except ValueError:\n",
    "        return \"DimensionError\"\n",
    "\n",
    "\n",
    "assert np.all(find(np.array([np.nan, 1, 2, np.nan])) == ([0], [3]))\n",
    "assert np.all(find(np.array([np.nan, np.nan])) == ([0], [1]))\n",
    "assert np.all(find(np.array([np.e, 1, 2, 99])) == [])\n",
    "assert np.all(find(np.array([np.e])) == [])\n",
    "assert np.all(find(np.array([])) == [])\n",
    "# assert np.all(find(np.array([np.nan, 1, 2, np.nan])) == [0, 3]) #  syntax error , except exeception\n",
    "# assert np.all(find(np.array([np.nan, np.nan])) == [0, 1])  # syntax except exeception"
   ]
  }
 ],
 "metadata": {
  "interpreter": {
   "hash": "916dbcbb3f70747c44a77c7bcd40155683ae19c65e1c03b4aa3499c5328201f1"
  },
  "kernelspec": {
   "display_name": "Python 3.8.10 64-bit",
   "language": "python",
   "name": "python3"
  },
  "language_info": {
   "codemirror_mode": {
    "name": "ipython",
    "version": 3
   },
   "file_extension": ".py",
   "mimetype": "text/x-python",
   "name": "python",
   "nbconvert_exporter": "python",
   "pygments_lexer": "ipython3",
   "version": "3.8.10"
  },
  "orig_nbformat": 4
 },
 "nbformat": 4,
 "nbformat_minor": 2
}
