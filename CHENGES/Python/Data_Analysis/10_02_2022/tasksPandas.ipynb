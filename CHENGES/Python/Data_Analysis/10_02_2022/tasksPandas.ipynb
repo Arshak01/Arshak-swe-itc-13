{
 "cells": [
  {
   "cell_type": "code",
   "execution_count": null,
   "metadata": {},
   "outputs": [],
   "source": [
    "import numpy as np\n",
    "import pandas as pd"
   ]
  },
  {
   "cell_type": "markdown",
   "metadata": {},
   "source": [
    "Ստորև վանդակն աշխատացնելով ներմուծիր Բոստոն $506\\times13$  չափանի տվյալների բազմությունը, որն իր մեջ պարունակում է Բոստոնի 506 թաղամասերի վերաբերյալ տվյալներ՝ 13 բնութագրիչներով։ Այդ բնութագրիչներն են՝\n",
    "\n",
    "(\"ԱՆՈՒՆ բացատրություն\" ֆորմատով)\n",
    "1. CRIM per capita crime rate by town\n",
    "2. ZN proportion of residential land zoned for lots over 25,000 sq.ft.\n",
    "3. INDUS proportion of non-retail business acres per town\n",
    "4. CHAS Charles River dummy variable (= 1 if tract bounds river; 0 otherwise)\n",
    "5. NOX nitric oxides concentration (parts per 10 million)\n",
    "6. RM average number of rooms per dwelling\n",
    "7. AGE proportion of owner-occupied units built prior to 1940\n",
    "8. DIS weighted distances to five Boston employment centres\n",
    "9. RAD index of accessibility to radial highways\n",
    "10. TAX full-value property-tax rate per $10,000\n",
    "11. PTRATIO pupil-teacher ratio by town\n",
    "12. B 1000(Bk - 0.63)^2 where Bk is the proportion of blacks by town\n",
    "13. LSTAT % lower status of the population\n",
    "\n",
    "\n",
    "Իսկ *y փոփոխականը* 506 երկարությամբ numpy վեկտոր է, որը իրենից ներկայացնում է համապատասխան թաղամասերի տների մեդիան գինը (չափման միավորը՝ $1000)։\n",
    "\n",
    "Problem4. Ստեղծեք dataframe X, y  փոփոխականների հիման վրա (Problem 1.-ի նման)։ Բնութագրիչ սյուների անունները սահմանեք ըստ վերը նշված ցանկից, իսկ վերջին սյան անունը՝  \"MEDV\"։"
   ]
  },
  {
   "cell_type": "code",
   "execution_count": null,
   "metadata": {},
   "outputs": [],
   "source": [
    "from sklearn.datasets import load_boston\n",
    "X, y = load_boston(return_X_y=True)\n",
    "# print(X.shape)"
   ]
  },
  {
   "cell_type": "code",
   "execution_count": null,
   "metadata": {},
   "outputs": [],
   "source": [
    "def get_data_frame(X,y):\n",
    "    coloumn = ['CRIM','ZN','INDUS','CHAS','NOX','RM','AGE','DIS','RAD','TAX','PTRATIO','1000 B','LSTAT']\n",
    "    df = pd.DataFrame(data=X,columns=coloumn)\n",
    "    df['MEDV'] = y\n",
    "    return df\n",
    "  "
   ]
  },
  {
   "cell_type": "code",
   "execution_count": null,
   "metadata": {},
   "outputs": [],
   "source": [
    "df = get_data_frame(X,y)\n",
    "\n",
    "assert isinstance(df, pd.DataFrame)\n",
    "assert df.shape == (506, 14)\n",
    "assert df.columns.tolist()[:3] == ['CRIM','ZN','INDUS']\n",
    "assert df.columns[-1] == 'MEDV'"
   ]
  },
  {
   "cell_type": "markdown",
   "metadata": {},
   "source": [
    "Problem5. Վերադարձնել 3 \"ամենաէժան թաղամասերի\" տողերը, որտեղ CRIM-ը մեծ է 0.5֊ից։"
   ]
  },
  {
   "cell_type": "code",
   "execution_count": null,
   "metadata": {},
   "outputs": [],
   "source": [
    "def three_less_expensive(df):\n",
    "    df = df.sort_values('MEDV')\n",
    "    return  df.loc[df['CRIM'] > 0.5][:3]"
   ]
  },
  {
   "cell_type": "code",
   "execution_count": null,
   "metadata": {},
   "outputs": [],
   "source": [
    "top3 = three_less_expensive(df)\n",
    "assert top3.MEDV.mean() == 5.2\n",
    "assert top3.INDUS.mean() == 18.1\n",
    "assert top3.TAX.mean() == 666.0"
   ]
  },
  {
   "cell_type": "markdown",
   "metadata": {},
   "source": [
    "Problem6. Վերադարձնել 6 \"ամենաթանկ թաղամասերի\" տողերը, որոնք գտնվում են Չարլզ գետի ափին։"
   ]
  },
  {
   "cell_type": "code",
   "execution_count": null,
   "metadata": {},
   "outputs": [],
   "source": [
    "def three_most_expensive(df):\n",
    "    df = df.sort_values('MEDV',ascending=False)\n",
    "    return df.loc[df['CHAS'] > 0][:6]\n"
   ]
  },
  {
   "cell_type": "code",
   "execution_count": null,
   "metadata": {},
   "outputs": [],
   "source": [
    "# Do not modify this cell\n",
    "top6 = three_most_expensive(df)\n",
    "assert top6.MEDV.mean() == 50.0\n",
    "assert top6.TAX.min() == 198.0\n",
    "assert top6.ZN.max() == 90.0\n",
    "assert isinstance(top6, pd.DataFrame)"
   ]
  },
  {
   "cell_type": "markdown",
   "metadata": {},
   "source": [
    "Problem7. Վերադարձնել միջինում 10 ամենաշատ  սենյակներն ունեցող թաղամասերի միջին սենյակների քանակները (``RM``) և տների մեդիան գները։ Արդյունքը պետք է լինի $10 \\times 2$ չափանի DataFrame՝ դասավորված ըստ ``RM`` սյան նվազման կարգով։"
   ]
  },
  {
   "cell_type": "code",
   "execution_count": null,
   "metadata": {},
   "outputs": [],
   "source": [
    "def ten_most_rooms(df):\n",
    "    df = df.sort_values('RM',ascending=False)\n",
    "    rm = pd.DataFrame(data=df[:10],columns=['RM','MEDV'])\n",
    "    return rm\n"
   ]
  },
  {
   "cell_type": "code",
   "execution_count": null,
   "metadata": {},
   "outputs": [],
   "source": [
    "# Do not modify this cell\n",
    "top10 = ten_most_rooms(df)\n",
    "assert top10.iloc[0].values.tolist() ==  [8.78, 21.9]\n",
    "assert top10.mean().values.tolist() == [8.4388, 44.83]"
   ]
  },
  {
   "cell_type": "markdown",
   "metadata": {},
   "source": [
    "Problem8. ``df``-ում ավելացնել նոր տող ըստ տրված 14 երկարությամբ ``x`` վեկտորի։"
   ]
  },
  {
   "cell_type": "code",
   "execution_count": null,
   "metadata": {},
   "outputs": [],
   "source": [
    "def add_row(df, x):\n",
    "    df.loc[len(df)]=x"
   ]
  },
  {
   "cell_type": "code",
   "execution_count": null,
   "metadata": {},
   "outputs": [],
   "source": [
    "assert len(df) == 506\n",
    "x = np.array([0.006, 18, 2.31, 0, 0.5, 6.5, 65, 4, 1, 296, 15, 396, 5, 19])\n",
    "add_row(df, x)is None\n",
    "assert len(df) == 507\n",
    "assert (df.iloc[-1].values == x).all()"
   ]
  },
  {
   "cell_type": "markdown",
   "metadata": {},
   "source": [
    "Problem9. ``df``-ից ջնջել առաջին սյունը։"
   ]
  },
  {
   "cell_type": "code",
   "execution_count": null,
   "metadata": {},
   "outputs": [],
   "source": [
    "def remove_first_col(df):\n",
    "    df = df.drop(df.columns[[0]],inplace=True, axis=1)\n"
   ]
  },
  {
   "cell_type": "code",
   "execution_count": null,
   "metadata": {},
   "outputs": [],
   "source": [
    "assert df.shape[1] == 14\n",
    "assert remove_first_col(df) is None\n",
    "assert df.shape[1] == 13\n",
    "assert df.columns[0] == 'ZN'\n",
    "assert 'CRIM' not in df.columns"
   ]
  },
  {
   "cell_type": "markdown",
   "metadata": {},
   "source": [
    "Problem10. Օգտագործելով ``groupby`` ֆունկցիան գտնել գետի մոտ գտնվող և չգտնվող թաղամասերի բնութագրիչների միջինները։"
   ]
  },
  {
   "cell_type": "code",
   "execution_count": null,
   "metadata": {},
   "outputs": [],
   "source": [
    "def group_by_river(df):\n",
    "    df = df.groupby('CHAS').mean()\n",
    "    return df"
   ]
  },
  {
   "cell_type": "code",
   "execution_count": null,
   "metadata": {},
   "outputs": [],
   "source": [
    "river_df = group_by_river(df)\n",
    "assert river_df.shape == (2, 12)\n",
    "assert river_df.index.name == 'CHAS'\n",
    "assert river_df.MEDV.values.tolist() == [22.087288135593223, 28.439999999999998]\n",
    "# assert river_df.MEDV.values.tolist() == [22.087288135593223, 28.44]\n",
    "print(river_df.MEDV.values.tolist())"
   ]
  }
 ],
 "metadata": {
  "interpreter": {
   "hash": "916dbcbb3f70747c44a77c7bcd40155683ae19c65e1c03b4aa3499c5328201f1"
  },
  "kernelspec": {
   "display_name": "Python 3.8.10 64-bit",
   "language": "python",
   "name": "python3"
  },
  "language_info": {
   "codemirror_mode": {
    "name": "ipython",
    "version": 3
   },
   "file_extension": ".py",
   "mimetype": "text/x-python",
   "name": "python",
   "nbconvert_exporter": "python",
   "pygments_lexer": "ipython3",
   "version": "3.8.10"
  },
  "orig_nbformat": 4
 },
 "nbformat": 4,
 "nbformat_minor": 2
}
