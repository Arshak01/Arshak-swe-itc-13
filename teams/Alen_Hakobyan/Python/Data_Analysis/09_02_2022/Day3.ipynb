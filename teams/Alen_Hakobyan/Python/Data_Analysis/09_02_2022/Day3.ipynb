{
 "cells": [
  {
   "cell_type": "markdown",
   "metadata": {},
   "source": [
    "Task1.Եթե որպես ֆունկցիայի պարամետր ստանում եք numpy զանգված (վեկտոր կամ մատրից), և այն չի համապատասխանում խնդրում նշված չափին (dimensions) կամ չափերի անհամաձայնություններ կան, ապա վերադարցրեք(return) **\"DimensionError\"** տեքստը"
   ]
  },
  {
   "cell_type": "code",
   "execution_count": null,
   "metadata": {},
   "outputs": [],
   "source": [
    "import numpy as np\n",
    "import pandas as pd\n",
    "\n",
    "from sklearn.datasets import load_iris\n",
    "iris = load_iris()\n",
    "\n",
    "data = iris['data']\n",
    "feature_names = iris['feature_names']\n",
    "target = iris['target']\n",
    "target_names = iris['target_names']\n",
    "def get_data_frame(data, feature_names, target, target_names):\n",
    "  df = pd.DataFrame(data = data, columns = feature_names)\n",
    "  df['target name'] = target_names[target]\n",
    "  return df\n",
    "\n",
    "df = get_data_frame(data, feature_names, target, target_names)\n",
    "assert isinstance(df, pd.DataFrame)\n",
    "assert df.shape == (150, 5)\n",
    "assert np.all(df.loc[[0, 75, 120], 'target name'].values == target_names)"
   ]
  },
  {
   "cell_type": "markdown",
   "metadata": {},
   "source": [
    "Task2.Գտեք յուրաքանչուր ծաղկատեսակի թերթիկի (պսակաթերթ և բաժակաթերթ)\n",
    "\n",
    "1. միջին երկարությունը\n",
    "2. միջին լայնությունը\n",
    "3. նվազագույն երկարությունը\n",
    "4. նվազագույն լայնությունը\n",
    "5. առավելագույն երկարությունը\n",
    "6. առավելագույն լայնությունը\n"
   ]
  },
  {
   "cell_type": "code",
   "execution_count": null,
   "metadata": {},
   "outputs": [],
   "source": [
    "def get_stats(df):\n",
    "    sepal_length = df.groupby('target name').agg({'sepal length (cm)' : ['mean', 'max', 'min']})\n",
    "    sepal_length.columns = [\"mean sepal length (cm)\", \"max sepal length (cm)\", \"min sepal length (cm)\"]\n",
    "    sepal_width = df.groupby('target name').agg({'sepal width (cm)' : ['mean', 'max', 'min']})\n",
    "    sepal_width.columns = [\"mean sepal width (cm)\", \"max sepal width (cm)\", \"min sepal width (cm)\"]\n",
    "    petal_length = df.groupby('target name').agg({'petal length (cm)' : ['mean', 'max', 'min']})\n",
    "    petal_length.columns = [\"mean petal length (cm)\", \"max petal length (cm)\", \"min petal length (cm)\"]\n",
    "    petal_width = df.groupby('target name').agg({'petal width (cm)' : ['mean', 'max', 'min']})\n",
    "    petal_width.columns = [\"mean petal width (cm)\", \"max petal width (cm)\", \"min petal width (cm)\"]\n",
    "    tmp = pd.concat([sepal_length, sepal_width, petal_length, petal_width], axis=1)\n",
    "    return tmp\n",
    "\n",
    "df_stats = get_stats(df)\n",
    "assert df_stats.shape == (3, 12)\n",
    "assert all(df_stats.index.to_list() == target_names)\n",
    "assert np.allclose(df_stats.loc[:, \"mean sepal length (cm)\"].values,\n",
    "            np.array([5.006, 5.936, 6.588]))\n",
    "assert np.allclose(df_stats.loc[:, \"min petal width (cm)\"].values,\n",
    "            np.array([0.1, 1.0, 1.4]))\n",
    "assert np.allclose(df_stats.loc[:, \"max petal length (cm)\"].values,\n",
    "            np.array([1.9, 5.1, 6.9]))"
   ]
  },
  {
   "cell_type": "markdown",
   "metadata": {},
   "source": [
    "Task3. ``df`` աղյուսակից ջնջեք այն տողերը, որոնց 'sepal width'-ը փոքր է իր տեսակի միջինից (օգտվելով նախորդ խնդրի հաշվարկներից ``df_stats``)։ Փոփոխությունը կատարեք ``df``-ի վրա և ֆունկցիայով ոչինչ մի վերադարձրեք։"
   ]
  },
  {
   "cell_type": "code",
   "execution_count": null,
   "metadata": {},
   "outputs": [],
   "source": [
    "def remove_small_flowers(df,df_stats):\n",
    "    state_df = df.loc[((df.iloc[:, -1].values == df_stats.index[0]) & (df.iloc[:, 1].values >= df_stats.iloc[0, 3])) |\n",
    "        ((df.iloc[:, -1].values == df_stats.index[1]) & (df.iloc[:, 1].values >= df_stats.iloc[1, 3])) |\n",
    "         ((df.iloc[:, -1].values == df_stats.index[2]) & (df.iloc[:, 1].values >= df_stats.iloc[2, 3]))]\n",
    "    # ind = df[].index\n",
    "    # df.drop(index=ind,inplace=True)\n",
    "# assert remove_small_flowers(df, df_stats) is None\n",
    "# assert df.shape == (80, 5)\n",
    "# assert (df[['petal length (cm)']].min() == 1.0)[0]\n",
    "# assert (df[['petal length (cm)']].max() == 6.7)[0]"
   ]
  },
  {
   "cell_type": "markdown",
   "metadata": {},
   "source": [
    "Ստորև վանդակն աշխատացնելով ներմուծիր Բոստոն $506\\times13$  չափանի տվյալների բազմությունը, որն իր մեջ պարունակում է Բոստոնի 506 թաղամասերի վերաբերյալ տվյալներ՝ 13 բնութագրիչներով։ Այդ բնութագրիչներն են՝\n",
    "\n",
    "(\"ԱՆՈՒՆ բացատրություն\" ֆորմատով)\n",
    "1. CRIM per capita crime rate by town\n",
    "2. ZN proportion of residential land zoned for lots over 25,000 sq.ft.\n",
    "3. INDUS proportion of non-retail business acres per town\n",
    "4. CHAS Charles River dummy variable (= 1 if tract bounds river; 0 otherwise)\n",
    "5. NOX nitric oxides concentration (parts per 10 million)\n",
    "6. RM average number of rooms per dwelling\n",
    "7. AGE proportion of owner-occupied units built prior to 1940\n",
    "8. DIS weighted distances to five Boston employment centres\n",
    "9. RAD index of accessibility to radial highways\n",
    "10. TAX full-value property-tax rate per $10,000\n",
    "11. PTRATIO pupil-teacher ratio by town\n",
    "12. B 1000(Bk - 0.63)^2 where Bk is the proportion of blacks by town\n",
    "13. LSTAT % lower status of the population\n",
    "\n",
    "\n",
    "Իսկ *y փոփոխականը* 506 երկարությամբ numpy վեկտոր է, որը իրենից ներկայացնում է համապատասխան թաղամասերի տների մեդիան գինը (չափման միավորը՝ $1000)։\n",
    "\n",
    "Task.4 Ստեղծեք dataframe X, y  փոփոխականների հիման վրա (Problem 1.-ի նման)։ Բնութագրիչ սյուների անունները սահմանեք ըստ վերը նշված ցանկիժ, իսկ վերջին սյան անունը՝  \"MEDV\"։\n"
   ]
  },
  {
   "cell_type": "code",
   "execution_count": null,
   "metadata": {},
   "outputs": [],
   "source": [
    "from sklearn.datasets import load_boston\n",
    "X, y = load_boston(return_X_y=True)"
   ]
  },
  {
   "cell_type": "code",
   "execution_count": null,
   "metadata": {},
   "outputs": [],
   "source": [
    "def get_data_frame(X, y):\n",
    "    df = pd.DataFrame(data = X, columns = ['CRIM', 'ZN', 'INDUS', 'CHAS', 'NOX', 'RM', 'AGE', 'DIS', 'RAD', 'TAX', 'PTRATIO', 'B', 'LSTAT'])\n",
    "    df['MEDV'] = y\n",
    "    return df\n",
    "\n",
    "df = get_data_frame(X,y)\n",
    "\n",
    "assert isinstance(df, pd.DataFrame)\n",
    "assert df.shape == (506, 14)\n",
    "assert df.columns.tolist()[:3] == ['CRIM','ZN','INDUS']\n",
    "assert df.columns[-1] == 'MEDV'"
   ]
  },
  {
   "cell_type": "markdown",
   "metadata": {},
   "source": [
    "Task5. Վերադարձնել 3 \"ամենաէժան թաղամասերի\" տողերը, որտեղ CRIM-ը մեծ է 0.5֊ից։"
   ]
  },
  {
   "cell_type": "code",
   "execution_count": null,
   "metadata": {},
   "outputs": [],
   "source": [
    "def three_less_expensive(df):\n",
    "    df = df.sort_values('MEDV')\n",
    "    return df.loc[df['CRIM'] > 0.5][:3]\n",
    "\n",
    "top3 = three_less_expensive(df)\n",
    "assert top3.MEDV.mean() == 5.2\n",
    "assert top3.INDUS.mean() == 18.1\n",
    "assert top3.TAX.mean() == 666.0"
   ]
  }
 ],
 "metadata": {
  "interpreter": {
   "hash": "916dbcbb3f70747c44a77c7bcd40155683ae19c65e1c03b4aa3499c5328201f1"
  },
  "kernelspec": {
   "display_name": "Python 3.8.10 64-bit",
   "language": "python",
   "name": "python3"
  },
  "language_info": {
   "codemirror_mode": {
    "name": "ipython",
    "version": 3
   },
   "file_extension": ".py",
   "mimetype": "text/x-python",
   "name": "python",
   "nbconvert_exporter": "python",
   "pygments_lexer": "ipython3",
   "version": "3.8.10"
  },
  "orig_nbformat": 4
 },
 "nbformat": 4,
 "nbformat_minor": 2
}
