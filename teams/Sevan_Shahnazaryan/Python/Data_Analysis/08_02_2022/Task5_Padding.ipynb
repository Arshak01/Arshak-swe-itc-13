{
 "cells": [
  {
   "cell_type": "code",
   "execution_count": 118,
   "metadata": {},
   "outputs": [],
   "source": [
    "import numpy as np"
   ]
  },
  {
   "cell_type": "code",
   "execution_count": 119,
   "metadata": {},
   "outputs": [],
   "source": [
    "def padding(a, n1, m1):\n",
    "    np.zeros(n1 + 2*n1)\n",
    "    for _ in range(n1):\n",
    "        a = np.vstack((a, np.zeros(len(a[0]))))\n",
    "        a = np.vstack((np.zeros(len(a[0])), a))\n",
    "    for _ in range(m1):\n",
    "        a = np.hstack((a, np.zeros(len(a)).reshape(len(a), 1)))\n",
    "        a = np.hstack((np.zeros(len(a)).reshape(len(a), 1), a))\n",
    "    return a\n",
    "    # a = [np.vstack((a, np.zeros(len(a[0])))) for i in range(n1)]\n",
    "    # a = [np.vstack((np.zeros(len(a[0])), a)) for i in range(n1)]\n",
    "    # a = [np.hstack((a, np.zeros(len(a)).reshape(len(a), 1))) for i in range(m1)]\n",
    "    # a = [np.hstack((np.zeros(len(a)).reshape(len(a), 1), a)) for i in range(m1)]\n",
    "    # print(a)"
   ]
  },
  {
   "cell_type": "code",
   "execution_count": 120,
   "metadata": {},
   "outputs": [],
   "source": [
    "def main():\n",
    "    assert np.all(padding(np.array([[1, 1], [1, 1]]), 1, 2) ==\n",
    "                [[0, 0, 0, 0, 0, 0],\n",
    "                [0, 0, 1, 1, 0, 0],\n",
    "                [0, 0, 1, 1, 0, 0],\n",
    "                [0, 0, 0, 0, 0, 0]])\n",
    "\n",
    "    assert np.all(padding(np.array([[1, 2], [1, 1]]), 0, 2) ==\n",
    "                [[0, 0, 1, 2, 0, 0],\n",
    "                [0, 0, 1, 1, 0, 0]])\n",
    "\n",
    "    assert np.all(padding(np.array([[9]]), 2, 2) ==\n",
    "                [[0, 0, 0, 0, 0],\n",
    "                [0, 0, 0, 0, 0],\n",
    "                [0, 0, 9, 0, 0],\n",
    "                [0, 0, 0, 0, 0],\n",
    "                [0, 0, 0, 0, 0]])"
   ]
  },
  {
   "cell_type": "code",
   "execution_count": 121,
   "metadata": {},
   "outputs": [],
   "source": [
    "if __name__ == '__main__':\n",
    "    main()"
   ]
  }
 ],
 "metadata": {
  "interpreter": {
   "hash": "916dbcbb3f70747c44a77c7bcd40155683ae19c65e1c03b4aa3499c5328201f1"
  },
  "kernelspec": {
   "display_name": "Python 3.8.10 64-bit",
   "language": "python",
   "name": "python3"
  },
  "language_info": {
   "codemirror_mode": {
    "name": "ipython",
    "version": 3
   },
   "file_extension": ".py",
   "mimetype": "text/x-python",
   "name": "python",
   "nbconvert_exporter": "python",
   "pygments_lexer": "ipython3",
   "version": "3.8.10"
  },
  "orig_nbformat": 4
 },
 "nbformat": 4,
 "nbformat_minor": 2
}
