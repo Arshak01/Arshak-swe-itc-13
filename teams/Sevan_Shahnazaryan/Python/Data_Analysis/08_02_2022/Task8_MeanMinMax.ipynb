{
 "cells": [
  {
   "cell_type": "code",
   "execution_count": 187,
   "metadata": {},
   "outputs": [],
   "source": [
    "import numpy as np"
   ]
  },
  {
   "cell_type": "code",
   "execution_count": 188,
   "metadata": {},
   "outputs": [],
   "source": [
    "def fill(a, mode):\n",
    "    a = np.copy(a)\n",
    "    mode = eval(f\"np.nan{mode}(a, axis = 0)\")\n",
    "    index = np.where(np.isnan(a))\n",
    "    a[index] = np.take(mode, index[1])\n",
    "    return a"
   ]
  },
  {
   "cell_type": "code",
   "execution_count": 189,
   "metadata": {},
   "outputs": [],
   "source": [
    "def main():\n",
    "    a = np.array([[np.nan, 200, 10],\n",
    "                [2, 110, np.nan],\n",
    "                [0, 120, 11],\n",
    "                [0, 400, np.nan],\n",
    "                [1, np.nan, 9]])\n",
    "\n",
    "    assert np.all(fill(a, \"mean\") ==\n",
    "                [[0.75, 200.,  10.],\n",
    "                [2., 110.,  10.],\n",
    "                [0., 120.,  11.],\n",
    "                [0., 400.,  10.],\n",
    "                [1., 207.5,   9.]])\n",
    "\n",
    "    assert np.all(fill(a, \"min\") ==\n",
    "                [[0., 200.,  10.],\n",
    "                [2., 110.,   9.],\n",
    "                [0., 120.,  11.],\n",
    "                [0., 400.,   9.],\n",
    "                [1., 110.,   9.]])\n",
    "\n",
    "    assert np.all(fill(a, \"max\") ==\n",
    "                [[2., 200.,  10.],\n",
    "                [2., 110.,  11.],\n",
    "                [0., 120.,  11.],\n",
    "                [0., 400.,  11.],\n",
    "                [1., 400.,   9.]])"
   ]
  },
  {
   "cell_type": "code",
   "execution_count": 190,
   "metadata": {},
   "outputs": [],
   "source": [
    "if __name__ == '__main__':\n",
    "    main()"
   ]
  }
 ],
 "metadata": {
  "interpreter": {
   "hash": "916dbcbb3f70747c44a77c7bcd40155683ae19c65e1c03b4aa3499c5328201f1"
  },
  "kernelspec": {
   "display_name": "Python 3.8.10 64-bit",
   "language": "python",
   "name": "python3"
  },
  "language_info": {
   "codemirror_mode": {
    "name": "ipython",
    "version": 3
   },
   "file_extension": ".py",
   "mimetype": "text/x-python",
   "name": "python",
   "nbconvert_exporter": "python",
   "pygments_lexer": "ipython3",
   "version": "3.8.10"
  },
  "orig_nbformat": 4
 },
 "nbformat": 4,
 "nbformat_minor": 2
}
