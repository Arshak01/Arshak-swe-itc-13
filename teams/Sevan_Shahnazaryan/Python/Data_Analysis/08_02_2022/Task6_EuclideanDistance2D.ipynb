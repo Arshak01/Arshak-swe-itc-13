{
 "cells": [
  {
   "cell_type": "code",
   "execution_count": 145,
   "metadata": {},
   "outputs": [],
   "source": [
    "import numpy as np"
   ]
  },
  {
   "cell_type": "code",
   "execution_count": 146,
   "metadata": {},
   "outputs": [],
   "source": [
    "def dist(a, b):\n",
    "    try:\n",
    "        b = b * np.ones((len(a), len(a[0])))\n",
    "        c =  np.linalg.norm(a-b, axis = 1)\n",
    "        return c\n",
    "    except ValueError:\n",
    "        return \"DimensionError\""
   ]
  },
  {
   "cell_type": "code",
   "execution_count": 147,
   "metadata": {},
   "outputs": [],
   "source": [
    "def main():\n",
    "    a, b = np.array([[1, 1],\n",
    "                    [0, 1],\n",
    "                    [1, 3],\n",
    "                    [4, 5]]), np.array([1, 1])\n",
    "    assert np.all(dist(a, b) == [0., 1., 2., 5.])\n",
    "\n",
    "    a, b = np.array([[np.e, 0, 1.5],\n",
    "                    [0, 1, -10]]), np.array([1, 3.14, 0])\n",
    "    assert np.all(np.round(dist(a, b)) == [4, 10])\n",
    "\n",
    "    a, b = np.array([[1, 1],\n",
    "                    [0, 1]]), np.array([1, 1, 1])\n",
    "    assert dist(a, b) == \"DimensionError\""
   ]
  },
  {
   "cell_type": "code",
   "execution_count": 148,
   "metadata": {},
   "outputs": [],
   "source": [
    "if __name__ == '__main__':\n",
    "    main()"
   ]
  }
 ],
 "metadata": {
  "interpreter": {
   "hash": "916dbcbb3f70747c44a77c7bcd40155683ae19c65e1c03b4aa3499c5328201f1"
  },
  "kernelspec": {
   "display_name": "Python 3.8.10 64-bit",
   "language": "python",
   "name": "python3"
  },
  "language_info": {
   "codemirror_mode": {
    "name": "ipython",
    "version": 3
   },
   "file_extension": ".py",
   "mimetype": "text/x-python",
   "name": "python",
   "nbconvert_exporter": "python",
   "pygments_lexer": "ipython3",
   "version": "3.8.10"
  },
  "orig_nbformat": 4
 },
 "nbformat": 4,
 "nbformat_minor": 2
}
