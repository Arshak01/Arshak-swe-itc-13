{
 "cells": [
  {
   "cell_type": "code",
   "execution_count": 99,
   "metadata": {},
   "outputs": [],
   "source": [
    "import numpy as np"
   ]
  },
  {
   "cell_type": "code",
   "execution_count": 100,
   "metadata": {},
   "outputs": [],
   "source": [
    "def predict_label(a,labels,b):\n",
    "  if(len(b) != len(a[0])):\n",
    "    return \"DimensionError\"\n",
    "  else:\n",
    "    b = b * np.ones((len(a), len(b)))\n",
    "    c = labels[np.argmin(np.array([np.linalg.norm(a-b, axis = 1)]))]\n",
    "    return c"
   ]
  },
  {
   "cell_type": "code",
   "execution_count": 101,
   "metadata": {},
   "outputs": [],
   "source": [
    "def main():\n",
    "    a = np.array([[1, -2],\n",
    "                [2, 5],\n",
    "                [-3, -10],\n",
    "                [3, 2],\n",
    "                [3, 2],\n",
    "                [0, 1]])\n",
    "    labels = np.array([0, 1, 0, 1, 1, 0])\n",
    "\n",
    "    assert predict_label(a, labels, np.array([10, 10])) == 1\n",
    "    assert predict_label(a, labels, np.array([10, -10])) == 0\n",
    "    assert predict_label(a, labels, np.array([10, -1])) == 1\n",
    "    assert predict_label(a, labels, np.array([1, 1, 0])) == \"DimensionError\"\n",
    "\n",
    "    a = np.array([[0, 1, -2],\n",
    "                [2, 1, 5],\n",
    "                [-3, 3.5, -10],\n",
    "                [3, 2, 9],\n",
    "                [3, -2, 9]])\n",
    "    labels = np.array([0, 1, 0, 1, 1])\n",
    "    assert predict_label(a, labels, np.array([1])) == \"DimensionError\"\n",
    "    assert predict_label(a, labels, np.array([1, 1, 0])) == 0\n",
    "    assert predict_label(a, labels, np.array([1, 1, 10])) == 1"
   ]
  },
  {
   "cell_type": "code",
   "execution_count": 102,
   "metadata": {},
   "outputs": [],
   "source": [
    "if __name__ == '__main__':\n",
    "    main()"
   ]
  }
 ],
 "metadata": {
  "interpreter": {
   "hash": "916dbcbb3f70747c44a77c7bcd40155683ae19c65e1c03b4aa3499c5328201f1"
  },
  "kernelspec": {
   "display_name": "Python 3.8.10 64-bit",
   "language": "python",
   "name": "python3"
  },
  "language_info": {
   "codemirror_mode": {
    "name": "ipython",
    "version": 3
   },
   "file_extension": ".py",
   "mimetype": "text/x-python",
   "name": "python",
   "nbconvert_exporter": "python",
   "pygments_lexer": "ipython3",
   "version": "3.8.10"
  },
  "orig_nbformat": 4
 },
 "nbformat": 4,
 "nbformat_minor": 2
}
