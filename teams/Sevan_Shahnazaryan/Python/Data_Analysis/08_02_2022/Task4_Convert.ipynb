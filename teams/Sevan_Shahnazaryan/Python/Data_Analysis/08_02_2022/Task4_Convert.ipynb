{
  "cells": [
    {
      "cell_type": "code",
      "execution_count": 93,
      "metadata": {
        "id": "_ZSntqeiQoYC"
      },
      "outputs": [],
      "source": [
        "import numpy as np"
      ]
    },
    {
      "cell_type": "code",
      "execution_count": 94,
      "metadata": {
        "id": "f5teLdjUQsLF"
      },
      "outputs": [],
      "source": [
        "def convert(a):\n",
        "  b = np.unique(a)\n",
        "  return np.array([(b == i) * 1 for i in a])"
      ]
    },
    {
      "cell_type": "code",
      "execution_count": 95,
      "metadata": {
        "id": "C3evTXfDQvsH"
      },
      "outputs": [],
      "source": [
        "def main():\n",
        "  assert np.all(convert(np.array([0, 0, 2, 3, 2, 4])) ==\n",
        "                [[1, 0, 0, 0],\n",
        "                [1, 0, 0, 0],\n",
        "                [0, 1, 0, 0],\n",
        "                [0, 0, 1, 0],\n",
        "                [0, 1, 0, 0],\n",
        "                [0, 0, 0, 1]])\n",
        "\n",
        "  assert np.all(convert(np.array([-np.pi, 9])) ==\n",
        "                [[1, 0],\n",
        "                [0, 1]])\n",
        "\n",
        "  assert np.all(convert(np.array([-1, 1, 9, 10])) ==\n",
        "                [[1, 0, 0, 0],\n",
        "                [0, 1, 0, 0],\n",
        "                [0, 0, 1, 0],\n",
        "                [0, 0, 0, 1]])\n",
        "\n",
        "  assert np.all(convert(np.array([np.sqrt(2), np.sqrt(2), np.sqrt(2)])) ==\n",
        "                [[1],\n",
        "                [1],\n",
        "                [1]])"
      ]
    },
    {
      "cell_type": "code",
      "execution_count": 96,
      "metadata": {
        "id": "4eTfjlRnQzXU"
      },
      "outputs": [],
      "source": [
        "if __name__ == '__main__':\n",
        "  main()"
      ]
    }
  ],
  "metadata": {
    "colab": {
      "collapsed_sections": [],
      "name": "Task4_Convet.ipynb",
      "provenance": []
    },
    "kernelspec": {
      "display_name": "Python 3",
      "name": "python3"
    },
    "language_info": {
      "codemirror_mode": {
        "name": "ipython",
        "version": 3
      },
      "file_extension": ".py",
      "mimetype": "text/x-python",
      "name": "python",
      "nbconvert_exporter": "python",
      "pygments_lexer": "ipython3",
      "version": "3.8.10"
    }
  },
  "nbformat": 4,
  "nbformat_minor": 0
}
