{
 "cells": [
  {
   "cell_type": "code",
   "execution_count": 17,
   "metadata": {},
   "outputs": [],
   "source": [
    "import numpy as np"
   ]
  },
  {
   "cell_type": "code",
   "execution_count": 18,
   "metadata": {},
   "outputs": [],
   "source": [
    "def dist(a,b):\n",
    "    try:\n",
    "        return np.linalg.norm(a-b)\n",
    "    except ValueError:\n",
    "        return \"DimensionError\""
   ]
  },
  {
   "cell_type": "code",
   "execution_count": 19,
   "metadata": {},
   "outputs": [],
   "source": [
    "def main():\n",
    "    a, b = np.array([1, 1]), np.array([1, 3])\n",
    "    assert dist(a, b) == 2\n",
    "\n",
    "    a, b = np.array([-10, 1.5]), np.array([0.9, 3.6])\n",
    "    assert round(dist(a, b), 2) == 11.1\n",
    "\n",
    "    a, b = np.array([1, 1, 1]), np.array([0, -1, 3])\n",
    "    assert dist(a, b) == 3\n",
    "\n",
    "    a, b = np.array([1, 0, -999]), np.array([1, 3])\n",
    "    assert dist(a, b) == \"DimensionError\"\n",
    "\n",
    "    a, b = np.array([10, -1, 9, 1, 2.98, -0.14]), np.array([0, -1, 3.14, np.pi, 99, np.e])\n",
    "    assert round(dist(a, b), 2) == 96.78"
   ]
  },
  {
   "cell_type": "code",
   "execution_count": 20,
   "metadata": {},
   "outputs": [],
   "source": [
    "if __name__ == \"__main__\":\n",
    "    main()"
   ]
  }
 ],
 "metadata": {
  "interpreter": {
   "hash": "916dbcbb3f70747c44a77c7bcd40155683ae19c65e1c03b4aa3499c5328201f1"
  },
  "kernelspec": {
   "display_name": "Python 3.8.10 64-bit",
   "language": "python",
   "name": "python3"
  },
  "language_info": {
   "codemirror_mode": {
    "name": "ipython",
    "version": 3
   },
   "file_extension": ".py",
   "mimetype": "text/x-python",
   "name": "python",
   "nbconvert_exporter": "python",
   "pygments_lexer": "ipython3",
   "version": "3.8.10"
  },
  "orig_nbformat": 4
 },
 "nbformat": 4,
 "nbformat_minor": 2
}
