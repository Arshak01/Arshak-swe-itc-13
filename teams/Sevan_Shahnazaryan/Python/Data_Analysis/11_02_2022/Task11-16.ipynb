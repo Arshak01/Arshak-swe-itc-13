{
 "cells": [
  {
   "cell_type": "code",
   "execution_count": 1,
   "metadata": {},
   "outputs": [],
   "source": [
    "import numpy as np\n",
    "import pandas as pd"
   ]
  },
  {
   "cell_type": "code",
   "execution_count": 2,
   "metadata": {},
   "outputs": [],
   "source": [
    "#Task11\n",
    "def read_return_top10(file_name):\n",
    "    df = pd.read_csv(file_name)\n",
    "    return df[:10], df"
   ]
  },
  {
   "cell_type": "code",
   "execution_count": 3,
   "metadata": {},
   "outputs": [],
   "source": [
    "def task11(top10):\n",
    "    assert top10.iloc[8]['Name'] == 'Armenia'\n",
    "    assert top10.shape == (10, 63)"
   ]
  },
  {
   "cell_type": "code",
   "execution_count": 4,
   "metadata": {},
   "outputs": [],
   "source": [
    "#Task12\n",
    "def remove_non_countries(df):\n",
    "  df = df.drop(df.index[df.Type != 'Country'], inplace = True)"
   ]
  },
  {
   "cell_type": "code",
   "execution_count": 5,
   "metadata": {},
   "outputs": [],
   "source": [
    "def task12(df):\n",
    "    assert remove_non_countries(df) is None\n",
    "    assert df.Type.nunique() == 1\n",
    "    assert df.shape == (202, 63)"
   ]
  },
  {
   "cell_type": "code",
   "execution_count": 6,
   "metadata": {},
   "outputs": [],
   "source": [
    "#Task13\n",
    "def remove_some_cols(df):\n",
    "  df.drop(columns = ['Code', 'Type', 'Indicator Name'], axis = 1, inplace = True)"
   ]
  },
  {
   "cell_type": "code",
   "execution_count": 7,
   "metadata": {},
   "outputs": [],
   "source": [
    "def task13(df):\n",
    "    assert remove_some_cols(df) is None\n",
    "    assert df.shape == (202, 60)\n",
    "    assert df.columns[1] == '1960'"
   ]
  },
  {
   "cell_type": "code",
   "execution_count": 8,
   "metadata": {},
   "outputs": [],
   "source": [
    "#Task14\n",
    "def save_df(df, file_name):\n",
    "  df.to_csv('MilitaryExpenditureSmall.csv', index = False)"
   ]
  },
  {
   "cell_type": "code",
   "execution_count": 9,
   "metadata": {},
   "outputs": [],
   "source": [
    "def task14(df):\n",
    "    file_name = 'MilitaryExpenditureSmall.csv'\n",
    "    save_df(df, file_name)\n",
    "    small_df = pd.read_csv(file_name)\n",
    "    assert small_df.iloc[0, 0] == 'Aruba'\n",
    "    assert small_df.shape[1] == 60"
   ]
  },
  {
   "cell_type": "code",
   "execution_count": 10,
   "metadata": {},
   "outputs": [],
   "source": [
    "#Task15\n",
    "def info_arm(df):\n",
    "    df = df[df.Name == 'Armenia']\n",
    "    columns = df.columns[~df.isnull().any()]\n",
    "    df = df[columns]\n",
    "    return df"
   ]
  },
  {
   "cell_type": "code",
   "execution_count": 11,
   "metadata": {},
   "outputs": [],
   "source": [
    "def task15(df):\n",
    "    arm = info_arm(df)\n",
    "    assert arm.shape == (1, 26)\n",
    "    assert arm.iloc[:, 1:].max(axis=1).values[0] == 608854649.9\n",
    "    assert '1994' not in arm.columns"
   ]
  },
  {
   "cell_type": "code",
   "execution_count": 12,
   "metadata": {},
   "outputs": [],
   "source": [
    "#Task16\n",
    "def per_country_mean_expense(df):\n",
    "    mean = pd.DataFrame(data = df.mean(axis = 1), columns = ['mean_expense'])\n",
    "    mean.index = df['Name']\n",
    "    mean.dropna(inplace = True)\n",
    "    mean = mean.loc[mean['mean_expense'] != 0]\n",
    "    mean.sort_values(by = 'mean_expense', inplace = True, ascending = False)\n",
    "    return mean"
   ]
  },
  {
   "cell_type": "code",
   "execution_count": 13,
   "metadata": {},
   "outputs": [],
   "source": [
    "def task16(df):\n",
    "    grouped_df = per_country_mean_expense(df)\n",
    "    arm = info_arm(df)\n",
    "    assert grouped_df.loc['Armenia'][0] == arm.iloc[:,1:].mean(axis=1).values[0]\n",
    "    assert grouped_df.shape == (164, 1)\n",
    "    assert grouped_df.index[0] == 'United States'\n",
    "    assert grouped_df.index[-1] == 'Haiti'"
   ]
  },
  {
   "cell_type": "code",
   "execution_count": 14,
   "metadata": {},
   "outputs": [],
   "source": [
    "#Task17\n",
    "def add_columns(df):\n",
    "  improved = df.T\n",
    "  print(df)\n",
    "  dist = []\n",
    "  #improved['dist'] =\n",
    "  for i in range(len(improved)):\n",
    "    print(improved.iloc[i])\n",
    "    min = 100000\n",
    "    dist.append()\n",
    "    for j in improved[i]:\n",
    "      dt = np.linalg.norm(df[i] - j)\n",
    "      if dt < min:\n",
    "        min = dt\n",
    "    dist.append(min)\n",
    "  for i in dist:\n",
    "    print(i)"
   ]
  },
  {
   "cell_type": "code",
   "execution_count": 15,
   "metadata": {},
   "outputs": [],
   "source": [
    "def task17(df):\n",
    "    np.random.seed(42)\n",
    "    df = pd.DataFrame(np.random.randint(1, 100, 40).reshape(10, -1),\n",
    "                    columns=list('pqrs'),\n",
    "                    index=list('abcdefghij'))\n",
    "    new_df = add_columns(df)\n",
    "    assert isinstance(new_df, pd.DataFrame)\n",
    "    assert new_df.loc['a']['nearest_row'] == 'g'\n",
    "    assert new_df.nearest_row.value_counts()[0] == 4\n",
    "    assert id(new_df) != id(df)"
   ]
  },
  {
   "cell_type": "code",
   "execution_count": 16,
   "metadata": {},
   "outputs": [],
   "source": [
    "def main():\n",
    "    top10, df = read_return_top10('Military Expenditure.csv')\n",
    "    task11(top10)\n",
    "    task12(df)\n",
    "    task13(df)\n",
    "    task14(df)\n",
    "    task15(df)\n",
    "    task16(df)\n",
    "    #task17(df)"
   ]
  },
  {
   "cell_type": "code",
   "execution_count": 17,
   "metadata": {},
   "outputs": [
    {
     "name": "stderr",
     "output_type": "stream",
     "text": [
      "/tmp/ipykernel_85617/3278855063.py:3: FutureWarning: Dropping of nuisance columns in DataFrame reductions (with 'numeric_only=None') is deprecated; in a future version this will raise TypeError.  Select only valid columns before calling the reduction.\n",
      "  mean = pd.DataFrame(data = df.mean(axis = 1), columns = ['mean_expense'])\n"
     ]
    }
   ],
   "source": [
    "if __name__ == '__main__':\n",
    "    main()"
   ]
  }
 ],
 "metadata": {
  "interpreter": {
   "hash": "916dbcbb3f70747c44a77c7bcd40155683ae19c65e1c03b4aa3499c5328201f1"
  },
  "kernelspec": {
   "display_name": "Python 3.8.10 64-bit",
   "language": "python",
   "name": "python3"
  },
  "language_info": {
   "codemirror_mode": {
    "name": "ipython",
    "version": 3
   },
   "file_extension": ".py",
   "mimetype": "text/x-python",
   "name": "python",
   "nbconvert_exporter": "python",
   "pygments_lexer": "ipython3",
   "version": "3.8.10"
  },
  "orig_nbformat": 4
 },
 "nbformat": 4,
 "nbformat_minor": 2
}
