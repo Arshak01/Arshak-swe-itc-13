{
 "cells": [
  {
   "cell_type": "code",
   "execution_count": 61,
   "metadata": {},
   "outputs": [],
   "source": [
    "import numpy as np\n",
    "import pandas as pd"
   ]
  },
  {
   "cell_type": "code",
   "execution_count": 62,
   "metadata": {},
   "outputs": [
    {
     "name": "stdout",
     "output_type": "stream",
     "text": [
      "(506, 13)\n"
     ]
    },
    {
     "name": "stderr",
     "output_type": "stream",
     "text": [
      "/home/sevan/.local/lib/python3.8/site-packages/sklearn/utils/deprecation.py:87: FutureWarning: Function load_boston is deprecated; `load_boston` is deprecated in 1.0 and will be removed in 1.2.\n",
      "\n",
      "    The Boston housing prices dataset has an ethical problem. You can refer to\n",
      "    the documentation of this function for further details.\n",
      "\n",
      "    The scikit-learn maintainers therefore strongly discourage the use of this\n",
      "    dataset unless the purpose of the code is to study and educate about\n",
      "    ethical issues in data science and machine learning.\n",
      "\n",
      "    In this special case, you can fetch the dataset from the original\n",
      "    source::\n",
      "\n",
      "        import pandas as pd\n",
      "        import numpy as np\n",
      "\n",
      "\n",
      "        data_url = \"http://lib.stat.cmu.edu/datasets/boston\"\n",
      "        raw_df = pd.read_csv(data_url, sep=\"\\s+\", skiprows=22, header=None)\n",
      "        data = np.hstack([raw_df.values[::2, :], raw_df.values[1::2, :2]])\n",
      "        target = raw_df.values[1::2, 2]\n",
      "\n",
      "    Alternative datasets include the California housing dataset (i.e.\n",
      "    :func:`~sklearn.datasets.fetch_california_housing`) and the Ames housing\n",
      "    dataset. You can load the datasets as follows::\n",
      "\n",
      "        from sklearn.datasets import fetch_california_housing\n",
      "        housing = fetch_california_housing()\n",
      "\n",
      "    for the California housing dataset and::\n",
      "\n",
      "        from sklearn.datasets import fetch_openml\n",
      "        housing = fetch_openml(name=\"house_prices\", as_frame=True)\n",
      "\n",
      "    for the Ames housing dataset.\n",
      "    \n",
      "  warnings.warn(msg, category=FutureWarning)\n"
     ]
    }
   ],
   "source": [
    "from sklearn.datasets import load_boston\n",
    "X, y = load_boston(return_X_y=True)\n",
    "print(X.shape)"
   ]
  },
  {
   "cell_type": "code",
   "execution_count": 63,
   "metadata": {},
   "outputs": [],
   "source": [
    "def get_data_frame(X, y):\n",
    "    columns = ['CRIM', 'ZN', 'INDUS','CHAS', 'NOX', 'RM', 'AGE', 'DIS', 'RAD', 'TAX', 'PTRATIO', 'B', 'LSTAT']\n",
    "    df = pd.DataFrame(data = X, columns = columns)\n",
    "    df['MEDV'] = y\n",
    "    print(df['CHAS'])\n",
    "    return df"
   ]
  },
  {
   "cell_type": "code",
   "execution_count": 64,
   "metadata": {},
   "outputs": [],
   "source": [
    "#Task6\n",
    "def three_most_expensive(df):\n",
    "    return df.sort_values(by='MEDV', ascending=False).loc[df['CHAS'] == 1][:6]"
   ]
  },
  {
   "cell_type": "code",
   "execution_count": 65,
   "metadata": {},
   "outputs": [],
   "source": [
    "def task6(df):\n",
    "    top6 = three_most_expensive(df)\n",
    "    assert top6.MEDV.mean() == 50.0\n",
    "    assert top6.TAX.min() == 198.0\n",
    "    assert top6.ZN.max() == 90.0\n",
    "    assert isinstance(top6, pd.DataFrame)"
   ]
  },
  {
   "cell_type": "code",
   "execution_count": 66,
   "metadata": {},
   "outputs": [],
   "source": [
    "#Task7\n",
    "def ten_most_rooms(df):\n",
    "    return pd.DataFrame(data = df.sort_values(by='RM', ascending=False)[['RM', 'MEDV']][:10])"
   ]
  },
  {
   "cell_type": "code",
   "execution_count": 67,
   "metadata": {},
   "outputs": [],
   "source": [
    "def task7(df):\n",
    "    top10 = ten_most_rooms(df)\n",
    "    assert top10.iloc[0].values.tolist() ==  [8.78, 21.9]\n",
    "    assert top10.mean().values.tolist() == [8.4388, 44.83]"
   ]
  },
  {
   "cell_type": "code",
   "execution_count": 68,
   "metadata": {},
   "outputs": [],
   "source": [
    "#Task8\n",
    "def add_row(df, x):\n",
    "    df.loc[len(df)] = x"
   ]
  },
  {
   "cell_type": "code",
   "execution_count": 69,
   "metadata": {},
   "outputs": [],
   "source": [
    "def task8(df):\n",
    "    assert len(df) == 506\n",
    "    x = np.array([0.006, 18, 2.31, 0, 0.5, 6.5, 65, 4, 1, 296, 15, 396, 5, 19])\n",
    "    assert add_row(df, x) is None\n",
    "    assert len(df) == 507\n",
    "    assert (df.iloc[-1].values == x).all()"
   ]
  },
  {
   "cell_type": "code",
   "execution_count": 70,
   "metadata": {},
   "outputs": [],
   "source": [
    "#Task9\n",
    "def remove_first_col(df):\n",
    "    #df.drop(columns=df.columns[0], axis=1, inplace=True)\n",
    "    df.drop(columns = df.columns[0], axis = 1, inplace = True)"
   ]
  },
  {
   "cell_type": "code",
   "execution_count": 71,
   "metadata": {},
   "outputs": [],
   "source": [
    "def task9(df):\n",
    "    assert df.shape[1] == 14\n",
    "    assert remove_first_col(df) is None\n",
    "    assert df.shape[1] == 13\n",
    "    assert df.columns[0] == 'ZN'\n",
    "    assert 'CRIM' not in df.columns"
   ]
  },
  {
   "cell_type": "code",
   "execution_count": 72,
   "metadata": {},
   "outputs": [],
   "source": [
    "#Task10\n",
    "def group_by_river(df):\n",
    "    print(df.groupby('CHAS').mean().MEDV.values.tolist())\n",
    "    return df.groupby('CHAS').mean()"
   ]
  },
  {
   "cell_type": "code",
   "execution_count": 73,
   "metadata": {},
   "outputs": [],
   "source": [
    "def task10(df):\n",
    "    river_df = group_by_river(df)\n",
    "    assert river_df.shape == (2, 12)\n",
    "    assert river_df.index.name == 'CHAS'\n",
    "    assert river_df.MEDV.values.tolist() == [22.08728813559324, 28.44]"
   ]
  },
  {
   "cell_type": "code",
   "execution_count": 74,
   "metadata": {},
   "outputs": [],
   "source": [
    "def main():\n",
    "    df = get_data_frame(X,y)\n",
    "    task6(df)\n",
    "    task7(df)\n",
    "    task8(df)\n",
    "    task9(df)\n",
    "    task10(df)"
   ]
  },
  {
   "cell_type": "code",
   "execution_count": 75,
   "metadata": {},
   "outputs": [
    {
     "name": "stdout",
     "output_type": "stream",
     "text": [
      "0      0.0\n",
      "1      0.0\n",
      "2      0.0\n",
      "3      0.0\n",
      "4      0.0\n",
      "      ... \n",
      "501    0.0\n",
      "502    0.0\n",
      "503    0.0\n",
      "504    0.0\n",
      "505    0.0\n",
      "Name: CHAS, Length: 506, dtype: float64\n",
      "[22.087288135593223, 28.439999999999998]\n"
     ]
    },
    {
     "ename": "AssertionError",
     "evalue": "",
     "output_type": "error",
     "traceback": [
      "\u001b[0;31m---------------------------------------------------------------------------\u001b[0m",
      "\u001b[0;31mAssertionError\u001b[0m                            Traceback (most recent call last)",
      "\u001b[1;32m/home/sevan/swe-itc-13-homeworks/Sevan_Shahnazaryan/Python/Data_Analysis/10_02_2022/Tasks6-10.ipynb Cell 15'\u001b[0m in \u001b[0;36m<module>\u001b[0;34m\u001b[0m\n\u001b[1;32m      <a href='vscode-notebook-cell:/home/sevan/swe-itc-13-homeworks/Sevan_Shahnazaryan/Python/Data_Analysis/10_02_2022/Tasks6-10.ipynb#ch0000014?line=0'>1</a>\u001b[0m \u001b[39mif\u001b[39;00m \u001b[39m__name__\u001b[39m \u001b[39m==\u001b[39m \u001b[39m'\u001b[39m\u001b[39m__main__\u001b[39m\u001b[39m'\u001b[39m:\n\u001b[0;32m----> <a href='vscode-notebook-cell:/home/sevan/swe-itc-13-homeworks/Sevan_Shahnazaryan/Python/Data_Analysis/10_02_2022/Tasks6-10.ipynb#ch0000014?line=1'>2</a>\u001b[0m     main()\n",
      "\u001b[1;32m/home/sevan/swe-itc-13-homeworks/Sevan_Shahnazaryan/Python/Data_Analysis/10_02_2022/Tasks6-10.ipynb Cell 14'\u001b[0m in \u001b[0;36mmain\u001b[0;34m()\u001b[0m\n\u001b[1;32m      <a href='vscode-notebook-cell:/home/sevan/swe-itc-13-homeworks/Sevan_Shahnazaryan/Python/Data_Analysis/10_02_2022/Tasks6-10.ipynb#ch0000013?line=4'>5</a>\u001b[0m task8(df)\n\u001b[1;32m      <a href='vscode-notebook-cell:/home/sevan/swe-itc-13-homeworks/Sevan_Shahnazaryan/Python/Data_Analysis/10_02_2022/Tasks6-10.ipynb#ch0000013?line=5'>6</a>\u001b[0m task9(df)\n\u001b[0;32m----> <a href='vscode-notebook-cell:/home/sevan/swe-itc-13-homeworks/Sevan_Shahnazaryan/Python/Data_Analysis/10_02_2022/Tasks6-10.ipynb#ch0000013?line=6'>7</a>\u001b[0m task10(df)\n",
      "\u001b[1;32m/home/sevan/swe-itc-13-homeworks/Sevan_Shahnazaryan/Python/Data_Analysis/10_02_2022/Tasks6-10.ipynb Cell 13'\u001b[0m in \u001b[0;36mtask10\u001b[0;34m(df)\u001b[0m\n\u001b[1;32m      <a href='vscode-notebook-cell:/home/sevan/swe-itc-13-homeworks/Sevan_Shahnazaryan/Python/Data_Analysis/10_02_2022/Tasks6-10.ipynb#ch0000012?line=2'>3</a>\u001b[0m \u001b[39massert\u001b[39;00m river_df\u001b[39m.\u001b[39mshape \u001b[39m==\u001b[39m (\u001b[39m2\u001b[39m, \u001b[39m12\u001b[39m)\n\u001b[1;32m      <a href='vscode-notebook-cell:/home/sevan/swe-itc-13-homeworks/Sevan_Shahnazaryan/Python/Data_Analysis/10_02_2022/Tasks6-10.ipynb#ch0000012?line=3'>4</a>\u001b[0m \u001b[39massert\u001b[39;00m river_df\u001b[39m.\u001b[39mindex\u001b[39m.\u001b[39mname \u001b[39m==\u001b[39m \u001b[39m'\u001b[39m\u001b[39mCHAS\u001b[39m\u001b[39m'\u001b[39m\n\u001b[0;32m----> <a href='vscode-notebook-cell:/home/sevan/swe-itc-13-homeworks/Sevan_Shahnazaryan/Python/Data_Analysis/10_02_2022/Tasks6-10.ipynb#ch0000012?line=4'>5</a>\u001b[0m \u001b[39massert\u001b[39;00m river_df\u001b[39m.\u001b[39mMEDV\u001b[39m.\u001b[39mvalues\u001b[39m.\u001b[39mtolist() \u001b[39m==\u001b[39m [\u001b[39m22.08728813559324\u001b[39m, \u001b[39m28.44\u001b[39m]\n",
      "\u001b[0;31mAssertionError\u001b[0m: "
     ]
    }
   ],
   "source": [
    "if __name__ == '__main__':\n",
    "    main()"
   ]
  }
 ],
 "metadata": {
  "interpreter": {
   "hash": "e7370f93d1d0cde622a1f8e1c04877d8463912d04d973331ad4851f04de6915a"
  },
  "kernelspec": {
   "display_name": "Python 3.8.10 64-bit",
   "language": "python",
   "name": "python3"
  },
  "language_info": {
   "codemirror_mode": {
    "name": "ipython",
    "version": 3
   },
   "file_extension": ".py",
   "mimetype": "text/x-python",
   "name": "python",
   "nbconvert_exporter": "python",
   "pygments_lexer": "ipython3",
   "version": "3.8.10"
  },
  "orig_nbformat": 4
 },
 "nbformat": 4,
 "nbformat_minor": 2
}
