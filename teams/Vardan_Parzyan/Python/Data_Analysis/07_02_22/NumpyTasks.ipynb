{
 "cells": [
  {
   "cell_type": "markdown",
   "metadata": {},
   "source": [
    "Problem 1. Compute the euclidean distance between two arrays.\n",
    "\n",
    "\n",
    "> Հաշվիր 2 զանգվածների Էվկլիդյան հեռավորությունը։\n",
    "\n",
    "\n",
    "```\n",
    "a, b = np.array([1, 2]), np.array([1, 3])\n",
    "print(dist(a, b))\n",
    ">>1\n",
    "```\n"
   ]
  },
  {
   "cell_type": "code",
   "execution_count": 1,
   "metadata": {},
   "outputs": [],
   "source": [
    "import numpy as np\n",
    "a, b = np.array([1, 1]), np.array([1, 3])\n",
    "c, d = np.array([-10, 1.5]), np.array([0.9, 3.6])\n",
    "e, f = np.array([1, 1, 1]), np.array([0, -1, 3])\n",
    "g, h = np.array([1, 0, -999]), np.array([1, 3])\n",
    "x, y = np.array([10, -1, 9, 1, 2.98, -0.14]), np.array([0, -1, 3.14, np.pi, 99, np.e])\n",
    "\n",
    "def dist(a,b):\n",
    "    try:\n",
    "        euclid = np.sqrt(np.sum(np.square(a-b)))\n",
    "        return euclid\n",
    "    except ValueError:\n",
    "        return \"DimensionError\"\n",
    "\n",
    "assert dist(a, b) == 2\n",
    "assert round(dist(c, d), 2) == 11.1\n",
    "assert dist(e, f) == 3\n",
    "assert dist(g, h) == \"DimensionError\"\n",
    "assert round(dist(x, y), 2) == 96.78\n"
   ]
  },
  {
   "cell_type": "markdown",
   "metadata": {},
   "source": [
    "Problem 2. Normalize an array so the values range exactly between 0 and 1․\n",
    "\n",
    "> Նորմավորիր զանգվածը այնպես, որ արժեքները լինեն 0-ից 1 միջակայքում։\n",
    "\n",
    "```\n",
    "a = np.array([1,2,3,4])\n",
    "print(rescale(a))\n",
    ">>[0, 0.3333333, 0.66666667, 1]\n",
    "```\n",
    "\n"
   ]
  },
  {
   "cell_type": "code",
   "execution_count": 2,
   "metadata": {},
   "outputs": [],
   "source": [
    "\n",
    "def rescale(arr):\n",
    "    try:\n",
    "        return (arr - np.min(arr)) / (np.max(arr) - np.min(arr))\n",
    "    except ValueError:\n",
    "        return \"DimensionError\"\n",
    "\n",
    "assert np.all(rescale(np.array([1, 2, 3, 4])) == [0, 1/3, 2/3, 1])\n",
    "assert np.all(rescale(np.array([0, 1])) == [0, 1])\n",
    "assert np.all(rescale(np.array([0, 10])) == [0, 1])\n",
    "assert np.all(rescale(np.array([1, 2, 4])) == [0, 1/3, 1])"
   ]
  },
  {
   "cell_type": "markdown",
   "metadata": {},
   "source": [
    "Problem 3. Find the position of missing values in 1D numpy array.\n",
    "\n",
    "> Գտիր բացակայող արժեքների տեղերը 1D numpy զանգվածում:\n",
    "\n",
    "\n",
    "```\n",
    "a = np.array([np.nan, 1, 2])\n",
    "print(find(a))\n",
    ">>[0]\n",
    "```"
   ]
  },
  {
   "cell_type": "code",
   "execution_count": null,
   "metadata": {},
   "outputs": [],
   "source": [
    "def find(a):\n",
    "\n",
    "    return np.argwhere(a!=a)\n",
    "\n",
    "try:\n",
    "    assert np.all(find(np.array([np.nan, 1, 2, np.nan])) == [0, 3])  #1\n",
    "except AssertionError:\n",
    "        print(\"Assertion Error catched\")\n",
    "try:\n",
    "    assert np.all(find(np.array([np.nan, np.nan])) == [0, 1])        #2\n",
    "except AssertionError:\n",
    "        print(\"Assertion Error catched\")\n",
    "\n",
    "assert np.all(find(np.array([np.nan, 1, 2, np.nan])) == ([0],[3])) #    #1 Assertion error fix\n",
    "assert np.all(find(np.array([np.nan, np.nan])) == ([0], [1]))      #    #2 Assertion error fix\n",
    "\n",
    "assert np.all(find(np.array([np.e, 1, 2, 99])) == [])\n",
    "assert np.all(find(np.array([np.e])) == [])\n",
    "assert np.all(find(np.array([])) == [])"
   ]
  },
  {
   "cell_type": "markdown",
   "metadata": {},
   "source": []
  }
 ],
 "metadata": {
  "interpreter": {
   "hash": "916dbcbb3f70747c44a77c7bcd40155683ae19c65e1c03b4aa3499c5328201f1"
  },
  "kernelspec": {
   "display_name": "Python 3.8.10 64-bit",
   "language": "python",
   "name": "python3"
  },
  "language_info": {
   "codemirror_mode": {
    "name": "ipython",
    "version": 3
   },
   "file_extension": ".py",
   "mimetype": "text/x-python",
   "name": "python",
   "nbconvert_exporter": "python",
   "pygments_lexer": "ipython3",
   "version": "3.8.10"
  },
  "orig_nbformat": 4
 },
 "nbformat": 4,
 "nbformat_minor": 2
}
