{
  "cells": [
    {
      "cell_type": "code",
      "execution_count": null,
      "metadata": {
        "id": "irJOuVWENWDP"
      },
      "outputs": [],
      "source": [
        "import numpy as np\n",
        "import pandas as pd\n"
      ]
    },
    {
      "cell_type": "markdown",
      "metadata": {
        "id": "Ov0-Jqpg2ACz"
      },
      "source": [
        "Problem11. ``'Military Expenditure.csv'`` ֆայլի տվյալները կարդացեք DataFrame-ով և վերադարձրեք առաջին 10 տողերը, ինչպես նաև ամբողջ DataFrame-ը։"
      ]
    },
    {
      "cell_type": "code",
      "execution_count": null,
      "metadata": {
        "id": "WjMicO7f2AGu"
      },
      "outputs": [],
      "source": [
        "def read_return_top10(file_name):\n",
        "    data = pd.read_csv(file_name)\n",
        "    df = pd.DataFrame(data)\n",
        "    dfFirst = df[:10]\n",
        "    return dfFirst, df\n"
      ]
    },
    {
      "cell_type": "code",
      "execution_count": null,
      "metadata": {
        "id": "BhdD_dwd2AKt"
      },
      "outputs": [],
      "source": [
        "# Do not modify this cell\n",
        "top10, df = read_return_top10('Military Expenditure.csv')\n",
        "assert top10.iloc[8]['Name'] == 'Armenia'\n",
        "assert top10.shape == (10, 63)"
      ]
    },
    {
      "cell_type": "markdown",
      "metadata": {
        "id": "1umQDIiu8R4E"
      },
      "source": [
        "Military Expenditure dataset-ը պատրաստվել է Ստոկհոլմի խաղաղության միջազգային հետազոտությունների ինստիտուտի (SIPRI) կողմից և պարունակում է ավելի քան 200 պետությունների 1960-2018 թվականներին կատարած ռազմական ծախսերը դոլարներով։\n",
        "\n",
        "Problem12. Ջնջել այն տողերը որոնց 'Type' սյունը \"Country\" *չէ*։"
      ]
    },
    {
      "cell_type": "code",
      "execution_count": null,
      "metadata": {
        "id": "77I9fD9s8R7t"
      },
      "outputs": [],
      "source": [
        "def remove_non_countries(df):\n",
        "    index = df[df['Type']!='Country'].index\n",
        "    df.drop(index,inplace=True)\n",
        "    \n"
      ]
    },
    {
      "cell_type": "code",
      "execution_count": null,
      "metadata": {
        "id": "RrKAWAfH8R_T"
      },
      "outputs": [],
      "source": [
        "assert remove_non_countries(df) is None\n",
        "assert df.Type.nunique() == 1\n",
        "assert df.shape == (202, 63)"
      ]
    },
    {
      "cell_type": "markdown",
      "metadata": {
        "id": "GkG4ZCdV8SDV"
      },
      "source": [
        "Problem13. Ջնջել 'Code', 'Type', 'Indicator Name' սյուները։"
      ]
    },
    {
      "cell_type": "code",
      "execution_count": null,
      "metadata": {
        "id": "ZMa3faHG8SHR"
      },
      "outputs": [],
      "source": [
        "def remove_some_cols(df):\n",
        "  df.drop(['Code', 'Type','Indicator Name'], axis=1, inplace=True)"
      ]
    },
    {
      "cell_type": "code",
      "execution_count": null,
      "metadata": {
        "id": "f1I_nh2C-huU"
      },
      "outputs": [],
      "source": [
        "# Do not modify this cell\n",
        "assert remove_some_cols(df) is None\n",
        "assert df.shape == (202, 60)\n",
        "assert df.columns[1] == '1960'"
      ]
    },
    {
      "cell_type": "markdown",
      "metadata": {
        "id": "CwC6aiht-4yh"
      },
      "source": [
        "Problem14. Ստացված dataframe-ը գրել(պահպանել) 'MilitaryExpenditureSmall.csv' ֆայլի վրա **այնպես, ինչպես որ կա**։"
      ]
    },
    {
      "cell_type": "code",
      "execution_count": null,
      "metadata": {
        "id": "WNOW65Gi-428"
      },
      "outputs": [],
      "source": [
        "def save_df(df, file_name):\n",
        "  df.to_csv(file_name,index=False)"
      ]
    },
    {
      "cell_type": "code",
      "execution_count": null,
      "metadata": {
        "id": "bCfx11nU-47K"
      },
      "outputs": [],
      "source": [
        "# Do not modify this cell\n",
        "file_name = 'MilitaryExpenditureSmall.csv'\n",
        "save_df(df, file_name)\n",
        "small_df = pd.read_csv(file_name)\n",
        "\n",
        "assert small_df.iloc[0, 0] == 'Aruba'\n",
        "assert small_df.shape[1] == 60"
      ]
    },
    {
      "cell_type": "markdown",
      "metadata": {
        "id": "S_YLkrnz-4_d"
      },
      "source": [
        "Problem15. Վերադարձնել Հայաստանին համապատասխանող տողի այն տվյալները/վանդակները որոնք դատարկ չեն։"
      ]
    },
    {
      "cell_type": "code",
      "execution_count": null,
      "metadata": {
        "id": "3DfUpEo6AvHl"
      },
      "outputs": [],
      "source": [
        "def info_arm(df):\n",
        "  index = df[df['Name'] != 'Armenia'].index\n",
        "  test = df.drop(index)\n",
        "  test.dropna(axis = 1,inplace = True  )\n",
        "  return test"
      ]
    },
    {
      "cell_type": "code",
      "execution_count": null,
      "metadata": {
        "id": "4oqBF6fnAvLZ"
      },
      "outputs": [],
      "source": [
        "arm = info_arm(df)\n",
        "assert arm.shape == (1, 26)\n",
        "assert arm.iloc[:, 1:].max(axis=1).values[0] == 608854649.9\n",
        "assert '1994' not in arm.columns"
      ]
    },
    {
      "cell_type": "markdown",
      "metadata": {
        "id": "LaQ2lGT0AvPv"
      },
      "source": [
        "Problem16. Վերադարձնել DataFrame, որտեղ կլինի պետության անունը՝ որպես ինդեքս և յուրաքանչյուր պետության միջին տարեկան ծախսը՝ որպես ``'mean_expense'`` սյուն՝ գրված նվազման կարգով։  Վերջնական աղյուսակում չպետք է լինեն այնպիսի երկրներ, որոնց ծախսերի տվյալները ընդհանրապես առկա չեն կամ 0 են։"
      ]
    },
    {
      "cell_type": "code",
      "execution_count": null,
      "metadata": {
        "id": "nGPb80DRAvSs"
      },
      "outputs": [],
      "source": [
        "def per_country_mean_expense(df):\n",
        "  a = pd.DataFrame(data = df.mean(axis=1), columns = ['mean_expense'])\n",
        "  a.index = df['Name']\n",
        "  a.dropna(inplace = True)\n",
        "  a = a.loc[a['mean_expense'] != 0]\n",
        "  a = a.sort_values('mean_expense',ascending= False)\n",
        "  return a"
      ]
    },
    {
      "cell_type": "code",
      "execution_count": null,
      "metadata": {
        "id": "vGsnpiYSHTCx"
      },
      "outputs": [],
      "source": [
        "# Do not modify this cell\n",
        "grouped_df = per_country_mean_expense(df)\n",
        "assert grouped_df.loc['Armenia'][0] == arm.iloc[:,1:].mean(axis=1).values[0]\n",
        "assert grouped_df.shape == (164, 1)\n",
        "assert grouped_df.index[0] == 'United States'\n",
        "assert grouped_df.index[-1] == 'Haiti'"
      ]
    },
    {
      "cell_type": "markdown",
      "metadata": {
        "id": "YylBqLaCJ-21"
      },
      "source": [
        "Problem17. Տրված է ՝ $10 \\times 4$ չափնի ```pandas.DataFrame (df)```։ Հարկավոր է գրել ֆունկցիա, որը կստեղծի նոր ```pandas.DataFrame```, որի մեջ կլինեն ```df```-ի տողերն ու սյուները և 2 նոր սյուն ```nearest_row```  և ```dist``` որոնց մեջ գրված կլինեն ամենամոտիկ տողի ```index```-ը և էվկլիդյան հեռավորությունը այդ տողերի միջև։ \n"
      ]
    },
    {
      "cell_type": "code",
      "execution_count": null,
      "metadata": {
        "id": "gEl1EDxNP8Ll"
      },
      "outputs": [],
      "source": [
        "def add_columns(df):\n",
        "  temp = df.copy()\n",
        "  nearest_rows = []\n",
        "  nearest_distance = []\n",
        "  for i, row in temp.iterrows():\n",
        "        curr = row\n",
        "        rest = temp.drop(i)\n",
        "        e_dists = {}\n",
        "        for j, x in rest.iterrows():\n",
        "            e_dists.update({j: round(np.linalg.norm(curr.values - x.values))})\n",
        "        nearest_rows.append(min(e_dists, key=e_dists.get))\n",
        "        nearest_distance.append(min(e_dists.values()))\n",
        "  temp['nearest_row'] = nearest_rows\n",
        "  temp['dist'] = nearest_distance\n",
        "  return temp"
      ]
    },
    {
      "cell_type": "code",
      "execution_count": null,
      "metadata": {
        "id": "fmLJwz_X8SLy"
      },
      "outputs": [],
      "source": [
        "np.random.seed(42)\n",
        "df = pd.DataFrame(np.random.randint(1, 100, 40).reshape(10, -1),\n",
        "                  columns=list('pqrs'),\n",
        "                  index=list('abcdefghij'))\n",
        "new_df = add_columns(df)\n",
        "assert isinstance(new_df, pd.DataFrame)\n",
        "assert new_df.loc['a']['nearest_row'] == 'g'\n",
        "assert new_df.nearest_row.value_counts()[0] == 4\n",
        "assert id(new_df) != id(df)"
      ]
    },
    {
      "cell_type": "markdown",
      "metadata": {
        "id": "n3ZSEEqAQush"
      },
      "source": [
        "Problem18. Տրված է՝ $93 \\times 27 $ չափանի ```pandas.DataFrame (df)```։ Հարկավոր է գրել ֆունկցիա, որը կստեղծի նոր ```pandas.DataFrame```, որի մեջ կլինեն ```df```-ի տողերն ու սյուները, բացառությամբ ```Type``` սյան, որի փոխարեն կլինեն մի քանի սյուներ՝ ստացված HW4-ի 4-րդ խնդրի ֆունկցիայի միջոցով։ Սյուների անունները կլինեն ```Type``` սյան արժեքները (Midsize, Small, ...):\n"
      ]
    },
    {
      "cell_type": "code",
      "execution_count": null,
      "metadata": {
        "id": "D09oh5NBQ95V"
      },
      "outputs": [],
      "source": [
        "def convert(df):\n",
        "  df = pd.DataFrame(df)\n",
        "  coloumn = np.sort(df['Type'].dropna().unique())\n",
        "  df = df.drop(['Type'], axis = 1)\n",
        "  df[coloumn] = np.resize(df, (93,6))\n",
        "  return df"
      ]
    },
    {
      "cell_type": "code",
      "execution_count": null,
      "metadata": {
        "id": "0-54pHeXQ99q"
      },
      "outputs": [],
      "source": [
        "# Do not modify this cell\n",
        "df = pd.read_csv(\n",
        "    'https://raw.githubusercontent.com/selva86/datasets/master/Cars93_miss.csv')\n",
        "new_df = convert(df)\n",
        "# assert convert(df).iloc[0]['Small'] == 1\n",
        "assert isinstance(new_df, pd.DataFrame)\n",
        "assert id(new_df) != id(df)\n",
        "assert new_df.shape == (93, 32)\n",
        "assert new_df.columns[-5:].tolist() == ['Large', 'Midsize',\n",
        "                                        'Small', 'Sporty', 'Van']"
      ]
    },
    {
      "cell_type": "markdown",
      "metadata": {
        "id": "eUNZhXmLQ-DY"
      },
      "source": [
        "Problem19. Նախորդ խնդրում ստացված dataset-ի  ```Min.price``` և ```Max.price``` սյուների բացակայող արժեքները լրացնել համապատասխանաբար այդ սյուների  միջինով և մեդիանով՝ օգտագործելով ``apply()`` մեթոդը:\n"
      ]
    },
    {
      "cell_type": "code",
      "execution_count": null,
      "metadata": {
        "id": "MZbU-659ScnJ"
      },
      "outputs": [],
      "source": [
        "def fill_NaN(df):\n",
        "  df = df.fillna(df[[\"Min.Price\"]].mean())\n",
        "  df = df.fillna(df[[\"Max.Price\"]].median())\n",
        "  return df"
      ]
    },
    {
      "cell_type": "code",
      "execution_count": null,
      "metadata": {
        "id": "MdWZqsmmTKAc"
      },
      "outputs": [],
      "source": [
        "# Do not modify this cell\n",
        "assert isinstance(new_df, pd.DataFrame)\n",
        "other_df = fill_NaN(new_df)\n",
        "assert abs(other_df.iloc[3]['Min.Price'] - 17.118605) < 0.0001\n",
        "assert abs(other_df.iloc[4]['Max.Price'] - 19.15) < 0.0001"
      ]
    }
  ],
  "metadata": {
    "colab": {
      "collapsed_sections": [],
      "name": "HW5_Pandas.ipynb",
      "provenance": []
    },
    "kernelspec": {
      "display_name": "Python 3",
      "name": "python3"
    },
    "language_info": {
      "codemirror_mode": {
        "name": "ipython",
        "version": 3
      },
      "file_extension": ".py",
      "mimetype": "text/x-python",
      "name": "python",
      "nbconvert_exporter": "python",
      "pygments_lexer": "ipython3",
      "version": "3.8.10"
    }
  },
  "nbformat": 4,
  "nbformat_minor": 0
}
