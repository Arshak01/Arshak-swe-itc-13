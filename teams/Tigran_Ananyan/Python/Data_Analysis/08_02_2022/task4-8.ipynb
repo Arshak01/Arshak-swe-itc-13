{
 "cells": [
  {
   "cell_type": "code",
   "execution_count": 1,
   "metadata": {},
   "outputs": [],
   "source": [
    "import numpy as np"
   ]
  },
  {
   "cell_type": "markdown",
   "metadata": {},
   "source": [
    "Task 4"
   ]
  },
  {
   "cell_type": "code",
   "execution_count": 2,
   "metadata": {},
   "outputs": [],
   "source": [
    "def convert(a):\n",
    "  b = np.sort(np.unique(a))\n",
    "  m = len(b)\n",
    "  n = len(a)\n",
    "  x = np.zeros((n, m))\n",
    "  for i in range(n):\n",
    "    for j in range(m):\n",
    "      if a[i] == b[j]:\n",
    "        x[i][j] = 1\n",
    "  return x"
   ]
  },
  {
   "cell_type": "code",
   "execution_count": 3,
   "metadata": {},
   "outputs": [],
   "source": [
    "# Do not modify this cell\n",
    "assert np.all(convert(np.array([0, 0, 2, 3, 2, 4])) ==\n",
    "              [[1, 0, 0, 0],\n",
    "               [1, 0, 0, 0],\n",
    "               [0, 1, 0, 0],\n",
    "               [0, 0, 1, 0],\n",
    "               [0, 1, 0, 0],\n",
    "               [0, 0, 0, 1]])\n",
    "\n",
    "assert np.all(convert(np.array([-np.pi, 9])) ==\n",
    "              [[1, 0],\n",
    "               [0, 1]])\n",
    "\n",
    "assert np.all(convert(np.array([-1, 1, 9, 10])) ==\n",
    "              [[1, 0, 0, 0],\n",
    "               [0, 1, 0, 0],\n",
    "               [0, 0, 1, 0],\n",
    "               [0, 0, 0, 1]])\n",
    "\n",
    "assert np.all(convert(np.array([np.sqrt(2), np.sqrt(2), np.sqrt(2)])) ==\n",
    "              [[1],\n",
    "               [1],\n",
    "               [1]])"
   ]
  },
  {
   "cell_type": "markdown",
   "metadata": {},
   "source": [
    "Task 5"
   ]
  },
  {
   "cell_type": "code",
   "execution_count": 4,
   "metadata": {},
   "outputs": [],
   "source": [
    "def padding(a, n1, m1): \n",
    "  #return a.reshape((3, 3))\n",
    "  return np.pad(a, ((n1, n1), (m1, m1)), 'constant', constant_values = 0 )"
   ]
  },
  {
   "cell_type": "code",
   "execution_count": 6,
   "metadata": {},
   "outputs": [],
   "source": [
    "# Do not modify this cell\n",
    "assert np.all(padding(np.array([[1, 1], [1, 1]]), 1, 2) ==\n",
    "              [[0, 0, 0, 0, 0, 0],\n",
    "               [0, 0, 1, 1, 0, 0],\n",
    "               [0, 0, 1, 1, 0, 0],\n",
    "               [0, 0, 0, 0, 0, 0]])\n",
    "\n",
    "assert np.all(padding(np.array([[1, 2], [1, 1]]), 0, 2) ==\n",
    "              [[0, 0, 1, 2, 0, 0],\n",
    "               [0, 0, 1, 1, 0, 0]])\n",
    "\n",
    "assert np.all(padding(np.array([[9]]), 2, 2) ==\n",
    "              [[0, 0, 0, 0, 0],\n",
    "               [0, 0, 0, 0, 0],\n",
    "               [0, 0, 9, 0, 0],\n",
    "               [0, 0, 0, 0, 0],\n",
    "               [0, 0, 0, 0, 0]])"
   ]
  },
  {
   "cell_type": "markdown",
   "metadata": {},
   "source": [
    "Task 6"
   ]
  },
  {
   "cell_type": "code",
   "execution_count": null,
   "metadata": {},
   "outputs": [],
   "source": [
    "def dist(a, b):\n",
    "    if len(a[0]) == len(b):\n",
    "        result = np.sqrt((np.square(a[:,np.newaxis]-b).sum(axis=2)))\n",
    "        c = np.array([])\n",
    "        for x in result:\n",
    "            c = np.append(c,x)\n",
    "        return c\n",
    "    else:\n",
    "        return \"DimensionError\""
   ]
  },
  {
   "cell_type": "code",
   "execution_count": null,
   "metadata": {},
   "outputs": [],
   "source": [
    "# Do not modify this cell\n",
    "a, b = np.array([[1, 1],\n",
    "                 [0, 1],\n",
    "                 [1, 3],\n",
    "                 [4, 5]]), np.array([1, 1])\n",
    "assert np.all(dist(a, b) == [0., 1., 2., 5.])\n",
    "\n",
    "a, b = np.array([[np.e, 0, 1.5],\n",
    "                 [0, 1, -10]]), np.array([1, 3.14, 0])\n",
    "assert np.all(np.round(dist(a, b)) == [4, 10])\n",
    "\n",
    "a, b = np.array([[1, 1],\n",
    "                 [0, 1]]), np.array([1, 1, 1])\n",
    "assert dist(a, b) == \"DimensionError\""
   ]
  },
  {
   "cell_type": "markdown",
   "metadata": {},
   "source": [
    "Task 8"
   ]
  },
  {
   "cell_type": "code",
   "execution_count": 11,
   "metadata": {},
   "outputs": [],
   "source": [
    "def fill(a, mode):\n",
    "      tmp = np.copy(a)\n",
    "      if mode == \"mean\":\n",
    "        mode = np.nanmean(tmp, axis=0)\n",
    "      elif mode == \"min\":\n",
    "        mode = np.nanmin(tmp, axis=0)\n",
    "      elif mode == \"max\":\n",
    "        mode = np.nanmax(tmp, axis=0)\n",
    "      indx = np.where(np.isnan(tmp))\n",
    "      tmp[indx] = np.take(mode, indx[1])\n",
    "      return tmp"
   ]
  },
  {
   "cell_type": "code",
   "execution_count": 13,
   "metadata": {},
   "outputs": [],
   "source": [
    "# Do not modify this cell\n",
    "a = np.array([[np.nan, 200, 10],\n",
    "              [2, 110, np.nan],\n",
    "              [0, 120, 11],\n",
    "              [0, 400, np.nan],\n",
    "              [1, np.nan, 9]])\n",
    "\n",
    "assert np.all(fill(a, \"mean\") ==\n",
    "              [[0.75, 200.,  10.],\n",
    "               [2., 110.,  10.],\n",
    "               [0., 120.,  11.],\n",
    "               [0., 400.,  10.],\n",
    "               [1., 207.5,   9.]])\n",
    "\n",
    "assert np.all(fill(a, \"min\") ==\n",
    "              [[0., 200.,  10.],\n",
    "               [2., 110.,   9.],\n",
    "               [0., 120.,  11.],\n",
    "               [0., 400.,   9.],\n",
    "               [1., 110.,   9.]])\n",
    "\n",
    "assert np.all(fill(a, \"max\") ==\n",
    "              [[2., 200.,  10.],\n",
    "               [2., 110.,  11.],\n",
    "               [0., 120.,  11.],\n",
    "               [0., 400.,  11.],\n",
    "               [1., 400.,   9.]])"
   ]
  },
  {
   "cell_type": "markdown",
   "metadata": {},
   "source": [
    "Task 9"
   ]
  },
  {
   "cell_type": "code",
   "execution_count": 9,
   "metadata": {},
   "outputs": [],
   "source": [
    "def zero_one(x):\n",
    "  a = np.ones((x, x))\n",
    "  a[1:-1, 1:-1] = 0\n",
    "  return a"
   ]
  },
  {
   "cell_type": "code",
   "execution_count": 10,
   "metadata": {},
   "outputs": [],
   "source": [
    "assert np.array_equal(zero_one(3), np.array([[1., 1., 1.],\n",
    "                                            [1., 0., 1.],\n",
    "                                            [1., 1., 1.]]))\n",
    "assert np.array_equal(zero_one(4), np.array([[1., 1., 1., 1],\n",
    "                                            [1., 0., 0., 1],\n",
    "                                            [1., 0., 0., 1],\n",
    "                                            [1., 1., 1., 1]]))"
   ]
  }
 ],
 "metadata": {
  "interpreter": {
   "hash": "55e8b4ad0d577b47d304ddefb219caa71f4a8a88db18b995647a62cb15e60d28"
  },
  "kernelspec": {
   "display_name": "Python 3.8.9 64-bit",
   "language": "python",
   "name": "python3"
  },
  "language_info": {
   "codemirror_mode": {
    "name": "ipython",
    "version": 3
   },
   "file_extension": ".py",
   "mimetype": "text/x-python",
   "name": "python",
   "nbconvert_exporter": "python",
   "pygments_lexer": "ipython3",
   "version": "3.8.9"
  },
  "orig_nbformat": 4
 },
 "nbformat": 4,
 "nbformat_minor": 2
}
