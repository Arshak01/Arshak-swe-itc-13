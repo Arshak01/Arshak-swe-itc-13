{
 "cells": [
  {
   "cell_type": "code",
   "execution_count": 53,
   "metadata": {},
   "outputs": [],
   "source": [
    "import numpy as np\n",
    "import pandas as pd\n",
    "import sklearn "
   ]
  },
  {
   "cell_type": "markdown",
   "metadata": {},
   "source": [
    "Task 1"
   ]
  },
  {
   "cell_type": "code",
   "execution_count": 54,
   "metadata": {},
   "outputs": [
    {
     "name": "stdout",
     "output_type": "stream",
     "text": [
      "First 5 rows:\n",
      "[[5.1 3.5 1.4 0.2]\n",
      " [4.9 3.  1.4 0.2]\n",
      " [4.7 3.2 1.3 0.2]\n",
      " [4.6 3.1 1.5 0.2]\n",
      " [5.  3.6 1.4 0.2]]\n",
      "\n",
      "Feature names:\n",
      "['sepal length (cm)', 'sepal width (cm)', 'petal length (cm)', 'petal width (cm)']\n",
      "\n",
      "Target indices:\n",
      "[0 0 0 0 0 0 0 0 0 0 0 0 0 0 0 0 0 0 0 0 0 0 0 0 0 0 0 0 0 0 0 0 0 0 0 0 0\n",
      " 0 0 0 0 0 0 0 0 0 0 0 0 0 1 1 1 1 1 1 1 1 1 1 1 1 1 1 1 1 1 1 1 1 1 1 1 1\n",
      " 1 1 1 1 1 1 1 1 1 1 1 1 1 1 1 1 1 1 1 1 1 1 1 1 1 1 2 2 2 2 2 2 2 2 2 2 2\n",
      " 2 2 2 2 2 2 2 2 2 2 2 2 2 2 2 2 2 2 2 2 2 2 2 2 2 2 2 2 2 2 2 2 2 2 2 2 2\n",
      " 2 2]\n",
      "\n",
      "Target names:\n",
      "['setosa' 'versicolor' 'virginica']\n"
     ]
    }
   ],
   "source": [
    "# Run this cell\n",
    "# Do not modify this cell\n",
    "from sklearn.datasets import load_iris\n",
    "iris = load_iris()\n",
    "\n",
    "data = iris['data']\n",
    "feature_names = iris['feature_names']\n",
    "target = iris['target']\n",
    "target_names = iris['target_names']\n",
    "\n",
    "print('First 5 rows:', data[:5], sep='\\n', end='\\n\\n')\n",
    "print('Feature names:', feature_names, sep='\\n', end='\\n\\n')\n",
    "print('Target indices:', target, sep='\\n', end='\\n\\n')\n",
    "print('Target names:', target_names, sep='\\n')"
   ]
  },
  {
   "cell_type": "code",
   "execution_count": 55,
   "metadata": {},
   "outputs": [],
   "source": [
    "def get_data_frame(data, feature_names, target, target_names):\n",
    "  df = pd.DataFrame(data, columns = feature_names)\n",
    "  df['target name'] = target_names[target]\n",
    "  return df\n"
   ]
  },
  {
   "cell_type": "code",
   "execution_count": 56,
   "metadata": {},
   "outputs": [],
   "source": [
    "# Do not modify this cell\n",
    "df = get_data_frame(data, feature_names, target, target_names)\n",
    "\n",
    "assert isinstance(df, pd.DataFrame)\n",
    "assert df.shape == (150, 5)\n",
    "assert np.all(df.loc[[0, 75, 120], 'target name'].values == target_names)"
   ]
  },
  {
   "cell_type": "markdown",
   "metadata": {},
   "source": [
    "Task 2\n"
   ]
  },
  {
   "cell_type": "code",
   "execution_count": 57,
   "metadata": {},
   "outputs": [
    {
     "data": {
      "text/html": [
       "<div>\n",
       "<style scoped>\n",
       "    .dataframe tbody tr th:only-of-type {\n",
       "        vertical-align: middle;\n",
       "    }\n",
       "\n",
       "    .dataframe tbody tr th {\n",
       "        vertical-align: top;\n",
       "    }\n",
       "\n",
       "    .dataframe thead th {\n",
       "        text-align: right;\n",
       "    }\n",
       "</style>\n",
       "<table border=\"1\" class=\"dataframe\">\n",
       "  <thead>\n",
       "    <tr style=\"text-align: right;\">\n",
       "      <th></th>\n",
       "      <th>mean sepal length (cm)</th>\n",
       "      <th>mean sepal width (cm)</th>\n",
       "      <th>mean petal length (cm)</th>\n",
       "      <th>mean petal width (cm)</th>\n",
       "      <th>min sepal length (cm)</th>\n",
       "      <th>min sepal width (cm)</th>\n",
       "      <th>min petal length (cm)</th>\n",
       "      <th>min petal width (cm)</th>\n",
       "      <th>max sepal length (cm)</th>\n",
       "      <th>max sepal width (cm)</th>\n",
       "      <th>max petal length (cm)</th>\n",
       "      <th>max petal width (cm)</th>\n",
       "    </tr>\n",
       "  </thead>\n",
       "  <tbody>\n",
       "    <tr>\n",
       "      <th>setosa</th>\n",
       "      <td>5.006</td>\n",
       "      <td>3.428</td>\n",
       "      <td>1.462</td>\n",
       "      <td>0.246</td>\n",
       "      <td>4.3</td>\n",
       "      <td>2.3</td>\n",
       "      <td>1.0</td>\n",
       "      <td>0.1</td>\n",
       "      <td>5.8</td>\n",
       "      <td>4.4</td>\n",
       "      <td>1.9</td>\n",
       "      <td>0.6</td>\n",
       "    </tr>\n",
       "    <tr>\n",
       "      <th>versicolor</th>\n",
       "      <td>5.936</td>\n",
       "      <td>2.770</td>\n",
       "      <td>4.260</td>\n",
       "      <td>1.326</td>\n",
       "      <td>4.9</td>\n",
       "      <td>2.0</td>\n",
       "      <td>3.0</td>\n",
       "      <td>1.0</td>\n",
       "      <td>7.0</td>\n",
       "      <td>3.4</td>\n",
       "      <td>5.1</td>\n",
       "      <td>1.8</td>\n",
       "    </tr>\n",
       "    <tr>\n",
       "      <th>virginica</th>\n",
       "      <td>6.588</td>\n",
       "      <td>2.974</td>\n",
       "      <td>5.552</td>\n",
       "      <td>2.026</td>\n",
       "      <td>4.9</td>\n",
       "      <td>2.2</td>\n",
       "      <td>4.5</td>\n",
       "      <td>1.4</td>\n",
       "      <td>7.9</td>\n",
       "      <td>3.8</td>\n",
       "      <td>6.9</td>\n",
       "      <td>2.5</td>\n",
       "    </tr>\n",
       "  </tbody>\n",
       "</table>\n",
       "</div>"
      ],
      "text/plain": [
       "            mean sepal length (cm)  mean sepal width (cm)  \\\n",
       "setosa                       5.006                  3.428   \n",
       "versicolor                   5.936                  2.770   \n",
       "virginica                    6.588                  2.974   \n",
       "\n",
       "            mean petal length (cm)  mean petal width (cm)  \\\n",
       "setosa                       1.462                  0.246   \n",
       "versicolor                   4.260                  1.326   \n",
       "virginica                    5.552                  2.026   \n",
       "\n",
       "            min sepal length (cm)  min sepal width (cm)  \\\n",
       "setosa                        4.3                   2.3   \n",
       "versicolor                    4.9                   2.0   \n",
       "virginica                     4.9                   2.2   \n",
       "\n",
       "            min petal length (cm)  min petal width (cm)  \\\n",
       "setosa                        1.0                   0.1   \n",
       "versicolor                    3.0                   1.0   \n",
       "virginica                     4.5                   1.4   \n",
       "\n",
       "            max sepal length (cm)  max sepal width (cm)  \\\n",
       "setosa                        5.8                   4.4   \n",
       "versicolor                    7.0                   3.4   \n",
       "virginica                     7.9                   3.8   \n",
       "\n",
       "            max petal length (cm)  max petal width (cm)  \n",
       "setosa                        1.9                   0.6  \n",
       "versicolor                    5.1                   1.8  \n",
       "virginica                     6.9                   2.5  "
      ]
     },
     "execution_count": 57,
     "metadata": {},
     "output_type": "execute_result"
    }
   ],
   "source": [
    "col = [\"mean sepal length (cm)\", \"mean sepal width (cm)\", \"mean petal length (cm)\", \"mean petal width (cm)\", \"min sepal length (cm)\", \"min sepal width (cm)\", \"min petal length (cm)\", \"min petal width (cm)\", \"max sepal length (cm)\", \"max sepal width (cm)\", \"max petal length (cm)\", \"max petal width (cm)\"]\n",
    "def get_stats(df):\n",
    "  mean = df.groupby(['target name']).mean()\n",
    "  max = df.groupby(['target name']).max()\n",
    "  min = df.groupby(['target name']).min()\n",
    "  data = np.concatenate([mean, min, max], axis = 1)\n",
    "  df_stats = pd.DataFrame( data,index = target_names, columns=col)\n",
    "  return df_stats\n",
    "get_stats(df)"
   ]
  },
  {
   "cell_type": "code",
   "execution_count": 58,
   "metadata": {},
   "outputs": [],
   "source": [
    "# Do not modify this cell\n",
    "df_stats = get_stats(df)\n",
    "assert df_stats.shape == (3, 12)\n",
    "assert all(df_stats.index.to_list() == target_names)\n",
    "assert np.allclose(df_stats.loc[:, \"mean sepal length (cm)\"].values,\n",
    "            np.array([5.006, 5.936, 6.588]))\n",
    "assert np.allclose(df_stats.loc[:, \"min petal width (cm)\"].values,\n",
    "            np.array([0.1, 1.0, 1.4]))\n",
    "assert np.allclose(df_stats.loc[:, \"max petal length (cm)\"].values,\n",
    "            np.array([1.9, 5.1, 6.9]))"
   ]
  },
  {
   "cell_type": "markdown",
   "metadata": {},
   "source": [
    "Task  3   "
   ]
  },
  {
   "cell_type": "code",
   "execution_count": 59,
   "metadata": {},
   "outputs": [],
   "source": [
    "def remove_small_flowers(df, df_stats):\n",
    "  a = df.loc[(df['sepal width (cm)'] > df_stats['mean sepal width (cm)'][0]) & (df['target name'] == df_stats.index[0]) , :]\n",
    "  b = df.loc[(df['sepal width (cm)'] > df_stats['mean sepal width (cm)'][1]) & (df['target name'] == df_stats.index[1]) , :]\n",
    "  c = df.loc[(df['sepal width (cm)'] > df_stats['mean sepal width (cm)'][2]) & (df['target name'] == df_stats.index[2]) , :]\n",
    "  df = pd.concat([a, b, c], sort = True)\n",
    "  #return df\n",
    "\n",
    "#df = remove_small_flowers(df, df_stats)\n"
   ]
  },
  {
   "cell_type": "code",
   "execution_count": 61,
   "metadata": {},
   "outputs": [
    {
     "ename": "AssertionError",
     "evalue": "",
     "output_type": "error",
     "traceback": [
      "\u001b[0;31m---------------------------------------------------------------------------\u001b[0m",
      "\u001b[0;31mAssertionError\u001b[0m                            Traceback (most recent call last)",
      "Input \u001b[0;32mIn [61]\u001b[0m, in \u001b[0;36m<module>\u001b[0;34m\u001b[0m\n\u001b[1;32m      1\u001b[0m \u001b[38;5;66;03m# Do not modify this cell\u001b[39;00m\n\u001b[1;32m      2\u001b[0m \u001b[38;5;28;01massert\u001b[39;00m remove_small_flowers(df, df_stats) \u001b[38;5;129;01mis\u001b[39;00m \u001b[38;5;28;01mNone\u001b[39;00m\n\u001b[0;32m----> 3\u001b[0m \u001b[38;5;28;01massert\u001b[39;00m df\u001b[38;5;241m.\u001b[39mshape \u001b[38;5;241m==\u001b[39m (\u001b[38;5;241m80\u001b[39m, \u001b[38;5;241m5\u001b[39m)\n\u001b[1;32m      4\u001b[0m \u001b[38;5;28;01massert\u001b[39;00m (df[[\u001b[38;5;124m'\u001b[39m\u001b[38;5;124mpetal length (cm)\u001b[39m\u001b[38;5;124m'\u001b[39m]]\u001b[38;5;241m.\u001b[39mmin() \u001b[38;5;241m==\u001b[39m \u001b[38;5;241m1.0\u001b[39m)[\u001b[38;5;241m0\u001b[39m]\n\u001b[1;32m      5\u001b[0m \u001b[38;5;28;01massert\u001b[39;00m (df[[\u001b[38;5;124m'\u001b[39m\u001b[38;5;124mpetal length (cm)\u001b[39m\u001b[38;5;124m'\u001b[39m]]\u001b[38;5;241m.\u001b[39mmax() \u001b[38;5;241m==\u001b[39m \u001b[38;5;241m6.7\u001b[39m)[\u001b[38;5;241m0\u001b[39m]\n",
      "\u001b[0;31mAssertionError\u001b[0m: "
     ]
    }
   ],
   "source": [
    "# Do not modify this cell\n",
    "assert remove_small_flowers(df, df_stats) is None\n",
    "assert df.shape == (80, 5)\n",
    "assert (df[['petal length (cm)']].min() == 1.0)[0]\n",
    "assert (df[['petal length (cm)']].max() == 6.7)[0]"
   ]
  },
  {
   "cell_type": "markdown",
   "metadata": {},
   "source": [
    "Task 4"
   ]
  },
  {
   "cell_type": "code",
   "execution_count": 62,
   "metadata": {},
   "outputs": [
    {
     "name": "stdout",
     "output_type": "stream",
     "text": [
      "(506, 13)\n"
     ]
    },
    {
     "name": "stderr",
     "output_type": "stream",
     "text": [
      "/Users/macbookpro/Library/Python/3.8/lib/python/site-packages/sklearn/utils/deprecation.py:87: FutureWarning: Function load_boston is deprecated; `load_boston` is deprecated in 1.0 and will be removed in 1.2.\n",
      "\n",
      "    The Boston housing prices dataset has an ethical problem. You can refer to\n",
      "    the documentation of this function for further details.\n",
      "\n",
      "    The scikit-learn maintainers therefore strongly discourage the use of this\n",
      "    dataset unless the purpose of the code is to study and educate about\n",
      "    ethical issues in data science and machine learning.\n",
      "\n",
      "    In this special case, you can fetch the dataset from the original\n",
      "    source::\n",
      "\n",
      "        import pandas as pd\n",
      "        import numpy as np\n",
      "\n",
      "\n",
      "        data_url = \"http://lib.stat.cmu.edu/datasets/boston\"\n",
      "        raw_df = pd.read_csv(data_url, sep=\"\\s+\", skiprows=22, header=None)\n",
      "        data = np.hstack([raw_df.values[::2, :], raw_df.values[1::2, :2]])\n",
      "        target = raw_df.values[1::2, 2]\n",
      "\n",
      "    Alternative datasets include the California housing dataset (i.e.\n",
      "    :func:`~sklearn.datasets.fetch_california_housing`) and the Ames housing\n",
      "    dataset. You can load the datasets as follows::\n",
      "\n",
      "        from sklearn.datasets import fetch_california_housing\n",
      "        housing = fetch_california_housing()\n",
      "\n",
      "    for the California housing dataset and::\n",
      "\n",
      "        from sklearn.datasets import fetch_openml\n",
      "        housing = fetch_openml(name=\"house_prices\", as_frame=True)\n",
      "\n",
      "    for the Ames housing dataset.\n",
      "    \n",
      "  warnings.warn(msg, category=FutureWarning)\n"
     ]
    }
   ],
   "source": [
    "# Do not modify this cell\n",
    "from sklearn.datasets import load_boston\n",
    "X, y = load_boston(return_X_y=True)\n",
    "print(X.shape)"
   ]
  },
  {
   "cell_type": "code",
   "execution_count": 63,
   "metadata": {},
   "outputs": [],
   "source": [
    "col= ['CRIM', 'ZN', 'INDUS', 'CHAS', 'NOX', 'RM', 'AGE', 'DIS', 'RAD', 'TAX', 'PTRATIO', 'B', 'LSTAT']\n",
    "def get_data_frame(X, y):\n",
    "  df = pd.DataFrame(data = X, columns = col)\n",
    "  df['MEDV'] = y\n",
    "  return df"
   ]
  },
  {
   "cell_type": "code",
   "execution_count": 64,
   "metadata": {},
   "outputs": [],
   "source": [
    "# Do not modify this cell\n",
    "df = get_data_frame(X,y)\n",
    "\n",
    "assert isinstance(df, pd.DataFrame)\n",
    "assert df.shape == (506, 14)\n",
    "assert df.columns.tolist()[:3] == ['CRIM','ZN','INDUS']\n",
    "assert df.columns[-1] == 'MEDV'"
   ]
  },
  {
   "cell_type": "markdown",
   "metadata": {},
   "source": [
    "Task 5"
   ]
  },
  {
   "cell_type": "code",
   "execution_count": 65,
   "metadata": {},
   "outputs": [],
   "source": [
    "def three_less_expensive(df):\n",
    "  df = df.sort_values('MEDV')\n",
    "  return df.loc[df['CRIM'] > 0.5][:3]"
   ]
  },
  {
   "cell_type": "code",
   "execution_count": 66,
   "metadata": {},
   "outputs": [],
   "source": [
    "# Do not modify this cell\n",
    "top3 = three_less_expensive(df)\n",
    "assert top3.MEDV.mean() == 5.2  \n",
    "assert top3.INDUS.mean() == 18.1 \n",
    "assert top3.TAX.mean() == 666.0 "
   ]
  }
 ],
 "metadata": {
  "interpreter": {
   "hash": "55e8b4ad0d577b47d304ddefb219caa71f4a8a88db18b995647a62cb15e60d28"
  },
  "kernelspec": {
   "display_name": "Python 3.8.9 64-bit",
   "language": "python",
   "name": "python3"
  },
  "language_info": {
   "codemirror_mode": {
    "name": "ipython",
    "version": 3
   },
   "file_extension": ".py",
   "mimetype": "text/x-python",
   "name": "python",
   "nbconvert_exporter": "python",
   "pygments_lexer": "ipython3",
   "version": "3.8.9"
  },
  "orig_nbformat": 4
 },
 "nbformat": 4,
 "nbformat_minor": 2
}
