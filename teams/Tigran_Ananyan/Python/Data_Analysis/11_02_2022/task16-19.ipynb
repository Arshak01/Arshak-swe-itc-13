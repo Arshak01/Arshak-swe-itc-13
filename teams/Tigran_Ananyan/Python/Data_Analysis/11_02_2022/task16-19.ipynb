{
 "cells": [
  {
   "cell_type": "code",
   "execution_count": 106,
   "metadata": {},
   "outputs": [],
   "source": [
    "import numpy as np\n",
    "import pandas as pd"
   ]
  },
  {
   "cell_type": "code",
   "execution_count": 107,
   "metadata": {
    "id": "KB01YhiPcYBl"
   },
   "outputs": [
    {
     "name": "stdout",
     "output_type": "stream",
     "text": [
      "(506, 13)\n"
     ]
    },
    {
     "name": "stderr",
     "output_type": "stream",
     "text": [
      "/Users/macbookpro/Library/Python/3.8/lib/python/site-packages/sklearn/utils/deprecation.py:87: FutureWarning: Function load_boston is deprecated; `load_boston` is deprecated in 1.0 and will be removed in 1.2.\n",
      "\n",
      "    The Boston housing prices dataset has an ethical problem. You can refer to\n",
      "    the documentation of this function for further details.\n",
      "\n",
      "    The scikit-learn maintainers therefore strongly discourage the use of this\n",
      "    dataset unless the purpose of the code is to study and educate about\n",
      "    ethical issues in data science and machine learning.\n",
      "\n",
      "    In this special case, you can fetch the dataset from the original\n",
      "    source::\n",
      "\n",
      "        import pandas as pd\n",
      "        import numpy as np\n",
      "\n",
      "\n",
      "        data_url = \"http://lib.stat.cmu.edu/datasets/boston\"\n",
      "        raw_df = pd.read_csv(data_url, sep=\"\\s+\", skiprows=22, header=None)\n",
      "        data = np.hstack([raw_df.values[::2, :], raw_df.values[1::2, :2]])\n",
      "        target = raw_df.values[1::2, 2]\n",
      "\n",
      "    Alternative datasets include the California housing dataset (i.e.\n",
      "    :func:`~sklearn.datasets.fetch_california_housing`) and the Ames housing\n",
      "    dataset. You can load the datasets as follows::\n",
      "\n",
      "        from sklearn.datasets import fetch_california_housing\n",
      "        housing = fetch_california_housing()\n",
      "\n",
      "    for the California housing dataset and::\n",
      "\n",
      "        from sklearn.datasets import fetch_openml\n",
      "        housing = fetch_openml(name=\"house_prices\", as_frame=True)\n",
      "\n",
      "    for the Ames housing dataset.\n",
      "    \n",
      "  warnings.warn(msg, category=FutureWarning)\n"
     ]
    }
   ],
   "source": [
    "# Do not modify this cell\n",
    "from sklearn.datasets import load_boston\n",
    "X, y = load_boston(return_X_y=True)\n",
    "print(X.shape)"
   ]
  },
  {
   "cell_type": "markdown",
   "metadata": {
    "id": "Ov0-Jqpg2ACz"
   },
   "source": [
    "Problem11. ``'Military Expenditure.csv'`` ֆայլի տվյալները կարդացեք DataFrame-ով և վերադարձրեք առաջին 10 տողերը, ինչպես նաև ամբողջ DataFrame-ը։"
   ]
  },
  {
   "cell_type": "code",
   "execution_count": 108,
   "metadata": {
    "id": "WjMicO7f2AGu"
   },
   "outputs": [],
   "source": [
    "def read_return_top10(file_name):\n",
    "  data = pd.read_csv(file_name)\n",
    "  df = pd.DataFrame(data)\n",
    "  top10 = df[:10]\n",
    "  return top10, df"
   ]
  },
  {
   "cell_type": "code",
   "execution_count": 109,
   "metadata": {
    "id": "BhdD_dwd2AKt"
   },
   "outputs": [],
   "source": [
    "# Do not modify this cell\n",
    "top10, df = read_return_top10('Military Expenditure.csv')\n",
    "assert top10.iloc[8]['Name'] == 'Armenia'\n",
    "assert top10.shape == (10, 63)"
   ]
  },
  {
   "cell_type": "markdown",
   "metadata": {
    "id": "1umQDIiu8R4E"
   },
   "source": [
    "Military Expenditure dataset-ը պատրաստվել է Ստոկհոլմի խաղաղության միջազգային հետազոտությունների ինստիտուտի (SIPRI) կողմից և պարունակում է ավելի քան 200 պետությունների 1960-2018 թվականներին կատարած ռազմական ծախսերը դոլարներով։\n",
    "\n",
    "Problem12. Ջնջել այն տողերը որոնց 'Type' սյունը \"Country\" *չէ*։"
   ]
  },
  {
   "cell_type": "code",
   "execution_count": 110,
   "metadata": {
    "id": "77I9fD9s8R7t"
   },
   "outputs": [],
   "source": [
    "def remove_non_countries(df):\n",
    "  index = df.loc[df[\"Type\"] != \"Country\"].index\n",
    "  df.drop(index, inplace = True)"
   ]
  },
  {
   "cell_type": "code",
   "execution_count": 111,
   "metadata": {
    "id": "RrKAWAfH8R_T"
   },
   "outputs": [],
   "source": [
    "# Do not modify this cell\n",
    "assert remove_non_countries(df) is None\n",
    "assert df.Type.nunique() == 1\n",
    "assert df.shape == (202, 63)"
   ]
  },
  {
   "cell_type": "markdown",
   "metadata": {
    "id": "GkG4ZCdV8SDV"
   },
   "source": [
    "Problem13. Ջնջել 'Code', 'Type', 'Indicator Name' սյուները։"
   ]
  },
  {
   "cell_type": "code",
   "execution_count": 112,
   "metadata": {
    "id": "ZMa3faHG8SHR"
   },
   "outputs": [],
   "source": [
    "def remove_some_cols(df):\n",
    "  df.drop([\"Code\", \"Type\", \"Indicator Name\"], axis = 1, inplace = True)"
   ]
  },
  {
   "cell_type": "code",
   "execution_count": 113,
   "metadata": {
    "id": "f1I_nh2C-huU"
   },
   "outputs": [],
   "source": [
    "# Do not modify this cell\n",
    "assert remove_some_cols(df) is None\n",
    "assert df.shape == (202, 60)\n",
    "assert df.columns[1] == '1960'"
   ]
  },
  {
   "cell_type": "markdown",
   "metadata": {
    "id": "CwC6aiht-4yh"
   },
   "source": [
    "Problem14. Ստացված dataframe-ը գրել(պահպանել) 'MilitaryExpenditureSmall.csv' ֆայլի վրա **այնպես, ինչպես որ կա**։"
   ]
  },
  {
   "cell_type": "code",
   "execution_count": 114,
   "metadata": {
    "id": "WNOW65Gi-428"
   },
   "outputs": [],
   "source": [
    "#df\n",
    "def save_df(df, file_name):\n",
    "  df.to_csv(file_name, index = False)"
   ]
  },
  {
   "cell_type": "code",
   "execution_count": 115,
   "metadata": {
    "id": "bCfx11nU-47K"
   },
   "outputs": [],
   "source": [
    "# Do not modify this cell\n",
    "file_name = 'MilitaryExpenditureSmall.csv'\n",
    "save_df(df, file_name)\n",
    "small_df = pd.read_csv(file_name)\n",
    "assert small_df.iloc[0, 0] == 'Aruba'\n",
    "assert small_df.shape[1] == 60"
   ]
  },
  {
   "cell_type": "markdown",
   "metadata": {
    "id": "S_YLkrnz-4_d"
   },
   "source": [
    "Problem15. Վերադարձնել Հայաստանին համապատասխանող տողի այն տվյալները/վանդակները որոնք դատարկ չեն։"
   ]
  },
  {
   "cell_type": "code",
   "execution_count": 116,
   "metadata": {
    "id": "3DfUpEo6AvHl"
   },
   "outputs": [],
   "source": [
    "def info_arm(df):\n",
    "    index = df[df[\"Name\"] != \"Armenia\"].index\n",
    "    test = df.drop(index)\n",
    "    test = test.dropna(axis = 1)\n",
    "    return test"
   ]
  },
  {
   "cell_type": "code",
   "execution_count": 117,
   "metadata": {
    "id": "4oqBF6fnAvLZ"
   },
   "outputs": [],
   "source": [
    "# Do not modify this cell\n",
    "arm = info_arm(df)\n",
    "assert arm.shape == (1, 26)\n",
    "assert arm.iloc[:, 1:].max(axis=1).values[0] == 608854649.9\n",
    "assert '1994' not in arm.columns"
   ]
  },
  {
   "cell_type": "markdown",
   "metadata": {
    "id": "LaQ2lGT0AvPv"
   },
   "source": [
    "Problem16. Վերադարձնել DataFrame, որտեղ կլինի պետության անունը՝ որպես ինդեքս և յուրաքանչյուր պետության միջին տարեկան ծախսը՝ որպես ``'mean_expense'`` սյուն՝ գրված նվազման կարգով։  Վերջնական աղյուսակում չպետք է լինեն այնպիսի երկրներ, որոնց ծախսերի տվյալները ընդհանրապես առկա չեն կամ 0 են։"
   ]
  },
  {
   "cell_type": "code",
   "execution_count": 118,
   "metadata": {
    "id": "nGPb80DRAvSs"
   },
   "outputs": [],
   "source": [
    "def per_country_mean_expense(df):\n",
    "  df = df.set_index([\"Name\"])\n",
    "  df = df[(df.T != 0).any()]\n",
    "  df = df.mean(axis = 1).dropna(axis = 0).to_frame()\n",
    "  df = df.rename(columns={list(df)[0] : \"mean_expense\"})\n",
    "  return df.sort_values(by = 'mean_expense', ascending = False)"
   ]
  },
  {
   "cell_type": "code",
   "execution_count": 119,
   "metadata": {
    "id": "vGsnpiYSHTCx"
   },
   "outputs": [],
   "source": [
    "# Do not modify this cell\n",
    "grouped_df = per_country_mean_expense(df)\n",
    "assert grouped_df.loc['Armenia'][0] == arm.iloc[:,1:].mean(axis=1).values[0]\n",
    "assert grouped_df.shape == (164, 1)\n",
    "assert grouped_df.index[0] == 'United States'\n",
    "assert grouped_df.index[-1] == 'Haiti'"
   ]
  },
  {
   "cell_type": "markdown",
   "metadata": {
    "id": "YylBqLaCJ-21"
   },
   "source": [
    "Problem17. Տրված է ՝ $10 \\times 4$ չափնի ```pandas.DataFrame (df)```։ Հարկավոր է գրել ֆունկցիա, որը կստեղծի նոր ```pandas.DataFrame```, որի մեջ կլինեն ```df```-ի տողերն ու սյուները և 2 նոր սյուն ```nearest_row```  և ```dist``` որոնց մեջ գրված կլինեն ամենամոտիկ տողի ```index```-ը և էվկլիդյան հեռավորությունը այդ տողերի միջև։ \n"
   ]
  },
  {
   "cell_type": "markdown",
   "metadata": {},
   "source": [
    "Not done"
   ]
  },
  {
   "cell_type": "code",
   "execution_count": 131,
   "metadata": {},
   "outputs": [
    {
     "data": {
      "text/html": [
       "<div>\n",
       "<style scoped>\n",
       "    .dataframe tbody tr th:only-of-type {\n",
       "        vertical-align: middle;\n",
       "    }\n",
       "\n",
       "    .dataframe tbody tr th {\n",
       "        vertical-align: top;\n",
       "    }\n",
       "\n",
       "    .dataframe thead th {\n",
       "        text-align: right;\n",
       "    }\n",
       "</style>\n",
       "<table border=\"1\" class=\"dataframe\">\n",
       "  <thead>\n",
       "    <tr style=\"text-align: right;\">\n",
       "      <th></th>\n",
       "      <th>p</th>\n",
       "      <th>q</th>\n",
       "      <th>r</th>\n",
       "      <th>s</th>\n",
       "    </tr>\n",
       "  </thead>\n",
       "  <tbody>\n",
       "    <tr>\n",
       "      <th>a</th>\n",
       "      <td>52</td>\n",
       "      <td>93</td>\n",
       "      <td>15</td>\n",
       "      <td>72</td>\n",
       "    </tr>\n",
       "    <tr>\n",
       "      <th>b</th>\n",
       "      <td>61</td>\n",
       "      <td>21</td>\n",
       "      <td>83</td>\n",
       "      <td>87</td>\n",
       "    </tr>\n",
       "    <tr>\n",
       "      <th>c</th>\n",
       "      <td>75</td>\n",
       "      <td>75</td>\n",
       "      <td>88</td>\n",
       "      <td>24</td>\n",
       "    </tr>\n",
       "    <tr>\n",
       "      <th>d</th>\n",
       "      <td>3</td>\n",
       "      <td>22</td>\n",
       "      <td>53</td>\n",
       "      <td>2</td>\n",
       "    </tr>\n",
       "    <tr>\n",
       "      <th>e</th>\n",
       "      <td>88</td>\n",
       "      <td>30</td>\n",
       "      <td>38</td>\n",
       "      <td>2</td>\n",
       "    </tr>\n",
       "    <tr>\n",
       "      <th>f</th>\n",
       "      <td>64</td>\n",
       "      <td>60</td>\n",
       "      <td>21</td>\n",
       "      <td>33</td>\n",
       "    </tr>\n",
       "    <tr>\n",
       "      <th>g</th>\n",
       "      <td>76</td>\n",
       "      <td>58</td>\n",
       "      <td>22</td>\n",
       "      <td>89</td>\n",
       "    </tr>\n",
       "    <tr>\n",
       "      <th>h</th>\n",
       "      <td>49</td>\n",
       "      <td>91</td>\n",
       "      <td>59</td>\n",
       "      <td>42</td>\n",
       "    </tr>\n",
       "    <tr>\n",
       "      <th>i</th>\n",
       "      <td>92</td>\n",
       "      <td>60</td>\n",
       "      <td>80</td>\n",
       "      <td>15</td>\n",
       "    </tr>\n",
       "    <tr>\n",
       "      <th>j</th>\n",
       "      <td>62</td>\n",
       "      <td>62</td>\n",
       "      <td>47</td>\n",
       "      <td>62</td>\n",
       "    </tr>\n",
       "  </tbody>\n",
       "</table>\n",
       "</div>"
      ],
      "text/plain": [
       "    p   q   r   s\n",
       "a  52  93  15  72\n",
       "b  61  21  83  87\n",
       "c  75  75  88  24\n",
       "d   3  22  53   2\n",
       "e  88  30  38   2\n",
       "f  64  60  21  33\n",
       "g  76  58  22  89\n",
       "h  49  91  59  42\n",
       "i  92  60  80  15\n",
       "j  62  62  47  62"
      ]
     },
     "execution_count": 131,
     "metadata": {},
     "output_type": "execute_result"
    }
   ],
   "source": [
    "np.random.seed(42)\n",
    "df = pd.DataFrame(np.random.randint(1, 100, 40).reshape(10, -1),\n",
    "                  columns=list('pqrs'),\n",
    "                  index=list('abcdefghij'))\n",
    "new_df = pd.DataFrame(df)\n",
    "new_df"
   ]
  },
  {
   "cell_type": "code",
   "execution_count": 121,
   "metadata": {
    "id": "gEl1EDxNP8Ll"
   },
   "outputs": [],
   "source": [
    "# def add_columns(df):\n",
    "#   new_df = pd.DataFrame(df)\n",
    "#   new_df['dist'] = new_df[['p', 's']].apply(lambda row: np.linalg.norm((row.p, row.s)), axis=1)\n",
    "#   new_df.sort_values('dist', inplace=True)\n",
    "#   #new_df[\"nearest_row\", \"dist\"] = ()\n",
    "#   return new_df\n",
    "\n",
    "# add_columns(df)"
   ]
  },
  {
   "cell_type": "code",
   "execution_count": 122,
   "metadata": {
    "id": "fmLJwz_X8SLy"
   },
   "outputs": [],
   "source": [
    "# # Do not modify this cell\n",
    "# np.random.seed(42)\n",
    "# df = pd.DataFrame(np.random.randint(1, 100, 40).reshape(10, -1),\n",
    "#                   columns=list('pqrs'),\n",
    "#                   index=list('abcdefghij'))\n",
    "# new_df = add_columns(df)\n",
    "# assert isinstance(new_df, pd.DataFrame) \n",
    "# assert new_df.loc['a']['nearest_row'] == 'g' \n",
    "# assert new_df.nearest_row.value_counts()[0] == 4\n",
    "# assert id(new_df) != id(df)"
   ]
  },
  {
   "cell_type": "markdown",
   "metadata": {
    "id": "n3ZSEEqAQush"
   },
   "source": [
    "Problem18. Տրված է՝ $93 \\times 27 $ չափանի ```pandas.DataFrame (df)```։ Հարկավոր է գրել ֆունկցիա, որը կստեղծի նոր ```pandas.DataFrame```, որի մեջ կլինեն ```df```-ի տողերն ու սյուները, բացառությամբ ```Type``` սյան, որի փոխարեն կլինեն մի քանի սյուներ՝ ստացված HW4-ի 4-րդ խնդրի ֆունկցիայի միջոցով։ Սյուների անունները կլինեն ```Type``` սյան արժեքները (Midsize, Small, ...):\n"
   ]
  },
  {
   "cell_type": "markdown",
   "metadata": {},
   "source": [
    "Almust dune, dont understand what data do I have to fill new columns"
   ]
  },
  {
   "cell_type": "code",
   "execution_count": 123,
   "metadata": {},
   "outputs": [],
   "source": [
    "df = pd.read_csv(\n",
    "    'https://raw.githubusercontent.com/selva86/datasets/master/Cars93_miss.csv')"
   ]
  },
  {
   "cell_type": "code",
   "execution_count": 124,
   "metadata": {},
   "outputs": [],
   "source": [
    "\n",
    "#y= np.resize(y, (93,6))\n",
    "X\n",
    "x = np.resize(X, (93,6))\n",
    "#y"
   ]
  },
  {
   "cell_type": "code",
   "execution_count": 129,
   "metadata": {
    "id": "D09oh5NBQ95V"
   },
   "outputs": [],
   "source": [
    "def convert(df):\n",
    "  new_df = pd.DataFrame(df)\n",
    "  new_col = np.sort(df['Type'].dropna().unique())\n",
    "  new_df = new_df.drop(['Type'], axis = 1)\n",
    "  new_df[new_col] = x\n",
    "  return new_df"
   ]
  },
  {
   "cell_type": "code",
   "execution_count": 130,
   "metadata": {
    "id": "0-54pHeXQ99q"
   },
   "outputs": [],
   "source": [
    "# Do not modify this cell\n",
    "df = pd.read_csv(\n",
    "    'https://raw.githubusercontent.com/selva86/datasets/master/Cars93_miss.csv')\n",
    "new_df = convert(df)\n",
    "#assert convert(df).iloc[0]['Small'] == 1 \n",
    "assert isinstance(new_df, pd.DataFrame)\n",
    "assert id(new_df) != id(df)\n",
    "assert new_df.shape == (93, 32)\n",
    "assert new_df.columns[-5:].tolist() == ['Large', 'Midsize',\n",
    "                                        'Small', 'Sporty', 'Van']"
   ]
  },
  {
   "cell_type": "markdown",
   "metadata": {
    "id": "eUNZhXmLQ-DY"
   },
   "source": [
    "Problem19. Նախորդ խնդրում ստացված dataset-ի  ```Min.price``` և ```Max.price``` սյուների բացակայող արժեքները լրացնել համապատասխանաբար այդ սյուների  միջինով և մեդիանով՝ օգտագործելով ``apply()`` մեթոդը:\n"
   ]
  },
  {
   "cell_type": "code",
   "execution_count": 127,
   "metadata": {
    "id": "MZbU-659ScnJ"
   },
   "outputs": [],
   "source": [
    "def fill_NaN(df):\n",
    "  df = df.fillna(df[[\"Min.Price\"]].mean())\n",
    "  df = df.fillna(df[[\"Max.Price\"]].median())\n",
    "  return df"
   ]
  },
  {
   "cell_type": "code",
   "execution_count": 128,
   "metadata": {
    "id": "MdWZqsmmTKAc"
   },
   "outputs": [],
   "source": [
    "# Do not modify this cell\n",
    "assert isinstance(new_df, pd.DataFrame)\n",
    "other_df = fill_NaN(new_df)\n",
    "assert abs(other_df.iloc[3]['Min.Price'] - 17.118605) < 0.0001\n",
    "assert abs(other_df.iloc[4]['Max.Price'] - 19.15) < 0.0001"
   ]
  }
 ],
 "metadata": {
  "interpreter": {
   "hash": "31f2aee4e71d21fbe5cf8b01ff0e069b9275f58929596ceb00d14d90e3e16cd6"
  },
  "kernelspec": {
   "display_name": "Python 3.8.9 64-bit",
   "language": "python",
   "name": "python3"
  },
  "language_info": {
   "codemirror_mode": {
    "name": "ipython",
    "version": 3
   },
   "file_extension": ".py",
   "mimetype": "text/x-python",
   "name": "python",
   "nbconvert_exporter": "python",
   "pygments_lexer": "ipython3",
   "version": "3.8.9"
  },
  "orig_nbformat": 4
 },
 "nbformat": 4,
 "nbformat_minor": 2
}
