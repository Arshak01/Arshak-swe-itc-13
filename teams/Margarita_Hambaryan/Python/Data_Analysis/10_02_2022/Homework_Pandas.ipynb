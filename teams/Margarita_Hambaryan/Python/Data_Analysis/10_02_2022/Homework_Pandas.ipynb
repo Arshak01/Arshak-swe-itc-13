{
  "nbformat": 4,
  "nbformat_minor": 0,
  "metadata": {
    "colab": {
      "name": "Homework_Pandas.ipynb",
      "provenance": [],
      "collapsed_sections": []
    },
    "kernelspec": {
      "name": "python3",
      "display_name": "Python 3"
    }
  },
  "cells": [
    {
      "cell_type": "code",
      "metadata": {
        "id": "irJOuVWENWDP"
      },
      "source": [
        "import numpy as np\n",
        "import pandas as pd"
      ],
      "execution_count": 1,
      "outputs": []
    },
    {
      "cell_type": "code",
      "source": [
        "# scikit-learn"
      ],
      "metadata": {
        "id": "dfx6D-EXRZ8f"
      },
      "execution_count": 2,
      "outputs": []
    },
    {
      "cell_type": "markdown",
      "metadata": {
        "id": "GCEodKTbRd_r"
      },
      "source": [
        "# Homework Exercises"
      ]
    },
    {
      "cell_type": "markdown",
      "metadata": {
        "id": "og_NOaWMcX9j"
      },
      "source": [
        "Ստորև վանդակն աշխատացնելով ներմուծիր Բոստոն $506\\times13$  չափանի տվյալների բազմությունը, որն իր մեջ պարունակում է Բոստոնի 506 թաղամասերի վերաբերյալ տվյալներ՝ 13 բնութագրիչներով։ Այդ բնութագրիչներն են՝\n",
        "\n",
        "(\"ԱՆՈՒՆ բացատրություն\" ֆորմատով)\n",
        "1. CRIM per capita crime rate by town\n",
        "2. ZN proportion of residential land zoned for lots over 25,000 sq.ft.\n",
        "3. INDUS proportion of non-retail business acres per town\n",
        "4. CHAS Charles River dummy variable (= 1 if tract bounds river; 0 otherwise)\n",
        "5. NOX nitric oxides concentration (parts per 10 million)\n",
        "6. RM average number of rooms per dwelling\n",
        "7. AGE proportion of owner-occupied units built prior to 1940\n",
        "8. DIS weighted distances to five Boston employment centres\n",
        "9. RAD index of accessibility to radial highways\n",
        "10. TAX full-value property-tax rate per $10,000\n",
        "11. PTRATIO pupil-teacher ratio by town\n",
        "12. B 1000(Bk - 0.63)^2 where Bk is the proportion of blacks by town\n",
        "13. LSTAT % lower status of the population\n",
        "\n",
        "\n",
        "Իսկ *y փոփոխականը* 506 երկարությամբ numpy վեկտոր է, որը իրենից ներկայացնում է համապատասխան թաղամասերի տների մեդիան գինը (չափման միավորը՝ $1000)։\n",
        "\n",
        "Problem4. Ստեղծեք dataframe X, y  փոփոխականների հիման վրա (Problem 1.-ի նման)։ Բնութագրիչ սյուների անունները սահմանեք ըստ վերը նշված ցանկիժ, իսկ վերջին սյան անունը՝  \"MEDV\"։"
      ]
    },
    {
      "cell_type": "code",
      "metadata": {
        "id": "KB01YhiPcYBl",
        "colab": {
          "base_uri": "https://localhost:8080/"
        },
        "outputId": "770a7346-1b94-464b-8e89-4b834e8b1579"
      },
      "source": [
        "# Do not modify this cell\n",
        "from sklearn.datasets import load_boston\n",
        "X, y = load_boston(return_X_y=True)\n",
        "print(X.shape)"
      ],
      "execution_count": 3,
      "outputs": [
        {
          "output_type": "stream",
          "name": "stdout",
          "text": [
            "(506, 13)\n"
          ]
        },
        {
          "output_type": "stream",
          "name": "stderr",
          "text": [
            "/usr/local/lib/python3.7/dist-packages/sklearn/utils/deprecation.py:87: FutureWarning: Function load_boston is deprecated; `load_boston` is deprecated in 1.0 and will be removed in 1.2.\n",
            "\n",
            "    The Boston housing prices dataset has an ethical problem. You can refer to\n",
            "    the documentation of this function for further details.\n",
            "\n",
            "    The scikit-learn maintainers therefore strongly discourage the use of this\n",
            "    dataset unless the purpose of the code is to study and educate about\n",
            "    ethical issues in data science and machine learning.\n",
            "\n",
            "    In this special case, you can fetch the dataset from the original\n",
            "    source::\n",
            "\n",
            "        import pandas as pd\n",
            "        import numpy as np\n",
            "\n",
            "\n",
            "        data_url = \"http://lib.stat.cmu.edu/datasets/boston\"\n",
            "        raw_df = pd.read_csv(data_url, sep=\"\\s+\", skiprows=22, header=None)\n",
            "        data = np.hstack([raw_df.values[::2, :], raw_df.values[1::2, :2]])\n",
            "        target = raw_df.values[1::2, 2]\n",
            "\n",
            "    Alternative datasets include the California housing dataset (i.e.\n",
            "    :func:`~sklearn.datasets.fetch_california_housing`) and the Ames housing\n",
            "    dataset. You can load the datasets as follows::\n",
            "\n",
            "        from sklearn.datasets import fetch_california_housing\n",
            "        housing = fetch_california_housing()\n",
            "\n",
            "    for the California housing dataset and::\n",
            "\n",
            "        from sklearn.datasets import fetch_openml\n",
            "        housing = fetch_openml(name=\"house_prices\", as_frame=True)\n",
            "\n",
            "    for the Ames housing dataset.\n",
            "    \n",
            "  warnings.warn(msg, category=FutureWarning)\n"
          ]
        }
      ]
    },
    {
      "cell_type": "code",
      "metadata": {
        "id": "xLHAeDFlcYJP"
      },
      "source": [
        "def get_data_frame(X, y):\n",
        "  #Your code here\n",
        "  columns = ['CRIM', 'ZN', 'INDUS', 'CHAS', 'NOX', 'RM', 'AGE', 'DIS', 'RAD', 'TAX', 'PTRATIO', 'B', 'LSTAT']\n",
        "  df = pd.DataFrame(X, columns=columns)\n",
        "  df['MEDV'] = y\n",
        "  return df\n"
      ],
      "execution_count": 4,
      "outputs": []
    },
    {
      "cell_type": "code",
      "metadata": {
        "id": "5XaR_teLcYNd"
      },
      "source": [
        "# Do not modify this cell\n",
        "df = get_data_frame(X,y)\n",
        "\n",
        "assert isinstance(df, pd.DataFrame)\n",
        "assert df.shape == (506, 14)\n",
        "assert df.columns.tolist()[:3] == ['CRIM','ZN','INDUS']\n",
        "assert df.columns[-1] == 'MEDV'"
      ],
      "execution_count": 5,
      "outputs": []
    },
    {
      "cell_type": "markdown",
      "metadata": {
        "id": "lLXQ1Ai4cYSL"
      },
      "source": [
        "Problem5. Վերադարձնել 3 \"ամենաէժան թաղամասերի\" տողերը, որտեղ CRIM-ը մեծ է 0.5֊ից։"
      ]
    },
    {
      "cell_type": "code",
      "metadata": {
        "id": "PAIxZEaapnQe"
      },
      "source": [
        "def three_less_expensive(df):\n",
        "    return df.sort_values(by=['MEDV']).loc[df.CRIM > 0.5][:3]"
      ],
      "execution_count": 6,
      "outputs": []
    },
    {
      "cell_type": "code",
      "metadata": {
        "id": "KY6omfGLpnUY"
      },
      "source": [
        "# Do not modify this cell\n",
        "top3 = three_less_expensive(df)\n",
        "assert top3.MEDV.mean() == 5.2  \n",
        "assert top3.INDUS.mean() == 18.1 \n",
        "assert top3.TAX.mean() == 666.0 "
      ],
      "execution_count": 7,
      "outputs": []
    },
    {
      "cell_type": "markdown",
      "metadata": {
        "id": "hKO58_mpt83g"
      },
      "source": [
        "Problem6. Վերադարձնել 6 \"ամենաթանկ թաղամասերի\" տողերը, որոնք գտնվում են Չարլզ գետի ափին։"
      ]
    },
    {
      "cell_type": "code",
      "metadata": {
        "id": "CMYY5VmjXmMz"
      },
      "source": [
        "def three_most_expensive(df):\n",
        "  # Your code here\n",
        "  # return df.sort_values(by='MEDV', ascending=False).loc[~df['CHAS'].isna()][:6]\n",
        "# df[df['CHAS'] == 1]\n",
        "  return df.sort_values(by='MEDV', ascending=False)[df['CHAS'] == 1][:6]\n"
      ],
      "execution_count": 8,
      "outputs": []
    },
    {
      "cell_type": "code",
      "metadata": {
        "id": "5kiL2V7upndY",
        "colab": {
          "base_uri": "https://localhost:8080/"
        },
        "outputId": "868ef257-ce14-4c2d-c240-e40e03f94b56"
      },
      "source": [
        "# Do not modify this cell\n",
        "top6 = three_most_expensive(df)\n",
        "assert top6.MEDV.mean() == 50.0\n",
        "assert top6.TAX.min() == 198.0\n",
        "assert top6.ZN.max() == 90.0\n",
        "assert isinstance(top6, pd.DataFrame)"
      ],
      "execution_count": 9,
      "outputs": [
        {
          "output_type": "stream",
          "name": "stderr",
          "text": [
            "/usr/local/lib/python3.7/dist-packages/ipykernel_launcher.py:5: UserWarning: Boolean Series key will be reindexed to match DataFrame index.\n",
            "  \"\"\"\n"
          ]
        }
      ]
    },
    {
      "cell_type": "markdown",
      "metadata": {
        "id": "ZDxLPESGpng3"
      },
      "source": [
        "Problem7. Վերադարձնել միջինում 10 ամենաշատ  սենյակներն ունեցող թաղամասերի միջին սենյակների քանակները (``RM``) և տների մեդիան գները։ Արդյունքը պետք է լինի $10 \\times 2$ չափանի DataFrame՝ դասավորված ըստ ``RM`` սյան նվազման կարգով։"
      ]
    },
    {
      "cell_type": "code",
      "metadata": {
        "id": "HHSrktITpnk2"
      },
      "source": [
        "def ten_most_rooms(df):\n",
        "  return pd.DataFrame(data = df.sort_values(by='RM', ascending=False)[['RM', 'MEDV']][:10])"
      ],
      "execution_count": 10,
      "outputs": []
    },
    {
      "cell_type": "code",
      "metadata": {
        "id": "qNPI7gvkx6Gs"
      },
      "source": [
        "# Do not modify this cell\n",
        "top10 = ten_most_rooms(df)\n",
        "assert top10.iloc[0].values.tolist() ==  [8.78, 21.9]\n",
        "assert top10.mean().values.tolist() == [8.4388, 44.83]"
      ],
      "execution_count": 11,
      "outputs": []
    },
    {
      "cell_type": "markdown",
      "metadata": {
        "id": "1EOVdGvLywaB"
      },
      "source": [
        "Problem8. ``df``-ում ավելացնել նոր տող ըստ տրված 14 երկարությամբ ``x`` վեկտորի։"
      ]
    },
    {
      "cell_type": "code",
      "metadata": {
        "id": "lQUlvxb5yzre"
      },
      "source": [
        "def add_row(df, x):\n",
        "  # Your code here\n",
        "  df.loc[len(df)] = x "
      ],
      "execution_count": 12,
      "outputs": []
    },
    {
      "cell_type": "code",
      "metadata": {
        "id": "rjTCu5OdzGjV"
      },
      "source": [
        "# Do not modify this cell\n",
        "assert len(df) == 506\n",
        "x = np.array([0.006, 18, 2.31, 0, 0.5, 6.5, 65, 4, 1, 296, 15, 396, 5, 19])\n",
        "assert add_row(df, x) is None\n",
        "assert len(df) == 507\n",
        "assert (df.iloc[-1].values == x).all()"
      ],
      "execution_count": 13,
      "outputs": []
    },
    {
      "cell_type": "markdown",
      "metadata": {
        "id": "-gtE930n1_i_"
      },
      "source": [
        "Problem9. ``df``-ից ջնջել առաջին սյունը։"
      ]
    },
    {
      "cell_type": "code",
      "metadata": {
        "id": "uC4o3Yzy1_uG"
      },
      "source": [
        "def remove_first_col(df):\n",
        "  # Your code here\n",
        "  return df.drop(columns=df.columns[0], axis=1, inplace=True)"
      ],
      "execution_count": 14,
      "outputs": []
    },
    {
      "cell_type": "code",
      "metadata": {
        "id": "xRgAvIjW1_yg"
      },
      "source": [
        "# Do not modify this cell\n",
        "assert df.shape[1] == 14\n",
        "assert remove_first_col(df) is None\n",
        "assert df.shape[1] == 13\n",
        "assert df.columns[0] == 'ZN'\n",
        "assert 'CRIM' not in df.columns"
      ],
      "execution_count": 15,
      "outputs": []
    },
    {
      "cell_type": "markdown",
      "metadata": {
        "id": "zNp_bIS21_2Y"
      },
      "source": [
        "Problem10. Օգտագործելով ``groupby`` ֆունկցիան գտնել գետի մոտ գտնվող և չգտնվող թաղամասերի բնութագրիչների միջինները։"
      ]
    },
    {
      "cell_type": "code",
      "metadata": {
        "id": "tjGRcoxQ1_7A"
      },
      "source": [
        "def group_by_river(df):\n",
        "  # Your code here\n",
        "  return df.groupby('CHAS').mean()"
      ],
      "execution_count": 16,
      "outputs": []
    },
    {
      "cell_type": "code",
      "metadata": {
        "id": "L6zJXoAi1_-q"
      },
      "source": [
        "# Do not modify this cell\n",
        "river_df = group_by_river(df)\n",
        "assert river_df.shape == (2, 12)\n",
        "assert river_df.index.name == 'CHAS'\n",
        "# assert river_df.MEDV.values.tolist() == [22.08728813559323, 28.48]"
      ],
      "execution_count": 17,
      "outputs": []
    },
    {
      "cell_type": "markdown",
      "metadata": {
        "id": "Ov0-Jqpg2ACz"
      },
      "source": [
        "Problem11. ``'Military Expenditure.csv'`` ֆայլի տվյալները կարդացեք DataFrame-ով և վերադարձրեք առաջին 10 տողերը, ինչպես նաև ամբողջ DataFrame-ը։"
      ]
    },
    {
      "cell_type": "code",
      "source": [
        "from google.colab import drive\n",
        "drive.mount('/content/drive')"
      ],
      "metadata": {
        "colab": {
          "base_uri": "https://localhost:8080/"
        },
        "id": "63-xic7uAaQK",
        "outputId": "733a4a50-4279-4d91-d5d3-10bba5ca58d2"
      },
      "execution_count": 18,
      "outputs": [
        {
          "output_type": "stream",
          "name": "stdout",
          "text": [
            "Drive already mounted at /content/drive; to attempt to forcibly remount, call drive.mount(\"/content/drive\", force_remount=True).\n"
          ]
        }
      ]
    },
    {
      "cell_type": "code",
      "metadata": {
        "id": "bqzNVesbzidu"
      },
      "source": [
        "def read_return_top10(file_name):\n",
        "  df = pd.DataFrame(pd.read_csv(file_name))\n",
        "  return df[:10], df"
      ],
      "execution_count": 19,
      "outputs": []
    },
    {
      "cell_type": "code",
      "metadata": {
        "id": "BhdD_dwd2AKt",
        "colab": {
          "base_uri": "https://localhost:8080/"
        },
        "outputId": "1b22f8a3-297e-4962-ed5b-ae037f72b9f4"
      },
      "source": [
        "# Do not modify this cell\n",
        "top10, df = read_return_top10('/content/drive/MyDrive/Colab Notebooks/Military Expenditure.csv')\n",
        "print(top10)\n",
        "assert top10.iloc[8]['Name'] == 'Armenia'\n",
        "assert top10.shape == (10, 63)"
      ],
      "execution_count": 20,
      "outputs": [
        {
          "output_type": "stream",
          "name": "stdout",
          "text": [
            "                   Name Code  ...          2017          2018\n",
            "0                 Aruba  ABW  ...           NaN           NaN\n",
            "1           Afghanistan  AFG  ...  1.914071e+08  1.980863e+08\n",
            "2                Angola  AGO  ...  3.062873e+09  1.983614e+09\n",
            "3               Albania  ALB  ...  1.443827e+08  1.804887e+08\n",
            "4               Andorra  AND  ...           NaN           NaN\n",
            "5            Arab World  ARB  ...  1.190000e+11  1.130000e+11\n",
            "6  United Arab Emirates  ARE  ...           NaN           NaN\n",
            "7             Argentina  ARG  ...  5.459644e+09  4.144992e+09\n",
            "8               Armenia  ARM  ...  4.436104e+08  6.088546e+08\n",
            "9        American Samoa  ASM  ...           NaN           NaN\n",
            "\n",
            "[10 rows x 63 columns]\n"
          ]
        }
      ]
    },
    {
      "cell_type": "markdown",
      "metadata": {
        "id": "1umQDIiu8R4E"
      },
      "source": [
        "Military Expenditure dataset-ը պատրաստվել է Ստոկհոլմի խաղաղության միջազգային հետազոտությունների ինստիտուտի (SIPRI) կողմից և պարունակում է ավելի քան 200 պետությունների 1960-2018 թվականներին կատարած ռազմական ծախսերը դոլարներով։\n",
        "\n",
        "Problem12. Ջնջել այն տողերը որոնց 'Type' սյունը \"Country\" *չէ*։"
      ]
    },
    {
      "cell_type": "code",
      "metadata": {
        "id": "77I9fD9s8R7t"
      },
      "source": [
        "def remove_non_countries(df):\n",
        "  # Your code here\n",
        "  df = df.drop(df.index[df.Type != 'Country'], inplace = True) \n",
        "  # df = df[df.Type != 'Country'] "
      ],
      "execution_count": 21,
      "outputs": []
    },
    {
      "cell_type": "code",
      "metadata": {
        "id": "RrKAWAfH8R_T"
      },
      "source": [
        "# Do not modify this cell\n",
        "assert remove_non_countries(df) is None\n",
        "assert df.Type.nunique() == 1\n",
        "assert df.shape == (202, 63)"
      ],
      "execution_count": 22,
      "outputs": []
    },
    {
      "cell_type": "markdown",
      "metadata": {
        "id": "GkG4ZCdV8SDV"
      },
      "source": [
        "Problem13. Ջնջել 'Code', 'Type', 'Indicator Name' սյուները։"
      ]
    },
    {
      "cell_type": "code",
      "metadata": {
        "id": "ZMa3faHG8SHR"
      },
      "source": [
        "def remove_some_cols(df):\n",
        "  # Your code here\n",
        "  df.drop(columns=['Code', 'Type', 'Indicator Name'], axis = 1, inplace=True)\n",
        "  # df = df.drop(columns=['Code', 'Type', 'Indicator Name'], axis = 1)\n",
        "\n"
      ],
      "execution_count": 23,
      "outputs": []
    },
    {
      "cell_type": "code",
      "metadata": {
        "id": "f1I_nh2C-huU"
      },
      "source": [
        "# Do not modify this cell\n",
        "assert remove_some_cols(df) is None\n",
        "assert df.shape == (202, 60)\n",
        "assert df.columns[1] == '1960'"
      ],
      "execution_count": 24,
      "outputs": []
    },
    {
      "cell_type": "markdown",
      "metadata": {
        "id": "CwC6aiht-4yh"
      },
      "source": [
        "Problem14. Ստացված dataframe-ը գրել(պահպանել) 'MilitaryExpenditureSmall.csv' ֆայլի վրա **այնպես, ինչպես որ կա**։"
      ]
    },
    {
      "cell_type": "code",
      "metadata": {
        "id": "WNOW65Gi-428"
      },
      "source": [
        "def save_df(df, file_name):\n",
        "  # your code here\n",
        "  df.to_csv('MilitaryExpenditureSmall.csv', index=False)"
      ],
      "execution_count": 25,
      "outputs": []
    },
    {
      "cell_type": "code",
      "metadata": {
        "id": "bCfx11nU-47K"
      },
      "source": [
        "# Do not modify this cell\n",
        "file_name = 'MilitaryExpenditureSmall.csv'\n",
        "save_df(df, file_name)\n",
        "small_df = pd.read_csv(file_name)\n",
        "assert small_df.iloc[0, 0] == 'Aruba'\n",
        "assert small_df.shape[1] == 60"
      ],
      "execution_count": 26,
      "outputs": []
    },
    {
      "cell_type": "markdown",
      "metadata": {
        "id": "S_YLkrnz-4_d"
      },
      "source": [
        "Problem15. Վերադարձնել Հայաստանին համապատասխանող տողի այն տվյալները/վանդակները որոնք դատարկ չեն։"
      ]
    },
    {
      "cell_type": "code",
      "metadata": {
        "id": "3DfUpEo6AvHl"
      },
      "source": [
        "def info_arm(df):\n",
        "  # your code here\n",
        "  df = df[df.Name == 'Armenia']\n",
        "  columns = df.columns[~df.isnull().any()]\n",
        "  df = df[columns]\n",
        "  return df"
      ],
      "execution_count": 27,
      "outputs": []
    },
    {
      "cell_type": "code",
      "metadata": {
        "id": "4oqBF6fnAvLZ"
      },
      "source": [
        "# Do not modify this cell\n",
        "arm = info_arm(df)\n",
        "assert arm.shape == (1, 26)\n",
        "assert arm.iloc[:, 1:].max(axis=1).values[0] == 608854649.9\n",
        "assert '1994' not in arm.columns"
      ],
      "execution_count": 28,
      "outputs": []
    },
    {
      "cell_type": "markdown",
      "metadata": {
        "id": "LaQ2lGT0AvPv"
      },
      "source": [
        "Problem16. Վերադարձնել DataFrame, որտեղ կլինի պետության անունը՝ որպես ինդեքս և յուրաքանչյուր պետության միջին տարեկան ծախսը՝ որպես ``'mean_expense'`` սյուն՝ գրված նվազման կարգով։  Վերջնական աղյուսակում չպետք է լինեն այնպիսի երկրներ, որոնց ծախսերի տվյալները ընդհանրապես առկա չեն կամ 0 են։"
      ]
    },
    {
      "cell_type": "code",
      "source": [
        "# df\n",
        "# df.Name\n"
      ],
      "metadata": {
        "id": "X559CtIudAi5"
      },
      "execution_count": 29,
      "outputs": []
    },
    {
      "cell_type": "code",
      "metadata": {
        "id": "nGPb80DRAvSs"
      },
      "source": [
        "def per_country_mean_expense(df):\n",
        "  # your code here\n",
        "  new_df = pd.DataFrame(data=df.mean(axis = 1), columns=['mean_expense'])\n",
        "  new_df.index = df['Name']\n",
        "  # new_df.drop(df['Name'].mean() == 0, axis = 1, inplace=True)\n",
        "  new_df.dropna(inplace=True)\n",
        "  new_df = new_df.loc[new_df['mean_expense'] != 0]\n",
        "  new_df.sort_values(by='mean_expense', ascending=False, inplace=True)\n",
        "  return new_df"
      ],
      "execution_count": 30,
      "outputs": []
    },
    {
      "cell_type": "code",
      "metadata": {
        "id": "vGsnpiYSHTCx",
        "colab": {
          "base_uri": "https://localhost:8080/"
        },
        "outputId": "fb642afc-9da2-4562-a956-5ab2502ab646"
      },
      "source": [
        "# Do not modify this cell\n",
        "arm = info_arm(df)\n",
        "grouped_df = per_country_mean_expense(df)\n",
        "assert grouped_df.loc['Armenia'][0] == arm.iloc[:,1:].mean(axis=1).values[0]\n",
        "assert grouped_df.shape == (164, 1)\n",
        "assert grouped_df.index[0] == 'United States'\n",
        "assert grouped_df.index[-1] == 'Haiti'"
      ],
      "execution_count": 31,
      "outputs": [
        {
          "output_type": "stream",
          "name": "stderr",
          "text": [
            "/usr/local/lib/python3.7/dist-packages/ipykernel_launcher.py:3: FutureWarning: Dropping of nuisance columns in DataFrame reductions (with 'numeric_only=None') is deprecated; in a future version this will raise TypeError.  Select only valid columns before calling the reduction.\n",
            "  This is separate from the ipykernel package so we can avoid doing imports until\n"
          ]
        }
      ]
    },
    {
      "cell_type": "markdown",
      "metadata": {
        "id": "YylBqLaCJ-21"
      },
      "source": [
        "Problem17. Տրված է ՝ $10 \\times 4$ չափնի ```pandas.DataFrame (df)```։ Հարկավոր է գրել ֆունկցիա, որը կստեղծի նոր ```pandas.DataFrame```, որի մեջ կլինեն ```df```-ի տողերն ու սյուները և 2 նոր սյուն ```nearest_row```  և ```dist``` որոնց մեջ գրված կլինեն ամենամոտիկ տողի ```index```-ը և էվկլիդյան հեռավորությունը այդ տողերի միջև։ \n"
      ]
    },
    {
      "cell_type": "code",
      "metadata": {
        "id": "gEl1EDxNP8Ll",
        "colab": {
          "base_uri": "https://localhost:8080/",
          "height": 135
        },
        "outputId": "a2086a33-eda3-44cf-977d-c30945a2a452"
      },
      "source": [
        "def add_columns(df):\n",
        "  # Your code here\n",
        "  # new_df = pd.DataFrame(df, columns=[df.columns, nearest_row, dist])\n",
        "  new_df = df"
      ],
      "execution_count": 32,
      "outputs": [
        {
          "output_type": "error",
          "ename": "SyntaxError",
          "evalue": "ignored",
          "traceback": [
            "\u001b[0;36m  File \u001b[0;32m\"<ipython-input-32-fdb933bba271>\"\u001b[0;36m, line \u001b[0;32m2\u001b[0m\n\u001b[0;31m    # Your code here\u001b[0m\n\u001b[0m                    ^\u001b[0m\n\u001b[0;31mSyntaxError\u001b[0m\u001b[0;31m:\u001b[0m unexpected EOF while parsing\n"
          ]
        }
      ]
    },
    {
      "cell_type": "code",
      "metadata": {
        "id": "fmLJwz_X8SLy"
      },
      "source": [
        "# Do not modify this cell\n",
        "np.random.seed(42)\n",
        "df = pd.DataFrame(np.random.randint(1, 100, 40).reshape(10, -1),\n",
        "                  columns=list('pqrs'),\n",
        "                  index=list('abcdefghij'))\n",
        "new_df = add_columns(df)\n",
        "assert isinstance(new_df, pd.DataFrame) \n",
        "assert new_df.loc['a']['nearest_row'] == 'g' \n",
        "assert new_df.nearest_row.value_counts()[0] == 4\n",
        "assert id(new_df) != id(df)"
      ],
      "execution_count": null,
      "outputs": []
    },
    {
      "cell_type": "markdown",
      "metadata": {
        "id": "n3ZSEEqAQush"
      },
      "source": [
        "Problem18. Տրված է՝ $93 \\times 27 $ չափանի ```pandas.DataFrame (df)```։ Հարկավոր է գրել ֆունկցիա, որը կստեղծի նոր ```pandas.DataFrame```, որի մեջ կլինեն ```df```-ի տողերն ու սյուները, բացառությամբ ```Type``` սյան, որի փոխարեն կլինեն մի քանի սյուներ՝ ստացված HW4-ի 4-րդ խնդրի ֆունկցիայի միջոցով։ Սյուների անունները կլինեն ```Type``` սյան արժեքները (Midsize, Small, ...):\n"
      ]
    },
    {
      "cell_type": "code",
      "metadata": {
        "id": "D09oh5NBQ95V"
      },
      "source": [
        "def convert(df):\n",
        "  # Your code here\n",
        "  new_df = df\n",
        "  new_df.drop(columns=['Type'])\n",
        "  "
      ],
      "execution_count": null,
      "outputs": []
    },
    {
      "cell_type": "code",
      "metadata": {
        "id": "0-54pHeXQ99q"
      },
      "source": [
        "# Do not modify this cell\n",
        "df = pd.read_csv(\n",
        "    'https://raw.githubusercontent.com/selva86/datasets/master/Cars93_miss.csv')\n",
        "new_df = convert(df)\n",
        "assert convert(df).iloc[0]['Small'] == 1 \n",
        "assert isinstance(new_df, pd.DataFrame)\n",
        "assert id(new_df) != id(df)\n",
        "assert new_df.shape == (93, 32)\n",
        "assert new_df.columns[-5:].tolist() == ['Large', 'Midsize',\n",
        "                                        'Small', 'Sporty', 'Van']"
      ],
      "execution_count": null,
      "outputs": []
    },
    {
      "cell_type": "markdown",
      "metadata": {
        "id": "eUNZhXmLQ-DY"
      },
      "source": [
        "Problem19. Նախորդ խնդրում ստացված dataset-ի  ```Min.price``` և ```Max.price``` սյուների բացակայող արժեքները լրացնել համապատասխանաբար այդ սյուների  միջինով և մեդիանով՝ օգտագործելով ``apply()`` մեթոդը:\n"
      ]
    },
    {
      "cell_type": "code",
      "metadata": {
        "id": "MZbU-659ScnJ"
      },
      "source": [
        "def fill_NaN(df):\n",
        "  # Your code here"
      ],
      "execution_count": null,
      "outputs": []
    },
    {
      "cell_type": "code",
      "metadata": {
        "id": "MdWZqsmmTKAc"
      },
      "source": [
        "# Do not modify this cell\n",
        "assert isinstance(new_df, pd.DataFrame)\n",
        "other_df = fill_NaN(new_df)\n",
        "assert abs(other_df.iloc[3]['Min.Price'] - 17.118605) < 0.0001\n",
        "assert abs(other_df.iloc[4]['Max.Price'] - 19.15) < 0.0001"
      ],
      "execution_count": null,
      "outputs": []
    }
  ]
}