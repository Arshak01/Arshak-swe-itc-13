{
 "cells": [
  {
   "cell_type": "code",
   "execution_count": null,
   "metadata": {},
   "outputs": [],
   "source": [
    "import numpy as np"
   ]
  },
  {
   "cell_type": "markdown",
   "metadata": {},
   "source": [
    "Task 4. Given a numpy array 'a' that contains n elements, denote by b the set of its unique values ​​in ascending order, denote by m the size of array b. You need to create a numpy array with dimensions $n \\times m$, in each row of which there must be a value of 1 in case it is equal to the value of the given index of array b, in other places it must be 0."
   ]
  },
  {
   "cell_type": "code",
   "execution_count": null,
   "metadata": {},
   "outputs": [],
   "source": [
    "def convert(a):\n",
    "    b = np.unique(a)\n",
    "    n=len(a)\n",
    "    m= len(b)\n",
    "    try:\n",
    "        newArr = np.zeros((n,m),dtype='int')\n",
    "        for i in range(n):\n",
    "            for j in range(m):\n",
    "                if a[i] == b[j]:\n",
    "                    newArr[i][j] = 1\n",
    "        return newArr\n",
    "    except ValueError:\n",
    "        return \"ValueError\"\n",
    "\n",
    "\n",
    "\n",
    "assert np.all(convert(np.array([0, 0, 2, 3, 2, 4])) ==\n",
    "              [[1, 0, 0, 0],\n",
    "               [1, 0, 0, 0],\n",
    "               [0, 1, 0, 0],\n",
    "               [0, 0, 1, 0],\n",
    "               [0, 1, 0, 0],\n",
    "               [0, 0, 0, 1]])\n",
    "\n",
    "assert np.all(convert(np.array([-np.pi, 9])) ==\n",
    "              [[1, 0],\n",
    "               [0, 1]])\n",
    "\n",
    "assert np.all(convert(np.array([-1, 1, 9, 10])) ==\n",
    "              [[1, 0, 0, 0],\n",
    "               [0, 1, 0, 0],\n",
    "               [0, 0, 1, 0],\n",
    "               [0, 0, 0, 1]])\n",
    "\n",
    "assert np.all(convert(np.array([np.sqrt(2), np.sqrt(2), np.sqrt(2)])) ==\n",
    "              [[1],\n",
    "               [1],\n",
    "               [1]])\n"
   ]
  },
  {
   "cell_type": "markdown",
   "metadata": {},
   "source": [
    "Task 5. Given a 2D numpy array 'a' of sizes $n \\times m$. You need to pad the matrix with 0s so that the dimensions of the matrix become  $(n+2n_1) \\times (m+2m_1)$"
   ]
  },
  {
   "cell_type": "code",
   "execution_count": null,
   "metadata": {},
   "outputs": [],
   "source": [
    "def padding(a, n1, m1):\n",
    "    try:\n",
    "        res = np.pad(a, [(n1, n1), (m1, m1)])\n",
    "        return res\n",
    "    except ValueError:\n",
    "        return \"ValueError\"\n",
    "\n",
    "a = np.array([[1, 1], [1, 1]])\n",
    "n1 = 1\n",
    "m1 = 2\n",
    "\n",
    "assert np.all(padding(np.array([[1, 1], [1, 1]]), 1, 2) ==\n",
    "              [[0, 0, 0, 0, 0, 0],\n",
    "               [0, 0, 1, 1, 0, 0],\n",
    "               [0, 0, 1, 1, 0, 0],\n",
    "               [0, 0, 0, 0, 0, 0]])\n",
    "\n",
    "assert np.all(padding(np.array([[1, 2], [1, 1]]), 0, 2) ==\n",
    "              [[0, 0, 1, 2, 0, 0],\n",
    "               [0, 0, 1, 1, 0, 0]])\n",
    "\n",
    "assert np.all(padding(np.array([[9]]), 2, 2) ==\n",
    "              [[0, 0, 0, 0, 0],\n",
    "               [0, 0, 0, 0, 0],\n",
    "               [0, 0, 9, 0, 0],\n",
    "               [0, 0, 0, 0, 0],\n",
    "               [0, 0, 0, 0, 0]])\n"
   ]
  },
  {
   "cell_type": "markdown",
   "metadata": {},
   "source": [
    "Task 6. Given a 2D numpy array 'a' of sizes $n \\times m$ and a 1D numpy array 'b' of size m. You need to find the distance(Euclidean) of the 'b' vector from the rows of the 'a' matrix. Fill the results in the numpy array.\n",
    "Extra points for writing without a loop."
   ]
  },
  {
   "cell_type": "code",
   "execution_count": null,
   "metadata": {},
   "outputs": [],
   "source": [
    "def dist(a,b):\n",
    "    if len(a[0]) != len(b):\n",
    "        return \"DimensionError\"\n",
    "    result = np.sqrt((np.square(a[:,np.newaxis]-b).sum(axis=2)))\n",
    "    z = np.array([])\n",
    "    for x in result:\n",
    "            z = np.append(z,x)\n",
    "    return z\n",
    "\n",
    "\n",
    "a, b = np.array([[1, 1],\n",
    "                 [0, 1],\n",
    "                 [1, 3],\n",
    "                 [4, 5]]), np.array([1, 1])\n",
    "\n",
    "assert np.all(dist(a, b) == [0., 1., 2., 5.])\n",
    "\n",
    "a, b = np.array([[np.e, 0, 1.5],\n",
    "                 [0, 1, -10]]), np.array([1, 3.14, 0])\n",
    "assert np.all(np.round(dist(a, b)) == [4, 10])\n",
    "\n",
    "a, b = np.array([[1, 1],\n",
    "                 [0, 1]]), np.array([1, 1, 1])\n",
    "assert dist(a, b) == \"DimensionError\""
   ]
  },
  {
   "cell_type": "markdown",
   "metadata": {},
   "source": [
    "Task 7. Given a 2D numpy array 'a' of sizes $m \\times n$ whose each line is labeled with 0 or 1 numbers and a  vector  (of size n) which is not labeled. You need to find the appropriate label for 'b'. In the 'a' matrix, find the line closest to 'b' (according to the Euclidean distance) and label 'b' with the label of that line."
   ]
  },
  {
   "cell_type": "code",
   "execution_count": null,
   "metadata": {},
   "outputs": [],
   "source": [
    "def predict_label(a,labels,b):\n",
    "    if len(a[0]) != len(b):\n",
    "        return (\"DimensionError\")\n",
    "    else:\n",
    "        z = np.array(range(len(labels)))\n",
    "        result = np.sqrt((np.square(a[:,np.newaxis]-b).sum(axis=2)))\n",
    "        z = result\n",
    "        result = np.argmin(z)\n",
    "        return(labels[result])\n",
    "\n",
    "a = np.array([[1, -2],\n",
    "              [2, 5],\n",
    "              [-3, -10],\n",
    "              [3, 2],\n",
    "              [3, 2],\n",
    "              [0, 1]])\n",
    "labels = np.array([0, 1, 0, 1, 1, 0])\n",
    "\n",
    "assert predict_label(a, labels, np.array([10, 10])) == 1\n",
    "assert predict_label(a, labels, np.array([10, -10])) == 0\n",
    "assert predict_label(a, labels, np.array([10, -1])) == 1\n",
    "assert predict_label(a, labels, np.array([1, 1, 0])) == \"DimensionError\"\n",
    "\n",
    "a = np.array([[0, 1, -2],\n",
    "              [2, 1, 5],\n",
    "              [-3, 3.5, -10],\n",
    "              [3, 2, 9],\n",
    "              [3, -2, 9]])\n",
    "labels = np.array([0, 1, 0, 1, 1])\n",
    "assert predict_label(a, labels, np.array([1])) == \"DimensionError\"\n",
    "assert predict_label(a, labels, np.array([1, 1, 0])) == 0\n",
    "assert predict_label(a, labels, np.array([1, 1, 10])) == 1"
   ]
  },
  {
   "cell_type": "markdown",
   "metadata": {},
   "source": [
    "Task 8. Given a 2D numpy array 'a' of sizes $m \\times n$ with missing elements (NAN) and a string 'mode' $\\in$ {\"mean\",\"min\",\"max\"}. You need to write the {\"mean\",\"min\",\"max\"} ('mode') of the corresponding column instead of the missing elements."
   ]
  },
  {
   "cell_type": "code",
   "execution_count": null,
   "metadata": {},
   "outputs": [],
   "source": [
    "def fill(a, mode):\n",
    "    copyArr = np.copy(a)\n",
    "    if mode == \"mean\":\n",
    "        mode = np.nanmean(copyArr, axis=0)\n",
    "    elif mode == \"min\":\n",
    "        mode = np.nanmin(copyArr, axis=0)\n",
    "    elif mode == \"max\":\n",
    "        mode = np.nanmax(copyArr, axis=0)\n",
    "    inds = np.where(np.isnan(copyArr))\n",
    "    copyArr[inds] = np.take(mode, inds[1])\n",
    "    return copyArr\n",
    "\n",
    "a = np.array([[np.nan, 200, 10],\n",
    "              [2, 110, np.nan],\n",
    "              [0, 120, 11],\n",
    "              [0, 400, np.nan],\n",
    "              [1, np.nan, 9]])\n",
    "\n",
    "assert np.all(fill(a, \"mean\") ==\n",
    "              [[0.75, 200.,  10.],\n",
    "               [2., 110.,  10.],\n",
    "               [0., 120.,  11.],\n",
    "               [0., 400.,  10.],\n",
    "               [1., 207.5,   9.]])\n",
    "\n",
    "assert np.all(fill(a, \"min\") ==\n",
    "              [[0., 200.,  10.],\n",
    "               [2., 110.,   9.],\n",
    "               [0., 120.,  11.],\n",
    "               [0., 400.,   9.],\n",
    "               [1., 110.,   9.]])\n",
    "\n",
    "assert np.all(fill(a, \"max\") ==\n",
    "              [[2., 200.,  10.],\n",
    "               [2., 110.,  11.],\n",
    "               [0., 120.,  11.],\n",
    "               [0., 400.,  11.],\n",
    "               [1., 400.,   9.]])"
   ]
  },
  {
   "cell_type": "markdown",
   "metadata": {},
   "source": [
    "Task 9. Write a function to return a 2d array of given size with 1s on the border and 0s inside."
   ]
  },
  {
   "cell_type": "code",
   "execution_count": null,
   "metadata": {},
   "outputs": [],
   "source": [
    "def zero_one(x):\n",
    "    arr = np.zeros((x, x))\n",
    "\n",
    "    for i in  range(x):\n",
    "        for j in range(x):\n",
    "            if (arr[0][j] == 0) or (arr[i][0]==0) or j == x-1 or i == x-1 :\n",
    "                arr[i][j] = 1\n",
    "    return arr\n",
    "\n",
    "\n",
    "assert np.array_equal(zero_one(3), np.array([[1., 1., 1.],\n",
    "                                            [1., 0., 1.],\n",
    "                                            [1., 1., 1.]]))\n",
    "assert np.array_equal(zero_one(4), np.array([[1., 1., 1., 1],\n",
    "                                            [1., 0., 0., 1],\n",
    "                                            [1., 0., 0., 1],\n",
    "                                            [1., 1., 1., 1]]))\n"
   ]
  }
 ],
 "metadata": {
  "interpreter": {
   "hash": "916dbcbb3f70747c44a77c7bcd40155683ae19c65e1c03b4aa3499c5328201f1"
  },
  "kernelspec": {
   "display_name": "Python 3.8.10 64-bit",
   "language": "python",
   "name": "python3"
  },
  "language_info": {
   "codemirror_mode": {
    "name": "ipython",
    "version": 3
   },
   "file_extension": ".py",
   "mimetype": "text/x-python",
   "name": "python",
   "nbconvert_exporter": "python",
   "pygments_lexer": "ipython3",
   "version": "3.8.10"
  },
  "orig_nbformat": 4
 },
 "nbformat": 4,
 "nbformat_minor": 2
}
